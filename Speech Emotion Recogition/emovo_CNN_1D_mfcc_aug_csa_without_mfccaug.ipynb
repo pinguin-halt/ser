{
 "cells": [
  {
   "cell_type": "code",
   "execution_count": 19,
   "metadata": {
    "_cell_guid": "b1076dfc-b9ad-4769-8c92-a6c4dae69d19",
    "_uuid": "8f2839f25d086af736a60e9eeb907d3b93b6e0e5",
    "execution": {
     "iopub.execute_input": "2024-05-14T00:39:44.263536Z",
     "iopub.status.busy": "2024-05-14T00:39:44.262497Z",
     "iopub.status.idle": "2024-05-14T00:39:44.275794Z",
     "shell.execute_reply": "2024-05-14T00:39:44.274724Z",
     "shell.execute_reply.started": "2024-05-14T00:39:44.263492Z"
    },
    "trusted": true
   },
   "outputs": [
    {
     "name": "stdout",
     "output_type": "stream",
     "text": [
      "Done\n"
     ]
    }
   ],
   "source": [
    "\n",
    "import pandas as pd\n",
    "import numpy as np\n",
    "\n",
    "import os\n",
    "import sys\n",
    "\n",
    "# librosa is a Python library for analyzing audio and music. It can be used to extract the data from the audio files we will see it later.\n",
    "import librosa\n",
    "import librosa.display\n",
    "import seaborn as sns\n",
    "import matplotlib.pyplot as plt\n",
    "\n",
    "from sklearn.preprocessing import StandardScaler, OneHotEncoder\n",
    "from sklearn.metrics import confusion_matrix, classification_report\n",
    "from sklearn.model_selection import train_test_split\n",
    "from tensorflow.keras.callbacks import EarlyStopping, ReduceLROnPlateau\n",
    "# to play the audio files\n",
    "import IPython.display as ipd\n",
    "from IPython.display import Audio\n",
    "import keras\n",
    "from keras.preprocessing import sequence\n",
    "from keras.models import Sequential\n",
    "from keras.layers import Dense, Embedding\n",
    "from keras.layers import LSTM,BatchNormalization , GRU\n",
    "from tensorflow.keras.preprocessing.text import Tokenizer\n",
    "from keras.preprocessing.sequence import pad_sequences\n",
    "from tensorflow.keras.utils import to_categorical\n",
    "from keras.layers import Input, Flatten, Dropout, Activation\n",
    "from keras.layers import Conv1D, MaxPooling1D, AveragePooling1D\n",
    "from keras.models import Model\n",
    "from keras.callbacks import ModelCheckpoint\n",
    "from tensorflow.keras.optimizers import SGD\n",
    "from tensorflow.keras.preprocessing.image import ImageDataGenerator\n",
    "\n",
    "\n",
    "import warnings\n",
    "if not sys.warnoptions:\n",
    "    warnings.simplefilter(\"ignore\")\n",
    "warnings.filterwarnings(\"ignore\", category=DeprecationWarning) \n",
    "import tensorflow as tf \n",
    "print (\"Done\")"
   ]
  },
  {
   "cell_type": "code",
   "execution_count": 20,
   "metadata": {
    "execution": {
     "iopub.execute_input": "2024-05-14T00:53:20.309965Z",
     "iopub.status.busy": "2024-05-14T00:53:20.309679Z",
     "iopub.status.idle": "2024-05-14T00:53:23.936900Z",
     "shell.execute_reply": "2024-05-14T00:53:23.935933Z",
     "shell.execute_reply.started": "2024-05-14T00:53:20.309937Z"
    },
    "trusted": true
   },
   "outputs": [],
   "source": [
    "Emotions = pd.read_csv(r'C:\\Users\\addmin\\Downloads\\SER_Additional_Experiments\\emovo_emotions_without_augmfcc1.csv')"
   ]
  },
  {
   "cell_type": "code",
   "execution_count": 21,
   "metadata": {
    "execution": {
     "iopub.execute_input": "2024-05-14T00:53:23.965278Z",
     "iopub.status.busy": "2024-05-14T00:53:23.965004Z",
     "iopub.status.idle": "2024-05-14T00:53:24.045089Z",
     "shell.execute_reply": "2024-05-14T00:53:24.044099Z",
     "shell.execute_reply.started": "2024-05-14T00:53:23.965252Z"
    },
    "trusted": true
   },
   "outputs": [],
   "source": [
    "Emotions=Emotions.fillna(0)"
   ]
  },
  {
   "cell_type": "code",
   "execution_count": 22,
   "metadata": {},
   "outputs": [
    {
     "data": {
      "text/html": [
       "<div>\n",
       "<style scoped>\n",
       "    .dataframe tbody tr th:only-of-type {\n",
       "        vertical-align: middle;\n",
       "    }\n",
       "\n",
       "    .dataframe tbody tr th {\n",
       "        vertical-align: top;\n",
       "    }\n",
       "\n",
       "    .dataframe thead th {\n",
       "        text-align: right;\n",
       "    }\n",
       "</style>\n",
       "<table border=\"1\" class=\"dataframe\">\n",
       "  <thead>\n",
       "    <tr style=\"text-align: right;\">\n",
       "      <th></th>\n",
       "      <th>0</th>\n",
       "      <th>1</th>\n",
       "      <th>2</th>\n",
       "      <th>3</th>\n",
       "      <th>4</th>\n",
       "      <th>5</th>\n",
       "      <th>6</th>\n",
       "      <th>7</th>\n",
       "      <th>8</th>\n",
       "      <th>9</th>\n",
       "      <th>...</th>\n",
       "      <th>99</th>\n",
       "      <th>100</th>\n",
       "      <th>101</th>\n",
       "      <th>102</th>\n",
       "      <th>103</th>\n",
       "      <th>104</th>\n",
       "      <th>105</th>\n",
       "      <th>106</th>\n",
       "      <th>107</th>\n",
       "      <th>Emotions</th>\n",
       "    </tr>\n",
       "  </thead>\n",
       "  <tbody>\n",
       "    <tr>\n",
       "      <th>0</th>\n",
       "      <td>0.031738</td>\n",
       "      <td>0.050781</td>\n",
       "      <td>0.081543</td>\n",
       "      <td>0.118164</td>\n",
       "      <td>0.127930</td>\n",
       "      <td>0.123047</td>\n",
       "      <td>0.106934</td>\n",
       "      <td>0.073730</td>\n",
       "      <td>0.065430</td>\n",
       "      <td>0.063965</td>\n",
       "      <td>...</td>\n",
       "      <td>0.000000</td>\n",
       "      <td>0.000000</td>\n",
       "      <td>0.000000</td>\n",
       "      <td>0.000000</td>\n",
       "      <td>0.000000</td>\n",
       "      <td>0.000000</td>\n",
       "      <td>0.000000</td>\n",
       "      <td>0.000000</td>\n",
       "      <td>0.000000</td>\n",
       "      <td>Disgust</td>\n",
       "    </tr>\n",
       "    <tr>\n",
       "      <th>1</th>\n",
       "      <td>0.035156</td>\n",
       "      <td>0.094727</td>\n",
       "      <td>0.164551</td>\n",
       "      <td>0.189941</td>\n",
       "      <td>0.184570</td>\n",
       "      <td>0.152832</td>\n",
       "      <td>0.109375</td>\n",
       "      <td>0.098145</td>\n",
       "      <td>0.100098</td>\n",
       "      <td>0.087402</td>\n",
       "      <td>...</td>\n",
       "      <td>0.000000</td>\n",
       "      <td>0.000000</td>\n",
       "      <td>0.000000</td>\n",
       "      <td>0.000000</td>\n",
       "      <td>0.000000</td>\n",
       "      <td>0.000000</td>\n",
       "      <td>0.000000</td>\n",
       "      <td>0.000000</td>\n",
       "      <td>0.000000</td>\n",
       "      <td>Disgust</td>\n",
       "    </tr>\n",
       "    <tr>\n",
       "      <th>2</th>\n",
       "      <td>0.031738</td>\n",
       "      <td>0.050781</td>\n",
       "      <td>0.081543</td>\n",
       "      <td>0.118164</td>\n",
       "      <td>0.127930</td>\n",
       "      <td>0.123047</td>\n",
       "      <td>0.106934</td>\n",
       "      <td>0.073730</td>\n",
       "      <td>0.065430</td>\n",
       "      <td>0.063965</td>\n",
       "      <td>...</td>\n",
       "      <td>0.000000</td>\n",
       "      <td>0.000000</td>\n",
       "      <td>0.000000</td>\n",
       "      <td>0.000000</td>\n",
       "      <td>0.000000</td>\n",
       "      <td>0.000000</td>\n",
       "      <td>0.000000</td>\n",
       "      <td>0.000000</td>\n",
       "      <td>0.000000</td>\n",
       "      <td>Disgust</td>\n",
       "    </tr>\n",
       "    <tr>\n",
       "      <th>3</th>\n",
       "      <td>0.021484</td>\n",
       "      <td>0.034180</td>\n",
       "      <td>0.073730</td>\n",
       "      <td>0.073242</td>\n",
       "      <td>0.068848</td>\n",
       "      <td>0.193359</td>\n",
       "      <td>0.219727</td>\n",
       "      <td>0.221191</td>\n",
       "      <td>0.233887</td>\n",
       "      <td>0.122559</td>\n",
       "      <td>...</td>\n",
       "      <td>0.000000</td>\n",
       "      <td>0.000000</td>\n",
       "      <td>0.000000</td>\n",
       "      <td>0.000000</td>\n",
       "      <td>0.000000</td>\n",
       "      <td>0.000000</td>\n",
       "      <td>0.000000</td>\n",
       "      <td>0.000000</td>\n",
       "      <td>0.000000</td>\n",
       "      <td>Disgust</td>\n",
       "    </tr>\n",
       "    <tr>\n",
       "      <th>4</th>\n",
       "      <td>0.020508</td>\n",
       "      <td>0.041992</td>\n",
       "      <td>0.068359</td>\n",
       "      <td>0.121582</td>\n",
       "      <td>0.215332</td>\n",
       "      <td>0.290527</td>\n",
       "      <td>0.309570</td>\n",
       "      <td>0.276855</td>\n",
       "      <td>0.203613</td>\n",
       "      <td>0.129395</td>\n",
       "      <td>...</td>\n",
       "      <td>0.000000</td>\n",
       "      <td>0.000000</td>\n",
       "      <td>0.000000</td>\n",
       "      <td>0.000000</td>\n",
       "      <td>0.000000</td>\n",
       "      <td>0.000000</td>\n",
       "      <td>0.000000</td>\n",
       "      <td>0.000000</td>\n",
       "      <td>0.000000</td>\n",
       "      <td>Disgust</td>\n",
       "    </tr>\n",
       "    <tr>\n",
       "      <th>...</th>\n",
       "      <td>...</td>\n",
       "      <td>...</td>\n",
       "      <td>...</td>\n",
       "      <td>...</td>\n",
       "      <td>...</td>\n",
       "      <td>...</td>\n",
       "      <td>...</td>\n",
       "      <td>...</td>\n",
       "      <td>...</td>\n",
       "      <td>...</td>\n",
       "      <td>...</td>\n",
       "      <td>...</td>\n",
       "      <td>...</td>\n",
       "      <td>...</td>\n",
       "      <td>...</td>\n",
       "      <td>...</td>\n",
       "      <td>...</td>\n",
       "      <td>...</td>\n",
       "      <td>...</td>\n",
       "      <td>...</td>\n",
       "      <td>...</td>\n",
       "    </tr>\n",
       "    <tr>\n",
       "      <th>1759</th>\n",
       "      <td>0.028809</td>\n",
       "      <td>0.048828</td>\n",
       "      <td>0.064941</td>\n",
       "      <td>0.071777</td>\n",
       "      <td>0.080566</td>\n",
       "      <td>0.079102</td>\n",
       "      <td>0.080078</td>\n",
       "      <td>0.071777</td>\n",
       "      <td>0.071289</td>\n",
       "      <td>0.076660</td>\n",
       "      <td>...</td>\n",
       "      <td>0.086426</td>\n",
       "      <td>0.073242</td>\n",
       "      <td>0.077148</td>\n",
       "      <td>0.071777</td>\n",
       "      <td>0.058594</td>\n",
       "      <td>0.056152</td>\n",
       "      <td>0.046387</td>\n",
       "      <td>0.035156</td>\n",
       "      <td>0.026855</td>\n",
       "      <td>Sad</td>\n",
       "    </tr>\n",
       "    <tr>\n",
       "      <th>1760</th>\n",
       "      <td>0.022461</td>\n",
       "      <td>0.035156</td>\n",
       "      <td>0.045898</td>\n",
       "      <td>0.047363</td>\n",
       "      <td>0.055664</td>\n",
       "      <td>0.055176</td>\n",
       "      <td>0.054199</td>\n",
       "      <td>0.052246</td>\n",
       "      <td>0.052246</td>\n",
       "      <td>0.081543</td>\n",
       "      <td>...</td>\n",
       "      <td>0.051758</td>\n",
       "      <td>0.054688</td>\n",
       "      <td>0.063965</td>\n",
       "      <td>0.068848</td>\n",
       "      <td>0.054688</td>\n",
       "      <td>0.041016</td>\n",
       "      <td>0.025391</td>\n",
       "      <td>0.018555</td>\n",
       "      <td>0.012207</td>\n",
       "      <td>Sad</td>\n",
       "    </tr>\n",
       "    <tr>\n",
       "      <th>1761</th>\n",
       "      <td>0.010742</td>\n",
       "      <td>0.017578</td>\n",
       "      <td>0.030762</td>\n",
       "      <td>0.036621</td>\n",
       "      <td>0.039062</td>\n",
       "      <td>0.036621</td>\n",
       "      <td>0.036133</td>\n",
       "      <td>0.043457</td>\n",
       "      <td>0.052734</td>\n",
       "      <td>0.075684</td>\n",
       "      <td>...</td>\n",
       "      <td>0.155273</td>\n",
       "      <td>0.139160</td>\n",
       "      <td>0.098633</td>\n",
       "      <td>0.069336</td>\n",
       "      <td>0.033203</td>\n",
       "      <td>0.017578</td>\n",
       "      <td>0.020996</td>\n",
       "      <td>0.021484</td>\n",
       "      <td>0.017090</td>\n",
       "      <td>Sad</td>\n",
       "    </tr>\n",
       "    <tr>\n",
       "      <th>1762</th>\n",
       "      <td>0.012695</td>\n",
       "      <td>0.020996</td>\n",
       "      <td>0.033203</td>\n",
       "      <td>0.038086</td>\n",
       "      <td>0.043457</td>\n",
       "      <td>0.047363</td>\n",
       "      <td>0.045898</td>\n",
       "      <td>0.050293</td>\n",
       "      <td>0.054688</td>\n",
       "      <td>0.056641</td>\n",
       "      <td>...</td>\n",
       "      <td>0.086914</td>\n",
       "      <td>0.065430</td>\n",
       "      <td>0.054688</td>\n",
       "      <td>0.030762</td>\n",
       "      <td>0.022949</td>\n",
       "      <td>0.022461</td>\n",
       "      <td>0.030762</td>\n",
       "      <td>0.038574</td>\n",
       "      <td>0.033691</td>\n",
       "      <td>Sad</td>\n",
       "    </tr>\n",
       "    <tr>\n",
       "      <th>1763</th>\n",
       "      <td>0.010742</td>\n",
       "      <td>0.017578</td>\n",
       "      <td>0.030762</td>\n",
       "      <td>0.036621</td>\n",
       "      <td>0.039062</td>\n",
       "      <td>0.036621</td>\n",
       "      <td>0.036133</td>\n",
       "      <td>0.043457</td>\n",
       "      <td>0.052734</td>\n",
       "      <td>0.075684</td>\n",
       "      <td>...</td>\n",
       "      <td>0.155273</td>\n",
       "      <td>0.139160</td>\n",
       "      <td>0.098633</td>\n",
       "      <td>0.069336</td>\n",
       "      <td>0.033203</td>\n",
       "      <td>0.017578</td>\n",
       "      <td>0.020996</td>\n",
       "      <td>0.021484</td>\n",
       "      <td>0.017090</td>\n",
       "      <td>Sad</td>\n",
       "    </tr>\n",
       "  </tbody>\n",
       "</table>\n",
       "<p>1764 rows × 109 columns</p>\n",
       "</div>"
      ],
      "text/plain": [
       "             0         1         2         3         4         5         6  \\\n",
       "0     0.031738  0.050781  0.081543  0.118164  0.127930  0.123047  0.106934   \n",
       "1     0.035156  0.094727  0.164551  0.189941  0.184570  0.152832  0.109375   \n",
       "2     0.031738  0.050781  0.081543  0.118164  0.127930  0.123047  0.106934   \n",
       "3     0.021484  0.034180  0.073730  0.073242  0.068848  0.193359  0.219727   \n",
       "4     0.020508  0.041992  0.068359  0.121582  0.215332  0.290527  0.309570   \n",
       "...        ...       ...       ...       ...       ...       ...       ...   \n",
       "1759  0.028809  0.048828  0.064941  0.071777  0.080566  0.079102  0.080078   \n",
       "1760  0.022461  0.035156  0.045898  0.047363  0.055664  0.055176  0.054199   \n",
       "1761  0.010742  0.017578  0.030762  0.036621  0.039062  0.036621  0.036133   \n",
       "1762  0.012695  0.020996  0.033203  0.038086  0.043457  0.047363  0.045898   \n",
       "1763  0.010742  0.017578  0.030762  0.036621  0.039062  0.036621  0.036133   \n",
       "\n",
       "             7         8         9  ...        99       100       101  \\\n",
       "0     0.073730  0.065430  0.063965  ...  0.000000  0.000000  0.000000   \n",
       "1     0.098145  0.100098  0.087402  ...  0.000000  0.000000  0.000000   \n",
       "2     0.073730  0.065430  0.063965  ...  0.000000  0.000000  0.000000   \n",
       "3     0.221191  0.233887  0.122559  ...  0.000000  0.000000  0.000000   \n",
       "4     0.276855  0.203613  0.129395  ...  0.000000  0.000000  0.000000   \n",
       "...        ...       ...       ...  ...       ...       ...       ...   \n",
       "1759  0.071777  0.071289  0.076660  ...  0.086426  0.073242  0.077148   \n",
       "1760  0.052246  0.052246  0.081543  ...  0.051758  0.054688  0.063965   \n",
       "1761  0.043457  0.052734  0.075684  ...  0.155273  0.139160  0.098633   \n",
       "1762  0.050293  0.054688  0.056641  ...  0.086914  0.065430  0.054688   \n",
       "1763  0.043457  0.052734  0.075684  ...  0.155273  0.139160  0.098633   \n",
       "\n",
       "           102       103       104       105       106       107  Emotions  \n",
       "0     0.000000  0.000000  0.000000  0.000000  0.000000  0.000000   Disgust  \n",
       "1     0.000000  0.000000  0.000000  0.000000  0.000000  0.000000   Disgust  \n",
       "2     0.000000  0.000000  0.000000  0.000000  0.000000  0.000000   Disgust  \n",
       "3     0.000000  0.000000  0.000000  0.000000  0.000000  0.000000   Disgust  \n",
       "4     0.000000  0.000000  0.000000  0.000000  0.000000  0.000000   Disgust  \n",
       "...        ...       ...       ...       ...       ...       ...       ...  \n",
       "1759  0.071777  0.058594  0.056152  0.046387  0.035156  0.026855       Sad  \n",
       "1760  0.068848  0.054688  0.041016  0.025391  0.018555  0.012207       Sad  \n",
       "1761  0.069336  0.033203  0.017578  0.020996  0.021484  0.017090       Sad  \n",
       "1762  0.030762  0.022949  0.022461  0.030762  0.038574  0.033691       Sad  \n",
       "1763  0.069336  0.033203  0.017578  0.020996  0.021484  0.017090       Sad  \n",
       "\n",
       "[1764 rows x 109 columns]"
      ]
     },
     "execution_count": 22,
     "metadata": {},
     "output_type": "execute_result"
    }
   ],
   "source": [
    "Emotions"
   ]
  },
  {
   "attachments": {},
   "cell_type": "markdown",
   "metadata": {},
   "source": [
    "# Data preparation"
   ]
  },
  {
   "cell_type": "code",
   "execution_count": 23,
   "metadata": {
    "execution": {
     "iopub.execute_input": "2024-05-14T00:53:24.093278Z",
     "iopub.status.busy": "2024-05-14T00:53:24.092959Z",
     "iopub.status.idle": "2024-05-14T00:53:24.131021Z",
     "shell.execute_reply": "2024-05-14T00:53:24.129896Z",
     "shell.execute_reply.started": "2024-05-14T00:53:24.093249Z"
    },
    "trusted": true
   },
   "outputs": [],
   "source": [
    "#taking all rows and all cols without last col for X which include features\n",
    "#taking last col for Y, which include the emotions\n",
    "\n",
    "\n",
    "X = Emotions.iloc[: ,:-1].values\n",
    "Y = Emotions['Emotions'].values"
   ]
  },
  {
   "cell_type": "code",
   "execution_count": 24,
   "metadata": {
    "execution": {
     "iopub.execute_input": "2024-05-14T00:53:24.132513Z",
     "iopub.status.busy": "2024-05-14T00:53:24.132195Z",
     "iopub.status.idle": "2024-05-14T00:53:24.144567Z",
     "shell.execute_reply": "2024-05-14T00:53:24.143604Z",
     "shell.execute_reply.started": "2024-05-14T00:53:24.132482Z"
    },
    "trusted": true
   },
   "outputs": [],
   "source": [
    "# As this is a multiclass classification problem onehotencoding our Y\n",
    "from sklearn.preprocessing import StandardScaler, OneHotEncoder\n",
    "encoder = OneHotEncoder()\n",
    "Y = encoder.fit_transform(np.array(Y).reshape(-1,1)).toarray()"
   ]
  },
  {
   "cell_type": "code",
   "execution_count": 25,
   "metadata": {
    "execution": {
     "iopub.execute_input": "2024-05-14T00:53:24.157164Z",
     "iopub.status.busy": "2024-05-14T00:53:24.156771Z",
     "iopub.status.idle": "2024-05-14T00:53:24.307466Z",
     "shell.execute_reply": "2024-05-14T00:53:24.306311Z",
     "shell.execute_reply.started": "2024-05-14T00:53:24.157135Z"
    },
    "trusted": true
   },
   "outputs": [
    {
     "data": {
      "text/plain": [
       "((1411, 108), (1411, 7), (353, 108), (353, 7))"
      ]
     },
     "execution_count": 25,
     "metadata": {},
     "output_type": "execute_result"
    }
   ],
   "source": [
    "from sklearn.model_selection import train_test_split\n",
    "\n",
    "x_train, x_test, y_train, y_test = train_test_split(X, Y, random_state=42,test_size=0.2, shuffle=True)\n",
    "x_train.shape, y_train.shape, x_test.shape, y_test.shape"
   ]
  },
  {
   "cell_type": "code",
   "execution_count": 26,
   "metadata": {
    "execution": {
     "iopub.execute_input": "2024-05-14T00:53:24.308990Z",
     "iopub.status.busy": "2024-05-14T00:53:24.308682Z",
     "iopub.status.idle": "2024-05-14T00:53:24.314846Z",
     "shell.execute_reply": "2024-05-14T00:53:24.313768Z",
     "shell.execute_reply.started": "2024-05-14T00:53:24.308960Z"
    },
    "trusted": true
   },
   "outputs": [],
   "source": [
    "#reshape for lstm\n",
    "X_train = x_train.reshape(x_train.shape[0] , x_train.shape[1] , 1)\n",
    "X_test = x_test.reshape(x_test.shape[0] , x_test.shape[1] , 1)"
   ]
  },
  {
   "cell_type": "code",
   "execution_count": 27,
   "metadata": {
    "execution": {
     "iopub.execute_input": "2024-05-14T00:53:24.316405Z",
     "iopub.status.busy": "2024-05-14T00:53:24.316082Z",
     "iopub.status.idle": "2024-05-14T00:53:24.469910Z",
     "shell.execute_reply": "2024-05-14T00:53:24.468841Z",
     "shell.execute_reply.started": "2024-05-14T00:53:24.316374Z"
    },
    "trusted": true
   },
   "outputs": [
    {
     "data": {
      "text/plain": [
       "((1411, 108), (1411, 7), (353, 108), (353, 7))"
      ]
     },
     "execution_count": 27,
     "metadata": {},
     "output_type": "execute_result"
    }
   ],
   "source": [
    "# scaling our data with sklearn's Standard scaler\n",
    "scaler = StandardScaler()\n",
    "x_train = scaler.fit_transform(x_train)\n",
    "x_test = scaler.transform(x_test)\n",
    "x_train.shape, y_train.shape, x_test.shape, y_test.shape"
   ]
  },
  {
   "cell_type": "code",
   "execution_count": 28,
   "metadata": {
    "execution": {
     "iopub.execute_input": "2024-05-14T00:53:24.472074Z",
     "iopub.status.busy": "2024-05-14T00:53:24.471561Z",
     "iopub.status.idle": "2024-05-14T00:53:24.480811Z",
     "shell.execute_reply": "2024-05-14T00:53:24.479850Z",
     "shell.execute_reply.started": "2024-05-14T00:53:24.472001Z"
    },
    "trusted": true
   },
   "outputs": [],
   "source": [
    "import keras\n",
    "from keras.preprocessing import sequence\n",
    "from keras.models import Sequential\n",
    "from keras.layers import Dense, Embedding\n",
    "from keras.layers import LSTM,BatchNormalization , GRU\n",
    "from tensorflow.keras.preprocessing.text import Tokenizer\n",
    "from keras.preprocessing.sequence import pad_sequences\n",
    "from tensorflow.keras.utils import to_categorical\n",
    "from keras.layers import Input, Flatten, Dropout, Activation\n",
    "from keras.layers import Conv1D, MaxPooling1D, AveragePooling1D\n",
    "from keras.models import Model\n",
    "from keras.callbacks import ModelCheckpoint\n",
    "from tensorflow.keras.optimizers import SGD"
   ]
  },
  {
   "cell_type": "code",
   "execution_count": 29,
   "metadata": {
    "execution": {
     "iopub.execute_input": "2024-05-14T00:53:24.482634Z",
     "iopub.status.busy": "2024-05-14T00:53:24.482209Z",
     "iopub.status.idle": "2024-05-14T00:53:24.490246Z",
     "shell.execute_reply": "2024-05-14T00:53:24.489271Z",
     "shell.execute_reply.started": "2024-05-14T00:53:24.482604Z"
    },
    "trusted": true
   },
   "outputs": [],
   "source": [
    "from keras.callbacks import ModelCheckpoint, EarlyStopping,ReduceLROnPlateau\n",
    "model_checkpoint = ModelCheckpoint('0603)best_model1_weights.keras', monitor='val_accuracy', save_best_only=True)"
   ]
  },
  {
   "cell_type": "code",
   "execution_count": 30,
   "metadata": {
    "execution": {
     "iopub.execute_input": "2024-05-14T00:53:24.493624Z",
     "iopub.status.busy": "2024-05-14T00:53:24.493329Z",
     "iopub.status.idle": "2024-05-14T00:53:24.503573Z",
     "shell.execute_reply": "2024-05-14T00:53:24.502626Z",
     "shell.execute_reply.started": "2024-05-14T00:53:24.493595Z"
    },
    "trusted": true
   },
   "outputs": [],
   "source": [
    "early_stop=EarlyStopping(monitor='val_accuracy',mode='auto',patience=5,restore_best_weights=True)\n",
    "lr_reduction=ReduceLROnPlateau(monitor='val_accuracy',patience=3,verbose=1,factor=0.5,min_lr=0.00001)"
   ]
  },
  {
   "attachments": {},
   "cell_type": "markdown",
   "metadata": {},
   "source": [
    "# CNN model"
   ]
  },
  {
   "cell_type": "code",
   "execution_count": 31,
   "metadata": {
    "execution": {
     "iopub.execute_input": "2024-05-14T00:53:24.506287Z",
     "iopub.status.busy": "2024-05-14T00:53:24.504774Z",
     "iopub.status.idle": "2024-05-14T00:53:24.515729Z",
     "shell.execute_reply": "2024-05-14T00:53:24.514762Z",
     "shell.execute_reply.started": "2024-05-14T00:53:24.506256Z"
    },
    "trusted": true
   },
   "outputs": [
    {
     "data": {
      "text/plain": [
       "((1411, 108, 1), (1411, 7), (353, 108, 1), (353, 7))"
      ]
     },
     "execution_count": 31,
     "metadata": {},
     "output_type": "execute_result"
    }
   ],
   "source": [
    "#Reshape for CNN_LSTM MODEL\n",
    "\n",
    "x_traincnn =np.expand_dims(x_train, axis=2)\n",
    "x_testcnn= np.expand_dims(x_test, axis=2)\n",
    "x_traincnn.shape, y_train.shape, x_testcnn.shape, y_test.shape\n",
    "#x_testcnn[0]"
   ]
  },
  {
   "cell_type": "code",
   "execution_count": 32,
   "metadata": {
    "execution": {
     "iopub.execute_input": "2024-05-14T00:53:24.517474Z",
     "iopub.status.busy": "2024-05-14T00:53:24.517104Z",
     "iopub.status.idle": "2024-05-14T00:53:24.715007Z",
     "shell.execute_reply": "2024-05-14T00:53:24.714079Z",
     "shell.execute_reply.started": "2024-05-14T00:53:24.517436Z"
    },
    "trusted": true
   },
   "outputs": [
    {
     "data": {
      "text/html": [
       "<pre style=\"white-space:pre;overflow-x:auto;line-height:normal;font-family:Menlo,'DejaVu Sans Mono',consolas,'Courier New',monospace\"><span style=\"font-weight: bold\">Model: \"functional_3\"</span>\n",
       "</pre>\n"
      ],
      "text/plain": [
       "\u001b[1mModel: \"functional_3\"\u001b[0m\n"
      ]
     },
     "metadata": {},
     "output_type": "display_data"
    },
    {
     "data": {
      "text/html": [
       "<pre style=\"white-space:pre;overflow-x:auto;line-height:normal;font-family:Menlo,'DejaVu Sans Mono',consolas,'Courier New',monospace\">┏━━━━━━━━━━━━━━━━━━━━━━━━━━━━━━━━━┳━━━━━━━━━━━━━━━━━━━━━━━━┳━━━━━━━━━━━━━━━┓\n",
       "┃<span style=\"font-weight: bold\"> Layer (type)                    </span>┃<span style=\"font-weight: bold\"> Output Shape           </span>┃<span style=\"font-weight: bold\">       Param # </span>┃\n",
       "┡━━━━━━━━━━━━━━━━━━━━━━━━━━━━━━━━━╇━━━━━━━━━━━━━━━━━━━━━━━━╇━━━━━━━━━━━━━━━┩\n",
       "│ input_layer_2 (<span style=\"color: #0087ff; text-decoration-color: #0087ff\">InputLayer</span>)      │ (<span style=\"color: #00d7ff; text-decoration-color: #00d7ff\">None</span>, <span style=\"color: #00af00; text-decoration-color: #00af00\">108</span>, <span style=\"color: #00af00; text-decoration-color: #00af00\">1</span>)         │             <span style=\"color: #00af00; text-decoration-color: #00af00\">0</span> │\n",
       "├─────────────────────────────────┼────────────────────────┼───────────────┤\n",
       "│ conv1d_3 (<span style=\"color: #0087ff; text-decoration-color: #0087ff\">Conv1D</span>)               │ (<span style=\"color: #00d7ff; text-decoration-color: #00d7ff\">None</span>, <span style=\"color: #00af00; text-decoration-color: #00af00\">102</span>, <span style=\"color: #00af00; text-decoration-color: #00af00\">256</span>)       │         <span style=\"color: #00af00; text-decoration-color: #00af00\">2,048</span> │\n",
       "├─────────────────────────────────┼────────────────────────┼───────────────┤\n",
       "│ batch_normalization_3           │ (<span style=\"color: #00d7ff; text-decoration-color: #00d7ff\">None</span>, <span style=\"color: #00af00; text-decoration-color: #00af00\">102</span>, <span style=\"color: #00af00; text-decoration-color: #00af00\">256</span>)       │         <span style=\"color: #00af00; text-decoration-color: #00af00\">1,024</span> │\n",
       "│ (<span style=\"color: #0087ff; text-decoration-color: #0087ff\">BatchNormalization</span>)            │                        │               │\n",
       "├─────────────────────────────────┼────────────────────────┼───────────────┤\n",
       "│ max_pooling1d_2 (<span style=\"color: #0087ff; text-decoration-color: #0087ff\">MaxPooling1D</span>)  │ (<span style=\"color: #00d7ff; text-decoration-color: #00d7ff\">None</span>, <span style=\"color: #00af00; text-decoration-color: #00af00\">102</span>, <span style=\"color: #00af00; text-decoration-color: #00af00\">256</span>)       │             <span style=\"color: #00af00; text-decoration-color: #00af00\">0</span> │\n",
       "├─────────────────────────────────┼────────────────────────┼───────────────┤\n",
       "│ conv1d_4 (<span style=\"color: #0087ff; text-decoration-color: #0087ff\">Conv1D</span>)               │ (<span style=\"color: #00d7ff; text-decoration-color: #00d7ff\">None</span>, <span style=\"color: #00af00; text-decoration-color: #00af00\">96</span>, <span style=\"color: #00af00; text-decoration-color: #00af00\">256</span>)        │       <span style=\"color: #00af00; text-decoration-color: #00af00\">459,008</span> │\n",
       "├─────────────────────────────────┼────────────────────────┼───────────────┤\n",
       "│ batch_normalization_4           │ (<span style=\"color: #00d7ff; text-decoration-color: #00d7ff\">None</span>, <span style=\"color: #00af00; text-decoration-color: #00af00\">96</span>, <span style=\"color: #00af00; text-decoration-color: #00af00\">256</span>)        │         <span style=\"color: #00af00; text-decoration-color: #00af00\">1,024</span> │\n",
       "│ (<span style=\"color: #0087ff; text-decoration-color: #0087ff\">BatchNormalization</span>)            │                        │               │\n",
       "├─────────────────────────────────┼────────────────────────┼───────────────┤\n",
       "│ max_pooling1d_3 (<span style=\"color: #0087ff; text-decoration-color: #0087ff\">MaxPooling1D</span>)  │ (<span style=\"color: #00d7ff; text-decoration-color: #00d7ff\">None</span>, <span style=\"color: #00af00; text-decoration-color: #00af00\">96</span>, <span style=\"color: #00af00; text-decoration-color: #00af00\">256</span>)        │             <span style=\"color: #00af00; text-decoration-color: #00af00\">0</span> │\n",
       "├─────────────────────────────────┼────────────────────────┼───────────────┤\n",
       "│ dropout_1 (<span style=\"color: #0087ff; text-decoration-color: #0087ff\">Dropout</span>)             │ (<span style=\"color: #00d7ff; text-decoration-color: #00d7ff\">None</span>, <span style=\"color: #00af00; text-decoration-color: #00af00\">96</span>, <span style=\"color: #00af00; text-decoration-color: #00af00\">256</span>)        │             <span style=\"color: #00af00; text-decoration-color: #00af00\">0</span> │\n",
       "├─────────────────────────────────┼────────────────────────┼───────────────┤\n",
       "│ channel_attention_1             │ (<span style=\"color: #00d7ff; text-decoration-color: #00d7ff\">None</span>, <span style=\"color: #00af00; text-decoration-color: #00af00\">96</span>, <span style=\"color: #00af00; text-decoration-color: #00af00\">256</span>)        │         <span style=\"color: #00af00; text-decoration-color: #00af00\">8,464</span> │\n",
       "│ (<span style=\"color: #0087ff; text-decoration-color: #0087ff\">ChannelAttention</span>)              │                        │               │\n",
       "├─────────────────────────────────┼────────────────────────┼───────────────┤\n",
       "│ spatial_attention_1             │ (<span style=\"color: #00d7ff; text-decoration-color: #00d7ff\">None</span>, <span style=\"color: #00af00; text-decoration-color: #00af00\">96</span>, <span style=\"color: #00af00; text-decoration-color: #00af00\">256</span>)        │            <span style=\"color: #00af00; text-decoration-color: #00af00\">14</span> │\n",
       "│ (<span style=\"color: #0087ff; text-decoration-color: #0087ff\">SpatialAttention</span>)              │                        │               │\n",
       "├─────────────────────────────────┼────────────────────────┼───────────────┤\n",
       "│ flatten_1 (<span style=\"color: #0087ff; text-decoration-color: #0087ff\">Flatten</span>)             │ (<span style=\"color: #00d7ff; text-decoration-color: #00d7ff\">None</span>, <span style=\"color: #00af00; text-decoration-color: #00af00\">24576</span>)          │             <span style=\"color: #00af00; text-decoration-color: #00af00\">0</span> │\n",
       "├─────────────────────────────────┼────────────────────────┼───────────────┤\n",
       "│ dense_6 (<span style=\"color: #0087ff; text-decoration-color: #0087ff\">Dense</span>)                 │ (<span style=\"color: #00d7ff; text-decoration-color: #00d7ff\">None</span>, <span style=\"color: #00af00; text-decoration-color: #00af00\">64</span>)             │     <span style=\"color: #00af00; text-decoration-color: #00af00\">1,572,928</span> │\n",
       "├─────────────────────────────────┼────────────────────────┼───────────────┤\n",
       "│ batch_normalization_5           │ (<span style=\"color: #00d7ff; text-decoration-color: #00d7ff\">None</span>, <span style=\"color: #00af00; text-decoration-color: #00af00\">64</span>)             │           <span style=\"color: #00af00; text-decoration-color: #00af00\">256</span> │\n",
       "│ (<span style=\"color: #0087ff; text-decoration-color: #0087ff\">BatchNormalization</span>)            │                        │               │\n",
       "├─────────────────────────────────┼────────────────────────┼───────────────┤\n",
       "│ dense_7 (<span style=\"color: #0087ff; text-decoration-color: #0087ff\">Dense</span>)                 │ (<span style=\"color: #00d7ff; text-decoration-color: #00d7ff\">None</span>, <span style=\"color: #00af00; text-decoration-color: #00af00\">7</span>)              │           <span style=\"color: #00af00; text-decoration-color: #00af00\">455</span> │\n",
       "└─────────────────────────────────┴────────────────────────┴───────────────┘\n",
       "</pre>\n"
      ],
      "text/plain": [
       "┏━━━━━━━━━━━━━━━━━━━━━━━━━━━━━━━━━┳━━━━━━━━━━━━━━━━━━━━━━━━┳━━━━━━━━━━━━━━━┓\n",
       "┃\u001b[1m \u001b[0m\u001b[1mLayer (type)                   \u001b[0m\u001b[1m \u001b[0m┃\u001b[1m \u001b[0m\u001b[1mOutput Shape          \u001b[0m\u001b[1m \u001b[0m┃\u001b[1m \u001b[0m\u001b[1m      Param #\u001b[0m\u001b[1m \u001b[0m┃\n",
       "┡━━━━━━━━━━━━━━━━━━━━━━━━━━━━━━━━━╇━━━━━━━━━━━━━━━━━━━━━━━━╇━━━━━━━━━━━━━━━┩\n",
       "│ input_layer_2 (\u001b[38;5;33mInputLayer\u001b[0m)      │ (\u001b[38;5;45mNone\u001b[0m, \u001b[38;5;34m108\u001b[0m, \u001b[38;5;34m1\u001b[0m)         │             \u001b[38;5;34m0\u001b[0m │\n",
       "├─────────────────────────────────┼────────────────────────┼───────────────┤\n",
       "│ conv1d_3 (\u001b[38;5;33mConv1D\u001b[0m)               │ (\u001b[38;5;45mNone\u001b[0m, \u001b[38;5;34m102\u001b[0m, \u001b[38;5;34m256\u001b[0m)       │         \u001b[38;5;34m2,048\u001b[0m │\n",
       "├─────────────────────────────────┼────────────────────────┼───────────────┤\n",
       "│ batch_normalization_3           │ (\u001b[38;5;45mNone\u001b[0m, \u001b[38;5;34m102\u001b[0m, \u001b[38;5;34m256\u001b[0m)       │         \u001b[38;5;34m1,024\u001b[0m │\n",
       "│ (\u001b[38;5;33mBatchNormalization\u001b[0m)            │                        │               │\n",
       "├─────────────────────────────────┼────────────────────────┼───────────────┤\n",
       "│ max_pooling1d_2 (\u001b[38;5;33mMaxPooling1D\u001b[0m)  │ (\u001b[38;5;45mNone\u001b[0m, \u001b[38;5;34m102\u001b[0m, \u001b[38;5;34m256\u001b[0m)       │             \u001b[38;5;34m0\u001b[0m │\n",
       "├─────────────────────────────────┼────────────────────────┼───────────────┤\n",
       "│ conv1d_4 (\u001b[38;5;33mConv1D\u001b[0m)               │ (\u001b[38;5;45mNone\u001b[0m, \u001b[38;5;34m96\u001b[0m, \u001b[38;5;34m256\u001b[0m)        │       \u001b[38;5;34m459,008\u001b[0m │\n",
       "├─────────────────────────────────┼────────────────────────┼───────────────┤\n",
       "│ batch_normalization_4           │ (\u001b[38;5;45mNone\u001b[0m, \u001b[38;5;34m96\u001b[0m, \u001b[38;5;34m256\u001b[0m)        │         \u001b[38;5;34m1,024\u001b[0m │\n",
       "│ (\u001b[38;5;33mBatchNormalization\u001b[0m)            │                        │               │\n",
       "├─────────────────────────────────┼────────────────────────┼───────────────┤\n",
       "│ max_pooling1d_3 (\u001b[38;5;33mMaxPooling1D\u001b[0m)  │ (\u001b[38;5;45mNone\u001b[0m, \u001b[38;5;34m96\u001b[0m, \u001b[38;5;34m256\u001b[0m)        │             \u001b[38;5;34m0\u001b[0m │\n",
       "├─────────────────────────────────┼────────────────────────┼───────────────┤\n",
       "│ dropout_1 (\u001b[38;5;33mDropout\u001b[0m)             │ (\u001b[38;5;45mNone\u001b[0m, \u001b[38;5;34m96\u001b[0m, \u001b[38;5;34m256\u001b[0m)        │             \u001b[38;5;34m0\u001b[0m │\n",
       "├─────────────────────────────────┼────────────────────────┼───────────────┤\n",
       "│ channel_attention_1             │ (\u001b[38;5;45mNone\u001b[0m, \u001b[38;5;34m96\u001b[0m, \u001b[38;5;34m256\u001b[0m)        │         \u001b[38;5;34m8,464\u001b[0m │\n",
       "│ (\u001b[38;5;33mChannelAttention\u001b[0m)              │                        │               │\n",
       "├─────────────────────────────────┼────────────────────────┼───────────────┤\n",
       "│ spatial_attention_1             │ (\u001b[38;5;45mNone\u001b[0m, \u001b[38;5;34m96\u001b[0m, \u001b[38;5;34m256\u001b[0m)        │            \u001b[38;5;34m14\u001b[0m │\n",
       "│ (\u001b[38;5;33mSpatialAttention\u001b[0m)              │                        │               │\n",
       "├─────────────────────────────────┼────────────────────────┼───────────────┤\n",
       "│ flatten_1 (\u001b[38;5;33mFlatten\u001b[0m)             │ (\u001b[38;5;45mNone\u001b[0m, \u001b[38;5;34m24576\u001b[0m)          │             \u001b[38;5;34m0\u001b[0m │\n",
       "├─────────────────────────────────┼────────────────────────┼───────────────┤\n",
       "│ dense_6 (\u001b[38;5;33mDense\u001b[0m)                 │ (\u001b[38;5;45mNone\u001b[0m, \u001b[38;5;34m64\u001b[0m)             │     \u001b[38;5;34m1,572,928\u001b[0m │\n",
       "├─────────────────────────────────┼────────────────────────┼───────────────┤\n",
       "│ batch_normalization_5           │ (\u001b[38;5;45mNone\u001b[0m, \u001b[38;5;34m64\u001b[0m)             │           \u001b[38;5;34m256\u001b[0m │\n",
       "│ (\u001b[38;5;33mBatchNormalization\u001b[0m)            │                        │               │\n",
       "├─────────────────────────────────┼────────────────────────┼───────────────┤\n",
       "│ dense_7 (\u001b[38;5;33mDense\u001b[0m)                 │ (\u001b[38;5;45mNone\u001b[0m, \u001b[38;5;34m7\u001b[0m)              │           \u001b[38;5;34m455\u001b[0m │\n",
       "└─────────────────────────────────┴────────────────────────┴───────────────┘\n"
      ]
     },
     "metadata": {},
     "output_type": "display_data"
    },
    {
     "data": {
      "text/html": [
       "<pre style=\"white-space:pre;overflow-x:auto;line-height:normal;font-family:Menlo,'DejaVu Sans Mono',consolas,'Courier New',monospace\"><span style=\"font-weight: bold\"> Total params: </span><span style=\"color: #00af00; text-decoration-color: #00af00\">2,045,221</span> (7.80 MB)\n",
       "</pre>\n"
      ],
      "text/plain": [
       "\u001b[1m Total params: \u001b[0m\u001b[38;5;34m2,045,221\u001b[0m (7.80 MB)\n"
      ]
     },
     "metadata": {},
     "output_type": "display_data"
    },
    {
     "data": {
      "text/html": [
       "<pre style=\"white-space:pre;overflow-x:auto;line-height:normal;font-family:Menlo,'DejaVu Sans Mono',consolas,'Courier New',monospace\"><span style=\"font-weight: bold\"> Trainable params: </span><span style=\"color: #00af00; text-decoration-color: #00af00\">2,044,069</span> (7.80 MB)\n",
       "</pre>\n"
      ],
      "text/plain": [
       "\u001b[1m Trainable params: \u001b[0m\u001b[38;5;34m2,044,069\u001b[0m (7.80 MB)\n"
      ]
     },
     "metadata": {},
     "output_type": "display_data"
    },
    {
     "data": {
      "text/html": [
       "<pre style=\"white-space:pre;overflow-x:auto;line-height:normal;font-family:Menlo,'DejaVu Sans Mono',consolas,'Courier New',monospace\"><span style=\"font-weight: bold\"> Non-trainable params: </span><span style=\"color: #00af00; text-decoration-color: #00af00\">1,152</span> (4.50 KB)\n",
       "</pre>\n"
      ],
      "text/plain": [
       "\u001b[1m Non-trainable params: \u001b[0m\u001b[38;5;34m1,152\u001b[0m (4.50 KB)\n"
      ]
     },
     "metadata": {},
     "output_type": "display_data"
    }
   ],
   "source": [
    "import tensorflow as tf\n",
    "import tensorflow.keras.layers as L\n",
    "from tensorflow.keras.models import Model\n",
    "from tensorflow.keras.regularizers import l2\n",
    "\n",
    "# Channel Attention Layer for 1D\n",
    "class ChannelAttention(L.Layer):\n",
    "    def __init__(self, channels, reduction_ratio=16):\n",
    "        super(ChannelAttention, self).__init__()\n",
    "        self.channels = channels\n",
    "        self.reduction_ratio = reduction_ratio\n",
    "        self.shared_mlp = tf.keras.Sequential([\n",
    "            L.Dense(channels // reduction_ratio, activation='relu', kernel_initializer='he_normal', use_bias=True, bias_initializer='zeros'),\n",
    "            L.Dense(channels, kernel_initializer='he_normal', use_bias=True, bias_initializer='zeros')\n",
    "        ])\n",
    "\n",
    "    def call(self, inputs):\n",
    "        avg_pool = tf.reduce_mean(inputs, axis=1, keepdims=True)\n",
    "        max_pool = tf.reduce_max(inputs, axis=1, keepdims=True)\n",
    "        avg_out = self.shared_mlp(avg_pool)\n",
    "        max_out = self.shared_mlp(max_pool)\n",
    "        attention = tf.nn.sigmoid(avg_out + max_out)\n",
    "        return inputs * attention\n",
    "\n",
    "# Spatial Attention Layer for 1D\n",
    "class SpatialAttention(L.Layer):\n",
    "    def __init__(self):\n",
    "        super(SpatialAttention, self).__init__()\n",
    "        self.conv = L.Conv1D(1, kernel_size=7, padding='same', activation='sigmoid', kernel_initializer='he_normal', use_bias=False)\n",
    "\n",
    "    def call(self, inputs):\n",
    "        avg_pool = tf.reduce_mean(inputs, axis=-1, keepdims=True)\n",
    "        max_pool = tf.reduce_max(inputs, axis=-1, keepdims=True)\n",
    "        concat = tf.concat([avg_pool, max_pool], axis=-1)\n",
    "        attention = self.conv(concat)\n",
    "        return inputs * attention\n",
    "\n",
    "# Define the model\n",
    "input_shape = (X_train.shape[1], X_train.shape[2])\n",
    "inputs = tf.keras.Input(shape=input_shape)\n",
    "\n",
    "# Convolutional layers\n",
    "x = L.Conv1D(256, kernel_size=7, strides=1, activation='relu', kernel_regularizer=l2(0.001))(inputs)\n",
    "x = L.BatchNormalization()(x)\n",
    "x = L.MaxPool1D(pool_size=1, strides=1)(x)\n",
    "\n",
    "x = L.Conv1D(256, kernel_size=7, strides=1, activation='relu', kernel_regularizer=l2(0.001))(x)\n",
    "x = L.BatchNormalization()(x)\n",
    "x = L.MaxPool1D(pool_size=1, strides=1)(x)\n",
    "x = L.Dropout(0.20)(x)\n",
    "\n",
    "\n",
    "# Channel Attention\n",
    "channel_attention = ChannelAttention(channels=x.shape[-1])\n",
    "x = channel_attention(x)\n",
    "\n",
    "# Spatial Attention\n",
    "spatial_attention = SpatialAttention()\n",
    "x = spatial_attention(x)\n",
    "\n",
    "# Fully connected layers\n",
    "x = L.Flatten()(x)\n",
    "x = L.Dense(64, activation='relu', kernel_regularizer=l2(0.001))(x)\n",
    "x = L.BatchNormalization()(x)\n",
    "outputs = L.Dense(7, activation='softmax')(x)\n",
    "\n",
    "# Create model\n",
    "model = Model(inputs, outputs)\n",
    "\n",
    "# Compile model\n",
    "optimizer = tf.keras.optimizers.Adam(learning_rate=0.00001)\n",
    "model.compile(optimizer=optimizer, loss='categorical_crossentropy', metrics=['accuracy'])\n",
    "\n",
    "# Early stopping and learning rate scheduler\n",
    "early_stopping = tf.keras.callbacks.EarlyStopping(monitor='val_loss', patience=10, restore_best_weights=True)\n",
    "lr_scheduler = tf.keras.callbacks.ReduceLROnPlateau(monitor='val_loss', factor=0.1, patience=5)\n",
    "\n",
    "model.summary()"
   ]
  },
  {
   "cell_type": "code",
   "execution_count": 33,
   "metadata": {
    "execution": {
     "iopub.execute_input": "2024-05-14T00:53:24.716354Z",
     "iopub.status.busy": "2024-05-14T00:53:24.716075Z",
     "iopub.status.idle": "2024-05-14T01:11:52.418306Z",
     "shell.execute_reply": "2024-05-14T01:11:52.417351Z",
     "shell.execute_reply.started": "2024-05-14T00:53:24.716326Z"
    },
    "trusted": true
   },
   "outputs": [
    {
     "name": "stdout",
     "output_type": "stream",
     "text": [
      "Epoch 1/100\n",
      "\u001b[1m89/89\u001b[0m \u001b[32m━━━━━━━━━━━━━━━━━━━━\u001b[0m\u001b[37m\u001b[0m \u001b[1m5s\u001b[0m 29ms/step - accuracy: 0.1632 - loss: 2.8615 - val_accuracy: 0.1360 - val_loss: 2.4378\n",
      "Epoch 2/100\n",
      "\u001b[1m89/89\u001b[0m \u001b[32m━━━━━━━━━━━━━━━━━━━━\u001b[0m\u001b[37m\u001b[0m \u001b[1m2s\u001b[0m 25ms/step - accuracy: 0.2505 - loss: 2.2980 - val_accuracy: 0.1360 - val_loss: 2.5251\n",
      "Epoch 3/100\n",
      "\u001b[1m89/89\u001b[0m \u001b[32m━━━━━━━━━━━━━━━━━━━━\u001b[0m\u001b[37m\u001b[0m \u001b[1m2s\u001b[0m 26ms/step - accuracy: 0.3438 - loss: 2.0579 - val_accuracy: 0.1615 - val_loss: 2.5338\n",
      "Epoch 4/100\n",
      "\u001b[1m89/89\u001b[0m \u001b[32m━━━━━━━━━━━━━━━━━━━━\u001b[0m\u001b[37m\u001b[0m \u001b[1m2s\u001b[0m 26ms/step - accuracy: 0.4413 - loss: 1.8568 - val_accuracy: 0.1983 - val_loss: 2.4674\n",
      "Epoch 5/100\n",
      "\u001b[1m89/89\u001b[0m \u001b[32m━━━━━━━━━━━━━━━━━━━━\u001b[0m\u001b[37m\u001b[0m \u001b[1m2s\u001b[0m 25ms/step - accuracy: 0.5327 - loss: 1.6841 - val_accuracy: 0.2578 - val_loss: 2.3170\n",
      "Epoch 6/100\n",
      "\u001b[1m89/89\u001b[0m \u001b[32m━━━━━━━━━━━━━━━━━━━━\u001b[0m\u001b[37m\u001b[0m \u001b[1m2s\u001b[0m 26ms/step - accuracy: 0.5425 - loss: 1.6087 - val_accuracy: 0.3343 - val_loss: 2.0796\n",
      "Epoch 7/100\n",
      "\u001b[1m89/89\u001b[0m \u001b[32m━━━━━━━━━━━━━━━━━━━━\u001b[0m\u001b[37m\u001b[0m \u001b[1m2s\u001b[0m 26ms/step - accuracy: 0.6123 - loss: 1.4950 - val_accuracy: 0.4193 - val_loss: 1.8666\n",
      "Epoch 8/100\n",
      "\u001b[1m89/89\u001b[0m \u001b[32m━━━━━━━━━━━━━━━━━━━━\u001b[0m\u001b[37m\u001b[0m \u001b[1m2s\u001b[0m 26ms/step - accuracy: 0.6346 - loss: 1.4391 - val_accuracy: 0.5184 - val_loss: 1.7200\n",
      "Epoch 9/100\n",
      "\u001b[1m89/89\u001b[0m \u001b[32m━━━━━━━━━━━━━━━━━━━━\u001b[0m\u001b[37m\u001b[0m \u001b[1m2s\u001b[0m 26ms/step - accuracy: 0.6885 - loss: 1.3487 - val_accuracy: 0.5694 - val_loss: 1.6328\n",
      "Epoch 10/100\n",
      "\u001b[1m89/89\u001b[0m \u001b[32m━━━━━━━━━━━━━━━━━━━━\u001b[0m\u001b[37m\u001b[0m \u001b[1m2s\u001b[0m 27ms/step - accuracy: 0.7284 - loss: 1.2591 - val_accuracy: 0.5977 - val_loss: 1.5511\n",
      "Epoch 11/100\n",
      "\u001b[1m89/89\u001b[0m \u001b[32m━━━━━━━━━━━━━━━━━━━━\u001b[0m\u001b[37m\u001b[0m \u001b[1m2s\u001b[0m 26ms/step - accuracy: 0.7506 - loss: 1.2277 - val_accuracy: 0.6402 - val_loss: 1.5024\n",
      "Epoch 12/100\n",
      "\u001b[1m89/89\u001b[0m \u001b[32m━━━━━━━━━━━━━━━━━━━━\u001b[0m\u001b[37m\u001b[0m \u001b[1m2s\u001b[0m 27ms/step - accuracy: 0.7446 - loss: 1.1929 - val_accuracy: 0.6572 - val_loss: 1.4487\n",
      "Epoch 13/100\n",
      "\u001b[1m89/89\u001b[0m \u001b[32m━━━━━━━━━━━━━━━━━━━━\u001b[0m\u001b[37m\u001b[0m \u001b[1m2s\u001b[0m 26ms/step - accuracy: 0.8103 - loss: 1.0924 - val_accuracy: 0.6941 - val_loss: 1.3939\n",
      "Epoch 14/100\n",
      "\u001b[1m89/89\u001b[0m \u001b[32m━━━━━━━━━━━━━━━━━━━━\u001b[0m\u001b[37m\u001b[0m \u001b[1m2s\u001b[0m 26ms/step - accuracy: 0.8397 - loss: 1.0498 - val_accuracy: 0.6969 - val_loss: 1.3500\n",
      "Epoch 15/100\n",
      "\u001b[1m89/89\u001b[0m \u001b[32m━━━━━━━━━━━━━━━━━━━━\u001b[0m\u001b[37m\u001b[0m \u001b[1m2s\u001b[0m 26ms/step - accuracy: 0.8375 - loss: 1.0291 - val_accuracy: 0.6997 - val_loss: 1.3215\n",
      "Epoch 16/100\n",
      "\u001b[1m89/89\u001b[0m \u001b[32m━━━━━━━━━━━━━━━━━━━━\u001b[0m\u001b[37m\u001b[0m \u001b[1m2s\u001b[0m 27ms/step - accuracy: 0.8601 - loss: 0.9836 - val_accuracy: 0.7110 - val_loss: 1.2736\n",
      "Epoch 17/100\n",
      "\u001b[1m89/89\u001b[0m \u001b[32m━━━━━━━━━━━━━━━━━━━━\u001b[0m\u001b[37m\u001b[0m \u001b[1m2s\u001b[0m 26ms/step - accuracy: 0.8649 - loss: 0.9379 - val_accuracy: 0.7224 - val_loss: 1.2489\n",
      "Epoch 18/100\n",
      "\u001b[1m89/89\u001b[0m \u001b[32m━━━━━━━━━━━━━━━━━━━━\u001b[0m\u001b[37m\u001b[0m \u001b[1m2s\u001b[0m 28ms/step - accuracy: 0.8721 - loss: 0.9414 - val_accuracy: 0.7309 - val_loss: 1.2315\n",
      "Epoch 19/100\n",
      "\u001b[1m89/89\u001b[0m \u001b[32m━━━━━━━━━━━━━━━━━━━━\u001b[0m\u001b[37m\u001b[0m \u001b[1m2s\u001b[0m 26ms/step - accuracy: 0.8749 - loss: 0.9027 - val_accuracy: 0.7564 - val_loss: 1.1931\n",
      "Epoch 20/100\n",
      "\u001b[1m89/89\u001b[0m \u001b[32m━━━━━━━━━━━━━━━━━━━━\u001b[0m\u001b[37m\u001b[0m \u001b[1m2s\u001b[0m 27ms/step - accuracy: 0.9165 - loss: 0.8414 - val_accuracy: 0.7705 - val_loss: 1.1678\n",
      "Epoch 21/100\n",
      "\u001b[1m89/89\u001b[0m \u001b[32m━━━━━━━━━━━━━━━━━━━━\u001b[0m\u001b[37m\u001b[0m \u001b[1m2s\u001b[0m 27ms/step - accuracy: 0.9201 - loss: 0.8377 - val_accuracy: 0.7535 - val_loss: 1.1402\n",
      "Epoch 22/100\n",
      "\u001b[1m89/89\u001b[0m \u001b[32m━━━━━━━━━━━━━━━━━━━━\u001b[0m\u001b[37m\u001b[0m \u001b[1m2s\u001b[0m 27ms/step - accuracy: 0.9143 - loss: 0.8039 - val_accuracy: 0.7762 - val_loss: 1.1192\n",
      "Epoch 23/100\n",
      "\u001b[1m89/89\u001b[0m \u001b[32m━━━━━━━━━━━━━━━━━━━━\u001b[0m\u001b[37m\u001b[0m \u001b[1m2s\u001b[0m 26ms/step - accuracy: 0.9351 - loss: 0.7936 - val_accuracy: 0.7847 - val_loss: 1.0958\n",
      "Epoch 24/100\n",
      "\u001b[1m89/89\u001b[0m \u001b[32m━━━━━━━━━━━━━━━━━━━━\u001b[0m\u001b[37m\u001b[0m \u001b[1m2s\u001b[0m 27ms/step - accuracy: 0.9428 - loss: 0.7396 - val_accuracy: 0.7875 - val_loss: 1.0865\n",
      "Epoch 25/100\n",
      "\u001b[1m89/89\u001b[0m \u001b[32m━━━━━━━━━━━━━━━━━━━━\u001b[0m\u001b[37m\u001b[0m \u001b[1m2s\u001b[0m 26ms/step - accuracy: 0.9501 - loss: 0.7272 - val_accuracy: 0.7904 - val_loss: 1.0630\n",
      "Epoch 26/100\n",
      "\u001b[1m89/89\u001b[0m \u001b[32m━━━━━━━━━━━━━━━━━━━━\u001b[0m\u001b[37m\u001b[0m \u001b[1m2s\u001b[0m 26ms/step - accuracy: 0.9497 - loss: 0.7211 - val_accuracy: 0.7960 - val_loss: 1.0403\n",
      "Epoch 27/100\n",
      "\u001b[1m89/89\u001b[0m \u001b[32m━━━━━━━━━━━━━━━━━━━━\u001b[0m\u001b[37m\u001b[0m \u001b[1m2s\u001b[0m 26ms/step - accuracy: 0.9600 - loss: 0.6858 - val_accuracy: 0.7932 - val_loss: 1.0216\n",
      "Epoch 28/100\n",
      "\u001b[1m89/89\u001b[0m \u001b[32m━━━━━━━━━━━━━━━━━━━━\u001b[0m\u001b[37m\u001b[0m \u001b[1m2s\u001b[0m 27ms/step - accuracy: 0.9579 - loss: 0.6880 - val_accuracy: 0.8074 - val_loss: 1.0224\n",
      "Epoch 29/100\n",
      "\u001b[1m89/89\u001b[0m \u001b[32m━━━━━━━━━━━━━━━━━━━━\u001b[0m\u001b[37m\u001b[0m \u001b[1m2s\u001b[0m 27ms/step - accuracy: 0.9645 - loss: 0.6718 - val_accuracy: 0.8187 - val_loss: 1.0140\n",
      "Epoch 30/100\n",
      "\u001b[1m89/89\u001b[0m \u001b[32m━━━━━━━━━━━━━━━━━━━━\u001b[0m\u001b[37m\u001b[0m \u001b[1m2s\u001b[0m 27ms/step - accuracy: 0.9649 - loss: 0.6635 - val_accuracy: 0.8130 - val_loss: 0.9905\n",
      "Epoch 31/100\n",
      "\u001b[1m89/89\u001b[0m \u001b[32m━━━━━━━━━━━━━━━━━━━━\u001b[0m\u001b[37m\u001b[0m \u001b[1m2s\u001b[0m 28ms/step - accuracy: 0.9748 - loss: 0.6574 - val_accuracy: 0.8159 - val_loss: 0.9871\n",
      "Epoch 32/100\n",
      "\u001b[1m89/89\u001b[0m \u001b[32m━━━━━━━━━━━━━━━━━━━━\u001b[0m\u001b[37m\u001b[0m \u001b[1m2s\u001b[0m 28ms/step - accuracy: 0.9667 - loss: 0.6502 - val_accuracy: 0.8102 - val_loss: 0.9801\n",
      "Epoch 33/100\n",
      "\u001b[1m89/89\u001b[0m \u001b[32m━━━━━━━━━━━━━━━━━━━━\u001b[0m\u001b[37m\u001b[0m \u001b[1m2s\u001b[0m 27ms/step - accuracy: 0.9787 - loss: 0.6229 - val_accuracy: 0.8130 - val_loss: 0.9717\n",
      "Epoch 34/100\n",
      "\u001b[1m89/89\u001b[0m \u001b[32m━━━━━━━━━━━━━━━━━━━━\u001b[0m\u001b[37m\u001b[0m \u001b[1m2s\u001b[0m 28ms/step - accuracy: 0.9828 - loss: 0.6090 - val_accuracy: 0.8074 - val_loss: 0.9643\n",
      "Epoch 35/100\n",
      "\u001b[1m89/89\u001b[0m \u001b[32m━━━━━━━━━━━━━━━━━━━━\u001b[0m\u001b[37m\u001b[0m \u001b[1m2s\u001b[0m 27ms/step - accuracy: 0.9812 - loss: 0.6006 - val_accuracy: 0.8215 - val_loss: 0.9549\n",
      "Epoch 36/100\n",
      "\u001b[1m89/89\u001b[0m \u001b[32m━━━━━━━━━━━━━━━━━━━━\u001b[0m\u001b[37m\u001b[0m \u001b[1m2s\u001b[0m 28ms/step - accuracy: 0.9826 - loss: 0.5999 - val_accuracy: 0.8244 - val_loss: 0.9526\n",
      "Epoch 37/100\n",
      "\u001b[1m89/89\u001b[0m \u001b[32m━━━━━━━━━━━━━━━━━━━━\u001b[0m\u001b[37m\u001b[0m \u001b[1m2s\u001b[0m 27ms/step - accuracy: 0.9853 - loss: 0.5753 - val_accuracy: 0.8187 - val_loss: 0.9480\n",
      "Epoch 38/100\n",
      "\u001b[1m89/89\u001b[0m \u001b[32m━━━━━━━━━━━━━━━━━━━━\u001b[0m\u001b[37m\u001b[0m \u001b[1m2s\u001b[0m 27ms/step - accuracy: 0.9838 - loss: 0.5772 - val_accuracy: 0.8300 - val_loss: 0.9334\n",
      "Epoch 39/100\n",
      "\u001b[1m89/89\u001b[0m \u001b[32m━━━━━━━━━━━━━━━━━━━━\u001b[0m\u001b[37m\u001b[0m \u001b[1m2s\u001b[0m 28ms/step - accuracy: 0.9883 - loss: 0.5615 - val_accuracy: 0.8130 - val_loss: 0.9347\n",
      "Epoch 40/100\n",
      "\u001b[1m89/89\u001b[0m \u001b[32m━━━━━━━━━━━━━━━━━━━━\u001b[0m\u001b[37m\u001b[0m \u001b[1m2s\u001b[0m 27ms/step - accuracy: 0.9874 - loss: 0.5718 - val_accuracy: 0.8130 - val_loss: 0.9204\n",
      "Epoch 41/100\n",
      "\u001b[1m89/89\u001b[0m \u001b[32m━━━━━━━━━━━━━━━━━━━━\u001b[0m\u001b[37m\u001b[0m \u001b[1m3s\u001b[0m 28ms/step - accuracy: 0.9869 - loss: 0.5622 - val_accuracy: 0.8130 - val_loss: 0.9162\n",
      "Epoch 42/100\n",
      "\u001b[1m89/89\u001b[0m \u001b[32m━━━━━━━━━━━━━━━━━━━━\u001b[0m\u001b[37m\u001b[0m \u001b[1m2s\u001b[0m 28ms/step - accuracy: 0.9931 - loss: 0.5426 - val_accuracy: 0.8244 - val_loss: 0.9152\n",
      "Epoch 43/100\n",
      "\u001b[1m89/89\u001b[0m \u001b[32m━━━━━━━━━━━━━━━━━━━━\u001b[0m\u001b[37m\u001b[0m \u001b[1m2s\u001b[0m 27ms/step - accuracy: 0.9831 - loss: 0.5581 - val_accuracy: 0.8215 - val_loss: 0.9114\n",
      "Epoch 44/100\n",
      "\u001b[1m89/89\u001b[0m \u001b[32m━━━━━━━━━━━━━━━━━━━━\u001b[0m\u001b[37m\u001b[0m \u001b[1m3s\u001b[0m 28ms/step - accuracy: 0.9844 - loss: 0.5508 - val_accuracy: 0.8215 - val_loss: 0.9116\n",
      "Epoch 45/100\n",
      "\u001b[1m89/89\u001b[0m \u001b[32m━━━━━━━━━━━━━━━━━━━━\u001b[0m\u001b[37m\u001b[0m \u001b[1m2s\u001b[0m 28ms/step - accuracy: 0.9898 - loss: 0.5263 - val_accuracy: 0.8102 - val_loss: 0.9195\n",
      "Epoch 46/100\n",
      "\u001b[1m89/89\u001b[0m \u001b[32m━━━━━━━━━━━━━━━━━━━━\u001b[0m\u001b[37m\u001b[0m \u001b[1m3s\u001b[0m 29ms/step - accuracy: 0.9923 - loss: 0.5325 - val_accuracy: 0.8300 - val_loss: 0.9018\n",
      "Epoch 47/100\n",
      "\u001b[1m89/89\u001b[0m \u001b[32m━━━━━━━━━━━━━━━━━━━━\u001b[0m\u001b[37m\u001b[0m \u001b[1m3s\u001b[0m 29ms/step - accuracy: 0.9898 - loss: 0.5475 - val_accuracy: 0.8442 - val_loss: 0.8922\n",
      "Epoch 48/100\n",
      "\u001b[1m89/89\u001b[0m \u001b[32m━━━━━━━━━━━━━━━━━━━━\u001b[0m\u001b[37m\u001b[0m \u001b[1m2s\u001b[0m 28ms/step - accuracy: 0.9959 - loss: 0.5052 - val_accuracy: 0.8442 - val_loss: 0.8858\n",
      "Epoch 49/100\n",
      "\u001b[1m89/89\u001b[0m \u001b[32m━━━━━━━━━━━━━━━━━━━━\u001b[0m\u001b[37m\u001b[0m \u001b[1m2s\u001b[0m 28ms/step - accuracy: 0.9914 - loss: 0.5169 - val_accuracy: 0.8244 - val_loss: 0.8734\n",
      "Epoch 50/100\n",
      "\u001b[1m89/89\u001b[0m \u001b[32m━━━━━━━━━━━━━━━━━━━━\u001b[0m\u001b[37m\u001b[0m \u001b[1m2s\u001b[0m 28ms/step - accuracy: 0.9941 - loss: 0.4945 - val_accuracy: 0.8244 - val_loss: 0.8670\n",
      "Epoch 51/100\n",
      "\u001b[1m89/89\u001b[0m \u001b[32m━━━━━━━━━━━━━━━━━━━━\u001b[0m\u001b[37m\u001b[0m \u001b[1m2s\u001b[0m 27ms/step - accuracy: 0.9970 - loss: 0.4985 - val_accuracy: 0.8244 - val_loss: 0.8720\n",
      "Epoch 52/100\n",
      "\u001b[1m89/89\u001b[0m \u001b[32m━━━━━━━━━━━━━━━━━━━━\u001b[0m\u001b[37m\u001b[0m \u001b[1m2s\u001b[0m 27ms/step - accuracy: 0.9968 - loss: 0.4925 - val_accuracy: 0.8215 - val_loss: 0.8582\n",
      "Epoch 53/100\n",
      "\u001b[1m89/89\u001b[0m \u001b[32m━━━━━━━━━━━━━━━━━━━━\u001b[0m\u001b[37m\u001b[0m \u001b[1m2s\u001b[0m 28ms/step - accuracy: 0.9938 - loss: 0.5075 - val_accuracy: 0.8300 - val_loss: 0.8552\n",
      "Epoch 54/100\n",
      "\u001b[1m89/89\u001b[0m \u001b[32m━━━━━━━━━━━━━━━━━━━━\u001b[0m\u001b[37m\u001b[0m \u001b[1m2s\u001b[0m 27ms/step - accuracy: 0.9955 - loss: 0.5094 - val_accuracy: 0.8470 - val_loss: 0.8576\n",
      "Epoch 55/100\n",
      "\u001b[1m89/89\u001b[0m \u001b[32m━━━━━━━━━━━━━━━━━━━━\u001b[0m\u001b[37m\u001b[0m \u001b[1m2s\u001b[0m 27ms/step - accuracy: 0.9912 - loss: 0.4994 - val_accuracy: 0.8272 - val_loss: 0.8500\n",
      "Epoch 56/100\n",
      "\u001b[1m89/89\u001b[0m \u001b[32m━━━━━━━━━━━━━━━━━━━━\u001b[0m\u001b[37m\u001b[0m \u001b[1m2s\u001b[0m 27ms/step - accuracy: 0.9945 - loss: 0.4963 - val_accuracy: 0.8300 - val_loss: 0.8616\n",
      "Epoch 57/100\n",
      "\u001b[1m89/89\u001b[0m \u001b[32m━━━━━━━━━━━━━━━━━━━━\u001b[0m\u001b[37m\u001b[0m \u001b[1m2s\u001b[0m 27ms/step - accuracy: 0.9948 - loss: 0.4984 - val_accuracy: 0.8300 - val_loss: 0.8662\n",
      "Epoch 58/100\n",
      "\u001b[1m89/89\u001b[0m \u001b[32m━━━━━━━━━━━━━━━━━━━━\u001b[0m\u001b[37m\u001b[0m \u001b[1m2s\u001b[0m 27ms/step - accuracy: 0.9928 - loss: 0.4899 - val_accuracy: 0.8357 - val_loss: 0.8482\n",
      "Epoch 59/100\n",
      "\u001b[1m89/89\u001b[0m \u001b[32m━━━━━━━━━━━━━━━━━━━━\u001b[0m\u001b[37m\u001b[0m \u001b[1m2s\u001b[0m 28ms/step - accuracy: 0.9966 - loss: 0.4855 - val_accuracy: 0.8329 - val_loss: 0.8554\n",
      "Epoch 60/100\n",
      "\u001b[1m89/89\u001b[0m \u001b[32m━━━━━━━━━━━━━━━━━━━━\u001b[0m\u001b[37m\u001b[0m \u001b[1m2s\u001b[0m 26ms/step - accuracy: 1.0000 - loss: 0.4831 - val_accuracy: 0.8414 - val_loss: 0.8538\n",
      "Epoch 61/100\n",
      "\u001b[1m89/89\u001b[0m \u001b[32m━━━━━━━━━━━━━━━━━━━━\u001b[0m\u001b[37m\u001b[0m \u001b[1m2s\u001b[0m 27ms/step - accuracy: 0.9971 - loss: 0.4748 - val_accuracy: 0.8385 - val_loss: 0.8376\n",
      "Epoch 62/100\n",
      "\u001b[1m89/89\u001b[0m \u001b[32m━━━━━━━━━━━━━━━━━━━━\u001b[0m\u001b[37m\u001b[0m \u001b[1m2s\u001b[0m 26ms/step - accuracy: 0.9942 - loss: 0.4710 - val_accuracy: 0.8272 - val_loss: 0.8483\n",
      "Epoch 63/100\n",
      "\u001b[1m89/89\u001b[0m \u001b[32m━━━━━━━━━━━━━━━━━━━━\u001b[0m\u001b[37m\u001b[0m \u001b[1m2s\u001b[0m 27ms/step - accuracy: 0.9913 - loss: 0.4686 - val_accuracy: 0.8300 - val_loss: 0.8424\n",
      "Epoch 64/100\n",
      "\u001b[1m89/89\u001b[0m \u001b[32m━━━━━━━━━━━━━━━━━━━━\u001b[0m\u001b[37m\u001b[0m \u001b[1m2s\u001b[0m 27ms/step - accuracy: 0.9964 - loss: 0.4673 - val_accuracy: 0.8244 - val_loss: 0.8510\n",
      "Epoch 65/100\n",
      "\u001b[1m89/89\u001b[0m \u001b[32m━━━━━━━━━━━━━━━━━━━━\u001b[0m\u001b[37m\u001b[0m \u001b[1m2s\u001b[0m 26ms/step - accuracy: 0.9986 - loss: 0.4682 - val_accuracy: 0.8329 - val_loss: 0.8422\n",
      "Epoch 66/100\n",
      "\u001b[1m89/89\u001b[0m \u001b[32m━━━━━━━━━━━━━━━━━━━━\u001b[0m\u001b[37m\u001b[0m \u001b[1m2s\u001b[0m 26ms/step - accuracy: 0.9881 - loss: 0.4828 - val_accuracy: 0.8300 - val_loss: 0.8328\n",
      "Epoch 67/100\n",
      "\u001b[1m89/89\u001b[0m \u001b[32m━━━━━━━━━━━━━━━━━━━━\u001b[0m\u001b[37m\u001b[0m \u001b[1m2s\u001b[0m 27ms/step - accuracy: 0.9932 - loss: 0.4615 - val_accuracy: 0.8300 - val_loss: 0.8343\n",
      "Epoch 68/100\n",
      "\u001b[1m89/89\u001b[0m \u001b[32m━━━━━━━━━━━━━━━━━━━━\u001b[0m\u001b[37m\u001b[0m \u001b[1m2s\u001b[0m 26ms/step - accuracy: 0.9992 - loss: 0.4523 - val_accuracy: 0.8357 - val_loss: 0.8370\n",
      "Epoch 69/100\n",
      "\u001b[1m89/89\u001b[0m \u001b[32m━━━━━━━━━━━━━━━━━━━━\u001b[0m\u001b[37m\u001b[0m \u001b[1m2s\u001b[0m 26ms/step - accuracy: 0.9994 - loss: 0.4499 - val_accuracy: 0.8385 - val_loss: 0.8438\n",
      "Epoch 70/100\n",
      "\u001b[1m89/89\u001b[0m \u001b[32m━━━━━━━━━━━━━━━━━━━━\u001b[0m\u001b[37m\u001b[0m \u001b[1m2s\u001b[0m 27ms/step - accuracy: 0.9998 - loss: 0.4459 - val_accuracy: 0.8329 - val_loss: 0.8422\n",
      "Epoch 71/100\n",
      "\u001b[1m89/89\u001b[0m \u001b[32m━━━━━━━━━━━━━━━━━━━━\u001b[0m\u001b[37m\u001b[0m \u001b[1m2s\u001b[0m 27ms/step - accuracy: 0.9946 - loss: 0.4490 - val_accuracy: 0.8272 - val_loss: 0.8366\n",
      "Epoch 72/100\n",
      "\u001b[1m89/89\u001b[0m \u001b[32m━━━━━━━━━━━━━━━━━━━━\u001b[0m\u001b[37m\u001b[0m \u001b[1m2s\u001b[0m 27ms/step - accuracy: 0.9951 - loss: 0.4524 - val_accuracy: 0.8357 - val_loss: 0.8511\n",
      "Epoch 73/100\n",
      "\u001b[1m89/89\u001b[0m \u001b[32m━━━━━━━━━━━━━━━━━━━━\u001b[0m\u001b[37m\u001b[0m \u001b[1m2s\u001b[0m 27ms/step - accuracy: 0.9998 - loss: 0.4444 - val_accuracy: 0.8414 - val_loss: 0.8351\n",
      "Epoch 74/100\n",
      "\u001b[1m89/89\u001b[0m \u001b[32m━━━━━━━━━━━━━━━━━━━━\u001b[0m\u001b[37m\u001b[0m \u001b[1m2s\u001b[0m 27ms/step - accuracy: 0.9992 - loss: 0.4425 - val_accuracy: 0.8385 - val_loss: 0.8326\n",
      "Epoch 75/100\n",
      "\u001b[1m89/89\u001b[0m \u001b[32m━━━━━━━━━━━━━━━━━━━━\u001b[0m\u001b[37m\u001b[0m \u001b[1m2s\u001b[0m 26ms/step - accuracy: 0.9981 - loss: 0.4387 - val_accuracy: 0.8414 - val_loss: 0.8252\n",
      "Epoch 76/100\n",
      "\u001b[1m89/89\u001b[0m \u001b[32m━━━━━━━━━━━━━━━━━━━━\u001b[0m\u001b[37m\u001b[0m \u001b[1m2s\u001b[0m 27ms/step - accuracy: 1.0000 - loss: 0.4419 - val_accuracy: 0.8414 - val_loss: 0.8257\n",
      "Epoch 77/100\n",
      "\u001b[1m89/89\u001b[0m \u001b[32m━━━━━━━━━━━━━━━━━━━━\u001b[0m\u001b[37m\u001b[0m \u001b[1m2s\u001b[0m 26ms/step - accuracy: 0.9956 - loss: 0.4454 - val_accuracy: 0.8499 - val_loss: 0.8255\n",
      "Epoch 78/100\n",
      "\u001b[1m89/89\u001b[0m \u001b[32m━━━━━━━━━━━━━━━━━━━━\u001b[0m\u001b[37m\u001b[0m \u001b[1m2s\u001b[0m 27ms/step - accuracy: 0.9956 - loss: 0.4553 - val_accuracy: 0.8385 - val_loss: 0.8217\n",
      "Epoch 79/100\n",
      "\u001b[1m89/89\u001b[0m \u001b[32m━━━━━━━━━━━━━━━━━━━━\u001b[0m\u001b[37m\u001b[0m \u001b[1m2s\u001b[0m 27ms/step - accuracy: 0.9965 - loss: 0.4465 - val_accuracy: 0.8329 - val_loss: 0.8229\n",
      "Epoch 80/100\n",
      "\u001b[1m89/89\u001b[0m \u001b[32m━━━━━━━━━━━━━━━━━━━━\u001b[0m\u001b[37m\u001b[0m \u001b[1m2s\u001b[0m 27ms/step - accuracy: 0.9976 - loss: 0.4385 - val_accuracy: 0.8414 - val_loss: 0.8267\n",
      "Epoch 81/100\n",
      "\u001b[1m89/89\u001b[0m \u001b[32m━━━━━━━━━━━━━━━━━━━━\u001b[0m\u001b[37m\u001b[0m \u001b[1m2s\u001b[0m 27ms/step - accuracy: 1.0000 - loss: 0.4314 - val_accuracy: 0.8442 - val_loss: 0.8234\n",
      "Epoch 82/100\n",
      "\u001b[1m89/89\u001b[0m \u001b[32m━━━━━━━━━━━━━━━━━━━━\u001b[0m\u001b[37m\u001b[0m \u001b[1m2s\u001b[0m 26ms/step - accuracy: 0.9953 - loss: 0.4307 - val_accuracy: 0.8357 - val_loss: 0.8269\n",
      "Epoch 83/100\n",
      "\u001b[1m89/89\u001b[0m \u001b[32m━━━━━━━━━━━━━━━━━━━━\u001b[0m\u001b[37m\u001b[0m \u001b[1m2s\u001b[0m 26ms/step - accuracy: 0.9981 - loss: 0.4314 - val_accuracy: 0.8414 - val_loss: 0.8065\n",
      "Epoch 84/100\n",
      "\u001b[1m89/89\u001b[0m \u001b[32m━━━━━━━━━━━━━━━━━━━━\u001b[0m\u001b[37m\u001b[0m \u001b[1m2s\u001b[0m 27ms/step - accuracy: 0.9980 - loss: 0.4289 - val_accuracy: 0.8385 - val_loss: 0.8153\n",
      "Epoch 85/100\n",
      "\u001b[1m89/89\u001b[0m \u001b[32m━━━━━━━━━━━━━━━━━━━━\u001b[0m\u001b[37m\u001b[0m \u001b[1m2s\u001b[0m 27ms/step - accuracy: 0.9995 - loss: 0.4294 - val_accuracy: 0.8527 - val_loss: 0.8137\n",
      "Epoch 86/100\n",
      "\u001b[1m89/89\u001b[0m \u001b[32m━━━━━━━━━━━━━━━━━━━━\u001b[0m\u001b[37m\u001b[0m \u001b[1m2s\u001b[0m 27ms/step - accuracy: 0.9998 - loss: 0.4269 - val_accuracy: 0.8385 - val_loss: 0.8080\n",
      "Epoch 87/100\n",
      "\u001b[1m89/89\u001b[0m \u001b[32m━━━━━━━━━━━━━━━━━━━━\u001b[0m\u001b[37m\u001b[0m \u001b[1m3s\u001b[0m 28ms/step - accuracy: 0.9967 - loss: 0.4209 - val_accuracy: 0.8357 - val_loss: 0.8035\n",
      "Epoch 88/100\n",
      "\u001b[1m89/89\u001b[0m \u001b[32m━━━━━━━━━━━━━━━━━━━━\u001b[0m\u001b[37m\u001b[0m \u001b[1m2s\u001b[0m 27ms/step - accuracy: 0.9997 - loss: 0.4261 - val_accuracy: 0.8300 - val_loss: 0.8211\n",
      "Epoch 89/100\n",
      "\u001b[1m89/89\u001b[0m \u001b[32m━━━━━━━━━━━━━━━━━━━━\u001b[0m\u001b[37m\u001b[0m \u001b[1m2s\u001b[0m 25ms/step - accuracy: 1.0000 - loss: 0.4256 - val_accuracy: 0.8442 - val_loss: 0.8173\n",
      "Epoch 90/100\n",
      "\u001b[1m89/89\u001b[0m \u001b[32m━━━━━━━━━━━━━━━━━━━━\u001b[0m\u001b[37m\u001b[0m \u001b[1m2s\u001b[0m 26ms/step - accuracy: 1.0000 - loss: 0.4213 - val_accuracy: 0.8357 - val_loss: 0.8151\n",
      "Epoch 91/100\n",
      "\u001b[1m89/89\u001b[0m \u001b[32m━━━━━━━━━━━━━━━━━━━━\u001b[0m\u001b[37m\u001b[0m \u001b[1m2s\u001b[0m 25ms/step - accuracy: 0.9988 - loss: 0.4231 - val_accuracy: 0.8300 - val_loss: 0.8063\n",
      "Epoch 92/100\n",
      "\u001b[1m89/89\u001b[0m \u001b[32m━━━━━━━━━━━━━━━━━━━━\u001b[0m\u001b[37m\u001b[0m \u001b[1m2s\u001b[0m 26ms/step - accuracy: 0.9995 - loss: 0.4180 - val_accuracy: 0.8357 - val_loss: 0.8127\n",
      "Epoch 93/100\n",
      "\u001b[1m89/89\u001b[0m \u001b[32m━━━━━━━━━━━━━━━━━━━━\u001b[0m\u001b[37m\u001b[0m \u001b[1m3s\u001b[0m 29ms/step - accuracy: 0.9981 - loss: 0.4159 - val_accuracy: 0.8385 - val_loss: 0.8092\n",
      "Epoch 94/100\n",
      "\u001b[1m89/89\u001b[0m \u001b[32m━━━━━━━━━━━━━━━━━━━━\u001b[0m\u001b[37m\u001b[0m \u001b[1m2s\u001b[0m 26ms/step - accuracy: 0.9962 - loss: 0.4174 - val_accuracy: 0.8300 - val_loss: 0.8122\n",
      "Epoch 95/100\n",
      "\u001b[1m89/89\u001b[0m \u001b[32m━━━━━━━━━━━━━━━━━━━━\u001b[0m\u001b[37m\u001b[0m \u001b[1m2s\u001b[0m 26ms/step - accuracy: 0.9986 - loss: 0.4178 - val_accuracy: 0.8357 - val_loss: 0.8108\n",
      "Epoch 96/100\n",
      "\u001b[1m89/89\u001b[0m \u001b[32m━━━━━━━━━━━━━━━━━━━━\u001b[0m\u001b[37m\u001b[0m \u001b[1m2s\u001b[0m 28ms/step - accuracy: 0.9996 - loss: 0.4088 - val_accuracy: 0.8414 - val_loss: 0.8086\n",
      "Epoch 97/100\n",
      "\u001b[1m89/89\u001b[0m \u001b[32m━━━━━━━━━━━━━━━━━━━━\u001b[0m\u001b[37m\u001b[0m \u001b[1m2s\u001b[0m 28ms/step - accuracy: 1.0000 - loss: 0.4166 - val_accuracy: 0.8555 - val_loss: 0.8091\n",
      "Epoch 98/100\n",
      "\u001b[1m89/89\u001b[0m \u001b[32m━━━━━━━━━━━━━━━━━━━━\u001b[0m\u001b[37m\u001b[0m \u001b[1m3s\u001b[0m 28ms/step - accuracy: 0.9993 - loss: 0.4115 - val_accuracy: 0.8414 - val_loss: 0.8029\n",
      "Epoch 99/100\n",
      "\u001b[1m89/89\u001b[0m \u001b[32m━━━━━━━━━━━━━━━━━━━━\u001b[0m\u001b[37m\u001b[0m \u001b[1m3s\u001b[0m 29ms/step - accuracy: 0.9998 - loss: 0.4058 - val_accuracy: 0.8442 - val_loss: 0.8056\n",
      "Epoch 100/100\n",
      "\u001b[1m89/89\u001b[0m \u001b[32m━━━━━━━━━━━━━━━━━━━━\u001b[0m\u001b[37m\u001b[0m \u001b[1m3s\u001b[0m 28ms/step - accuracy: 0.9985 - loss: 0.4096 - val_accuracy: 0.8470 - val_loss: 0.8069\n"
     ]
    }
   ],
   "source": [
    "history=model.fit(x_traincnn, y_train, validation_data=(x_testcnn, y_test), epochs=100, \n",
    "          batch_size=16)"
   ]
  },
  {
   "cell_type": "code",
   "execution_count": 34,
   "metadata": {
    "execution": {
     "iopub.execute_input": "2024-05-14T01:11:52.420189Z",
     "iopub.status.busy": "2024-05-14T01:11:52.419870Z",
     "iopub.status.idle": "2024-05-14T01:11:55.076984Z",
     "shell.execute_reply": "2024-05-14T01:11:55.076002Z",
     "shell.execute_reply.started": "2024-05-14T01:11:52.420157Z"
    },
    "trusted": true
   },
   "outputs": [
    {
     "name": "stdout",
     "output_type": "stream",
     "text": [
      "\u001b[1m12/12\u001b[0m \u001b[32m━━━━━━━━━━━━━━━━━━━━\u001b[0m\u001b[37m\u001b[0m \u001b[1m0s\u001b[0m 14ms/step - accuracy: 0.8630 - loss: 0.7746\n",
      "Accuracy of our model on test data :  84.70255136489868 %\n"
     ]
    }
   ],
   "source": [
    "print(\"Accuracy of our model on test data : \" , model.evaluate(x_testcnn,y_test)[1]*100 , \"%\")"
   ]
  },
  {
   "cell_type": "code",
   "execution_count": 35,
   "metadata": {
    "execution": {
     "iopub.execute_input": "2024-05-14T01:11:55.078368Z",
     "iopub.status.busy": "2024-05-14T01:11:55.078090Z",
     "iopub.status.idle": "2024-05-14T01:11:56.930664Z",
     "shell.execute_reply": "2024-05-14T01:11:56.929558Z",
     "shell.execute_reply.started": "2024-05-14T01:11:55.078340Z"
    },
    "trusted": true
   },
   "outputs": [
    {
     "name": "stdout",
     "output_type": "stream",
     "text": [
      "\u001b[1m12/12\u001b[0m \u001b[32m━━━━━━━━━━━━━━━━━━━━\u001b[0m\u001b[37m\u001b[0m \u001b[1m1s\u001b[0m 64ms/step\n"
     ]
    },
    {
     "data": {
      "text/html": [
       "<div>\n",
       "<style scoped>\n",
       "    .dataframe tbody tr th:only-of-type {\n",
       "        vertical-align: middle;\n",
       "    }\n",
       "\n",
       "    .dataframe tbody tr th {\n",
       "        vertical-align: top;\n",
       "    }\n",
       "\n",
       "    .dataframe thead th {\n",
       "        text-align: right;\n",
       "    }\n",
       "</style>\n",
       "<table border=\"1\" class=\"dataframe\">\n",
       "  <thead>\n",
       "    <tr style=\"text-align: right;\">\n",
       "      <th></th>\n",
       "      <th>Predicted Labels</th>\n",
       "      <th>Actual Labels</th>\n",
       "    </tr>\n",
       "  </thead>\n",
       "  <tbody>\n",
       "    <tr>\n",
       "      <th>0</th>\n",
       "      <td>Angry</td>\n",
       "      <td>Angry</td>\n",
       "    </tr>\n",
       "    <tr>\n",
       "      <th>1</th>\n",
       "      <td>Sad</td>\n",
       "      <td>Disgust</td>\n",
       "    </tr>\n",
       "    <tr>\n",
       "      <th>2</th>\n",
       "      <td>Sad</td>\n",
       "      <td>Sad</td>\n",
       "    </tr>\n",
       "    <tr>\n",
       "      <th>3</th>\n",
       "      <td>Sad</td>\n",
       "      <td>Sad</td>\n",
       "    </tr>\n",
       "    <tr>\n",
       "      <th>4</th>\n",
       "      <td>Surprise</td>\n",
       "      <td>Surprise</td>\n",
       "    </tr>\n",
       "    <tr>\n",
       "      <th>5</th>\n",
       "      <td>Fear</td>\n",
       "      <td>Fear</td>\n",
       "    </tr>\n",
       "    <tr>\n",
       "      <th>6</th>\n",
       "      <td>Sad</td>\n",
       "      <td>Sad</td>\n",
       "    </tr>\n",
       "    <tr>\n",
       "      <th>7</th>\n",
       "      <td>Neutral</td>\n",
       "      <td>Neutral</td>\n",
       "    </tr>\n",
       "    <tr>\n",
       "      <th>8</th>\n",
       "      <td>Angry</td>\n",
       "      <td>Angry</td>\n",
       "    </tr>\n",
       "    <tr>\n",
       "      <th>9</th>\n",
       "      <td>Happy</td>\n",
       "      <td>Happy</td>\n",
       "    </tr>\n",
       "  </tbody>\n",
       "</table>\n",
       "</div>"
      ],
      "text/plain": [
       "  Predicted Labels Actual Labels\n",
       "0            Angry         Angry\n",
       "1              Sad       Disgust\n",
       "2              Sad           Sad\n",
       "3              Sad           Sad\n",
       "4         Surprise      Surprise\n",
       "5             Fear          Fear\n",
       "6              Sad           Sad\n",
       "7          Neutral       Neutral\n",
       "8            Angry         Angry\n",
       "9            Happy         Happy"
      ]
     },
     "execution_count": 35,
     "metadata": {},
     "output_type": "execute_result"
    }
   ],
   "source": [
    "# predicting on test data.\n",
    "pred_test0 = model.predict(x_testcnn)\n",
    "y_pred0 = encoder.inverse_transform(pred_test0)\n",
    "y_test0 = encoder.inverse_transform(y_test)\n",
    "\n",
    "# Check for random predictions\n",
    "df0 = pd.DataFrame(columns=['Predicted Labels', 'Actual Labels'])\n",
    "df0['Predicted Labels'] = y_pred0.flatten()\n",
    "df0['Actual Labels'] = y_test0.flatten()\n",
    "\n",
    "df0.head(10)"
   ]
  },
  {
   "attachments": {},
   "cell_type": "markdown",
   "metadata": {},
   "source": [
    "Some plots of multi_model\n",
    "______________________________________________\n"
   ]
  },
  {
   "attachments": {},
   "cell_type": "markdown",
   "metadata": {},
   "source": [
    "# Evalutation"
   ]
  },
  {
   "attachments": {},
   "cell_type": "markdown",
   "metadata": {},
   "source": [
    "Results of best model"
   ]
  },
  {
   "cell_type": "code",
   "execution_count": 36,
   "metadata": {
    "execution": {
     "iopub.execute_input": "2024-05-14T01:11:56.946248Z",
     "iopub.status.busy": "2024-05-14T01:11:56.945655Z",
     "iopub.status.idle": "2024-05-14T01:11:57.443819Z",
     "shell.execute_reply": "2024-05-14T01:11:57.442797Z",
     "shell.execute_reply.started": "2024-05-14T01:11:56.946206Z"
    },
    "trusted": true
   },
   "outputs": [
    {
     "data": {
      "image/png": "[encoded data removed]",
      "text/plain": [
       "<Figure size 1200x1000 with 2 Axes>"
      ]
     },
     "metadata": {},
     "output_type": "display_data"
    },
    {
     "name": "stdout",
     "output_type": "stream",
     "text": [
      "              precision    recall  f1-score   support\n",
      "\n",
      "       Angry       0.75      0.95      0.84        42\n",
      "     Disgust       0.90      0.77      0.83        47\n",
      "        Fear       0.84      0.77      0.80        47\n",
      "       Happy       0.83      0.86      0.84        56\n",
      "     Neutral       0.84      0.90      0.87        48\n",
      "         Sad       0.89      0.86      0.88        57\n",
      "    Surprise       0.89      0.84      0.86        56\n",
      "\n",
      "    accuracy                           0.85       353\n",
      "   macro avg       0.85      0.85      0.85       353\n",
      "weighted avg       0.85      0.85      0.85       353\n",
      "\n"
     ]
    }
   ],
   "source": [
    "from sklearn.metrics import confusion_matrix,classification_report\n",
    "cm = confusion_matrix(y_test0, y_pred0)\n",
    "plt.figure(figsize = (12, 10))\n",
    "cm = pd.DataFrame(cm , index = [i for i in encoder.categories_] , columns = [i for i in encoder.categories_])\n",
    "#cm = cm.astype('float') / cm.sum(axis=1)[:, np.newaxis]\n",
    "sns.heatmap(cm, linecolor='white', cmap='Blues', linewidth=1, annot=True, fmt='.2f')\n",
    "plt.title('Confusion Matrix', size=20)\n",
    "plt.xlabel('Predicted Labels', size=14)\n",
    "plt.ylabel('Actual Labels', size=14)\n",
    "plt.show()\n",
    "print(classification_report(y_test0, y_pred0))"
   ]
  },
  {
   "cell_type": "code",
   "execution_count": 37,
   "metadata": {},
   "outputs": [
    {
     "data": {
      "image/png": "[encoded data removed]",
      "text/plain": [
       "<Figure size 1200x400 with 2 Axes>"
      ]
     },
     "metadata": {},
     "output_type": "display_data"
    }
   ],
   "source": [
    "import matplotlib.pyplot as plt\n",
    "\n",
    "# 가정: 'history'는 model.fit()의 결과로 얻은 History 객체입니다.\n",
    "# 예: history = model.fit(x_train, y_train, epochs=10, validation_data=(x_val, y_val))\n",
    "\n",
    "def plot_history(history):\n",
    "    # 손실 그래프\n",
    "    plt.figure(figsize=(12, 4))\n",
    "\n",
    "    plt.subplot(1, 2, 1)\n",
    "    plt.plot(history.history['loss'], label='Train Loss')\n",
    "    plt.plot(history.history['val_loss'], label='Validation Loss')\n",
    "    plt.xlabel('Epochs')\n",
    "    plt.ylabel('Loss')\n",
    "    plt.title('Loss Over Epochs')\n",
    "    plt.legend()\n",
    "\n",
    "    # 정확도 그래프\n",
    "    plt.subplot(1, 2, 2)\n",
    "    plt.plot(history.history['accuracy'], label='Train Accuracy')\n",
    "    plt.plot(history.history['val_accuracy'], label='Validation Accuracy')\n",
    "    plt.xlabel('Epochs')\n",
    "    plt.ylabel('Accuracy')\n",
    "    plt.title('Accuracy Over Epochs')\n",
    "    plt.legend()\n",
    "\n",
    "    plt.show()\n",
    "\n",
    "# history 객체를 사용하여 그래프 출력\n",
    "plot_history(history)\n"
   ]
  },
  {
   "cell_type": "code",
   "execution_count": 38,
   "metadata": {},
   "outputs": [
    {
     "name": "stderr",
     "output_type": "stream",
     "text": [
      "WARNING:absl:You are saving your model as an HDF5 file via `model.save()` or `keras.saving.save_model(model)`. This file format is considered legacy. We recommend using instead the native Keras format, e.g. `model.save('my_model.keras')` or `keras.saving.save_model(model, 'my_model.keras')`. \n"
     ]
    }
   ],
   "source": [
    "model.save(\"emovo_withoutmfcc_augmentation_sa.h5\")"
   ]
  },
  {
   "cell_type": "code",
   "execution_count": null,
   "metadata": {},
   "outputs": [
    {
     "name": "stderr",
     "output_type": "stream",
     "text": [
      "WARNING:absl:You are saving your model as an HDF5 file via `model.save()` or `keras.saving.save_model(model)`. This file format is considered legacy. We recommend using instead the native Keras format, e.g. `model.save('my_model.keras')` or `keras.saving.save_model(model, 'my_model.keras')`. \n"
     ]
    },
    {
     "ename": "ValueError",
     "evalue": "Unable to synchronously create dataset (name already exists)",
     "output_type": "error",
     "traceback": [
      "\u001b[0;31m---------------------------------------------------------------------------\u001b[0m\n",
      "\u001b[0;31mValueError\u001b[0m                                Traceback (most recent call last)\n",
      "Cell \u001b[0;32mIn[21], line 1\u001b[0m\n",
      "\u001b[0;32m----> 1\u001b[0m \u001b[43mmodel\u001b[49m\u001b[38;5;241;43m.\u001b[39;49m\u001b[43msave\u001b[49m\u001b[43m(\u001b[49m\u001b[38;5;124;43m\"\u001b[39;49m\u001b[38;5;124;43msavee_preprocessed/Results/savee_mfcc_noaugmentation_ca.h5\u001b[39;49m\u001b[38;5;124;43m\"\u001b[39;49m\u001b[43m)\u001b[49m\n",
      "\n",
      "File \u001b[0;32m~/miniforge3/envs/minmin/lib/python3.10/site-packages/keras/src/utils/traceback_utils.py:122\u001b[0m, in \u001b[0;36mfilter_traceback.<locals>.error_handler\u001b[0;34m(*args, **kwargs)\u001b[0m\n",
      "\u001b[1;32m    119\u001b[0m     filtered_tb \u001b[38;5;241m=\u001b[39m _process_traceback_frames(e\u001b[38;5;241m.\u001b[39m__traceback__)\n",
      "\u001b[1;32m    120\u001b[0m     \u001b[38;5;66;03m# To get the full stack trace, call:\u001b[39;00m\n",
      "\u001b[1;32m    121\u001b[0m     \u001b[38;5;66;03m# `keras.config.disable_traceback_filtering()`\u001b[39;00m\n",
      "\u001b[0;32m--> 122\u001b[0m     \u001b[38;5;28;01mraise\u001b[39;00m e\u001b[38;5;241m.\u001b[39mwith_traceback(filtered_tb) \u001b[38;5;28;01mfrom\u001b[39;00m \u001b[38;5;28;01mNone\u001b[39;00m\n",
      "\u001b[1;32m    123\u001b[0m \u001b[38;5;28;01mfinally\u001b[39;00m:\n",
      "\u001b[1;32m    124\u001b[0m     \u001b[38;5;28;01mdel\u001b[39;00m filtered_tb\n",
      "\n",
      "File \u001b[0;32m~/miniforge3/envs/minmin/lib/python3.10/site-packages/h5py/_hl/group.py:183\u001b[0m, in \u001b[0;36mGroup.create_dataset\u001b[0;34m(self, name, shape, dtype, data, **kwds)\u001b[0m\n",
      "\u001b[1;32m    180\u001b[0m         parent_path, name \u001b[38;5;241m=\u001b[39m name\u001b[38;5;241m.\u001b[39mrsplit(\u001b[38;5;124mb\u001b[39m\u001b[38;5;124m'\u001b[39m\u001b[38;5;124m/\u001b[39m\u001b[38;5;124m'\u001b[39m, \u001b[38;5;241m1\u001b[39m)\n",
      "\u001b[1;32m    181\u001b[0m         group \u001b[38;5;241m=\u001b[39m \u001b[38;5;28mself\u001b[39m\u001b[38;5;241m.\u001b[39mrequire_group(parent_path)\n",
      "\u001b[0;32m--> 183\u001b[0m dsid \u001b[38;5;241m=\u001b[39m \u001b[43mdataset\u001b[49m\u001b[38;5;241;43m.\u001b[39;49m\u001b[43mmake_new_dset\u001b[49m\u001b[43m(\u001b[49m\u001b[43mgroup\u001b[49m\u001b[43m,\u001b[49m\u001b[43m \u001b[49m\u001b[43mshape\u001b[49m\u001b[43m,\u001b[49m\u001b[43m \u001b[49m\u001b[43mdtype\u001b[49m\u001b[43m,\u001b[49m\u001b[43m \u001b[49m\u001b[43mdata\u001b[49m\u001b[43m,\u001b[49m\u001b[43m \u001b[49m\u001b[43mname\u001b[49m\u001b[43m,\u001b[49m\u001b[43m \u001b[49m\u001b[38;5;241;43m*\u001b[39;49m\u001b[38;5;241;43m*\u001b[39;49m\u001b[43mkwds\u001b[49m\u001b[43m)\u001b[49m\n",
      "\u001b[1;32m    184\u001b[0m dset \u001b[38;5;241m=\u001b[39m dataset\u001b[38;5;241m.\u001b[39mDataset(dsid)\n",
      "\u001b[1;32m    185\u001b[0m \u001b[38;5;28;01mreturn\u001b[39;00m dset\n",
      "\n",
      "File \u001b[0;32m~/miniforge3/envs/minmin/lib/python3.10/site-packages/h5py/_hl/dataset.py:163\u001b[0m, in \u001b[0;36mmake_new_dset\u001b[0;34m(parent, shape, dtype, data, name, chunks, compression, shuffle, fletcher32, maxshape, compression_opts, fillvalue, scaleoffset, track_times, external, track_order, dcpl, dapl, efile_prefix, virtual_prefix, allow_unknown_filter, rdcc_nslots, rdcc_nbytes, rdcc_w0)\u001b[0m\n",
      "\u001b[1;32m    160\u001b[0m \u001b[38;5;28;01melse\u001b[39;00m:\n",
      "\u001b[1;32m    161\u001b[0m     sid \u001b[38;5;241m=\u001b[39m h5s\u001b[38;5;241m.\u001b[39mcreate_simple(shape, maxshape)\n",
      "\u001b[0;32m--> 163\u001b[0m dset_id \u001b[38;5;241m=\u001b[39m \u001b[43mh5d\u001b[49m\u001b[38;5;241;43m.\u001b[39;49m\u001b[43mcreate\u001b[49m\u001b[43m(\u001b[49m\u001b[43mparent\u001b[49m\u001b[38;5;241;43m.\u001b[39;49m\u001b[43mid\u001b[49m\u001b[43m,\u001b[49m\u001b[43m \u001b[49m\u001b[43mname\u001b[49m\u001b[43m,\u001b[49m\u001b[43m \u001b[49m\u001b[43mtid\u001b[49m\u001b[43m,\u001b[49m\u001b[43m \u001b[49m\u001b[43msid\u001b[49m\u001b[43m,\u001b[49m\u001b[43m \u001b[49m\u001b[43mdcpl\u001b[49m\u001b[38;5;241;43m=\u001b[39;49m\u001b[43mdcpl\u001b[49m\u001b[43m,\u001b[49m\u001b[43m \u001b[49m\u001b[43mdapl\u001b[49m\u001b[38;5;241;43m=\u001b[39;49m\u001b[43mdapl\u001b[49m\u001b[43m)\u001b[49m\n",
      "\u001b[1;32m    165\u001b[0m \u001b[38;5;28;01mif\u001b[39;00m (data \u001b[38;5;129;01mis\u001b[39;00m \u001b[38;5;129;01mnot\u001b[39;00m \u001b[38;5;28;01mNone\u001b[39;00m) \u001b[38;5;129;01mand\u001b[39;00m (\u001b[38;5;129;01mnot\u001b[39;00m \u001b[38;5;28misinstance\u001b[39m(data, Empty)):\n",
      "\u001b[1;32m    166\u001b[0m     dset_id\u001b[38;5;241m.\u001b[39mwrite(h5s\u001b[38;5;241m.\u001b[39mALL, h5s\u001b[38;5;241m.\u001b[39mALL, data)\n",
      "\n",
      "File \u001b[0;32mh5py/_objects.pyx:54\u001b[0m, in \u001b[0;36mh5py._objects.with_phil.wrapper\u001b[0;34m()\u001b[0m\n",
      "\n",
      "File \u001b[0;32mh5py/_objects.pyx:55\u001b[0m, in \u001b[0;36mh5py._objects.with_phil.wrapper\u001b[0;34m()\u001b[0m\n",
      "\n",
      "File \u001b[0;32mh5py/h5d.pyx:137\u001b[0m, in \u001b[0;36mh5py.h5d.create\u001b[0;34m()\u001b[0m\n",
      "\n",
      "\u001b[0;31mValueError\u001b[0m: Unable to synchronously create dataset (name already exists)"
     ]
    }
   ],
   "source": [
    "model.save(\"savee_preprocessed/Results/savee_mfcc_noaugmentation_ca.h5\")"
   ]
  },
  {
   "cell_type": "code",
   "execution_count": null,
   "metadata": {},
   "outputs": [],
   "source": []
  },
  {
   "cell_type": "code",
   "execution_count": null,
   "metadata": {},
   "outputs": [],
   "source": []
  },
  {
   "cell_type": "code",
   "execution_count": null,
   "metadata": {},
   "outputs": [],
   "source": []
  }
 ],
 "metadata": {
  "kaggle": {
   "accelerator": "nvidiaTeslaT4",
   "dataSources": [
    {
     "datasetId": 107620,
     "sourceId": 256618,
     "sourceType": "datasetVersion"
    },
    {
     "datasetId": 316368,
     "sourceId": 639622,
     "sourceType": "datasetVersion"
    },
    {
     "datasetId": 325566,
     "sourceId": 653195,
     "sourceType": "datasetVersion"
    },
    {
     "datasetId": 338555,
     "sourceId": 671851,
     "sourceType": "datasetVersion"
    },
    {
     "datasetId": 3468263,
     "sourceId": 6060815,
     "sourceType": "datasetVersion"
    }
   ],
   "dockerImageVersionId": 30381,
   "isGpuEnabled": true,
   "isInternetEnabled": true,
   "language": "python",
   "sourceType": "notebook"
  },
  "kernelspec": {
   "display_name": "ser",
   "language": "python",
   "name": "python3"
  },
  "language_info": {
   "codemirror_mode": {
    "name": "ipython",
    "version": 3
   },
   "file_extension": ".py",
   "mimetype": "text/x-python",
   "name": "python",
   "nbconvert_exporter": "python",
   "pygments_lexer": "ipython3",
   "version": "3.10.14"
  }
 },
 "nbformat": 4,
 "nbformat_minor": 4
}
