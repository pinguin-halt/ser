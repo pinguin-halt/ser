{
 "cells": [
  {
   "cell_type": "code",
   "execution_count": 1,
   "metadata": {
    "_cell_guid": "b1076dfc-b9ad-4769-8c92-a6c4dae69d19",
    "_uuid": "8f2839f25d086af736a60e9eeb907d3b93b6e0e5",
    "execution": {
     "iopub.execute_input": "2024-05-14T00:39:44.263536Z",
     "iopub.status.busy": "2024-05-14T00:39:44.262497Z",
     "iopub.status.idle": "2024-05-14T00:39:44.275794Z",
     "shell.execute_reply": "2024-05-14T00:39:44.274724Z",
     "shell.execute_reply.started": "2024-05-14T00:39:44.263492Z"
    },
    "trusted": true
   },
   "outputs": [
    {
     "name": "stderr",
     "output_type": "stream",
     "text": [
      "2024-08-19 15:55:11.383480: I tensorflow/core/util/port.cc:113] oneDNN custom operations are on. You may see slightly different numerical results due to floating-point round-off errors from different computation orders. To turn them off, set the environment variable `TF_ENABLE_ONEDNN_OPTS=0`.\n",
      "2024-08-19 15:55:11.566171: I tensorflow/core/platform/cpu_feature_guard.cc:210] This TensorFlow binary is optimized to use available CPU instructions in performance-critical operations.\n",
      "To enable the following instructions: AVX2 AVX512F AVX512_VNNI AVX512_BF16 AVX512_FP16 AVX_VNNI FMA, in other operations, rebuild TensorFlow with the appropriate compiler flags.\n"
     ]
    },
    {
     "name": "stdout",
     "output_type": "stream",
     "text": [
      "Done\n"
     ]
    }
   ],
   "source": [
    "\n",
    "import pandas as pd\n",
    "import numpy as np\n",
    "\n",
    "import os\n",
    "import sys\n",
    "\n",
    "# librosa is a Python library for analyzing audio and music. It can be used to extract the data from the audio files we will see it later.\n",
    "import librosa\n",
    "import librosa.display\n",
    "import seaborn as sns\n",
    "import matplotlib.pyplot as plt\n",
    "\n",
    "from sklearn.preprocessing import StandardScaler, OneHotEncoder\n",
    "from sklearn.metrics import confusion_matrix, classification_report\n",
    "from sklearn.model_selection import train_test_split\n",
    "\n",
    "# to play the audio files\n",
    "import IPython.display as ipd\n",
    "from IPython.display import Audio\n",
    "import keras\n",
    "from keras.preprocessing import sequence\n",
    "from keras.models import Sequential\n",
    "from keras.layers import Dense, Embedding\n",
    "from keras.layers import LSTM,BatchNormalization , GRU\n",
    "from tensorflow.keras.preprocessing.text import Tokenizer\n",
    "from keras.preprocessing.sequence import pad_sequences\n",
    "from tensorflow.keras.utils import to_categorical\n",
    "from keras.layers import Input, Flatten, Dropout, Activation\n",
    "from keras.layers import Conv1D, MaxPooling1D, AveragePooling1D\n",
    "from keras.models import Model\n",
    "from keras.callbacks import ModelCheckpoint\n",
    "from tensorflow.keras.optimizers import SGD\n",
    "from tensorflow.keras.preprocessing.image import ImageDataGenerator\n",
    "\n",
    "\n",
    "import warnings\n",
    "if not sys.warnoptions:\n",
    "    warnings.simplefilter(\"ignore\")\n",
    "warnings.filterwarnings(\"ignore\", category=DeprecationWarning) \n",
    "import tensorflow as tf \n",
    "print (\"Done\")"
   ]
  },
  {
   "cell_type": "code",
   "execution_count": 2,
   "metadata": {
    "execution": {
     "iopub.execute_input": "2024-05-14T00:53:20.309965Z",
     "iopub.status.busy": "2024-05-14T00:53:20.309679Z",
     "iopub.status.idle": "2024-05-14T00:53:23.936900Z",
     "shell.execute_reply": "2024-05-14T00:53:23.935933Z",
     "shell.execute_reply.started": "2024-05-14T00:53:20.309937Z"
    },
    "trusted": true
   },
   "outputs": [],
   "source": [
    "Emotions = pd.read_csv('/data/nadeem/0709_Ravdess_experiments/savee_preprocessed/mfmc_no_augmentation_savee.csv')"
   ]
  },
  {
   "cell_type": "code",
   "execution_count": 3,
   "metadata": {
    "execution": {
     "iopub.execute_input": "2024-05-14T00:53:23.965278Z",
     "iopub.status.busy": "2024-05-14T00:53:23.965004Z",
     "iopub.status.idle": "2024-05-14T00:53:24.045089Z",
     "shell.execute_reply": "2024-05-14T00:53:24.044099Z",
     "shell.execute_reply.started": "2024-05-14T00:53:23.965252Z"
    },
    "trusted": true
   },
   "outputs": [],
   "source": [
    "Emotions=Emotions.fillna(0)"
   ]
  },
  {
   "cell_type": "code",
   "execution_count": 4,
   "metadata": {},
   "outputs": [
    {
     "data": {
      "text/html": [
       "<div>\n",
       "<style scoped>\n",
       "    .dataframe tbody tr th:only-of-type {\n",
       "        vertical-align: middle;\n",
       "    }\n",
       "\n",
       "    .dataframe tbody tr th {\n",
       "        vertical-align: top;\n",
       "    }\n",
       "\n",
       "    .dataframe thead th {\n",
       "        text-align: right;\n",
       "    }\n",
       "</style>\n",
       "<table border=\"1\" class=\"dataframe\">\n",
       "  <thead>\n",
       "    <tr style=\"text-align: right;\">\n",
       "      <th></th>\n",
       "      <th>0</th>\n",
       "      <th>1</th>\n",
       "      <th>2</th>\n",
       "      <th>3</th>\n",
       "      <th>4</th>\n",
       "      <th>5</th>\n",
       "      <th>6</th>\n",
       "      <th>7</th>\n",
       "      <th>8</th>\n",
       "      <th>9</th>\n",
       "      <th>...</th>\n",
       "      <th>242</th>\n",
       "      <th>243</th>\n",
       "      <th>244</th>\n",
       "      <th>245</th>\n",
       "      <th>246</th>\n",
       "      <th>247</th>\n",
       "      <th>248</th>\n",
       "      <th>249</th>\n",
       "      <th>250</th>\n",
       "      <th>Emotions</th>\n",
       "    </tr>\n",
       "  </thead>\n",
       "  <tbody>\n",
       "    <tr>\n",
       "      <th>0</th>\n",
       "      <td>-61.568280</td>\n",
       "      <td>-57.959480</td>\n",
       "      <td>-56.990830</td>\n",
       "      <td>-56.610710</td>\n",
       "      <td>-56.955780</td>\n",
       "      <td>-57.108460</td>\n",
       "      <td>-56.845306</td>\n",
       "      <td>-56.947630</td>\n",
       "      <td>-56.963272</td>\n",
       "      <td>-57.198597</td>\n",
       "      <td>...</td>\n",
       "      <td>-59.104935</td>\n",
       "      <td>-59.103680</td>\n",
       "      <td>-59.119259</td>\n",
       "      <td>-59.308197</td>\n",
       "      <td>-59.322594</td>\n",
       "      <td>-59.192768</td>\n",
       "      <td>-59.104675</td>\n",
       "      <td>-59.353142</td>\n",
       "      <td>-58.507580</td>\n",
       "      <td>neutral</td>\n",
       "    </tr>\n",
       "    <tr>\n",
       "      <th>1</th>\n",
       "      <td>-37.902184</td>\n",
       "      <td>-34.293385</td>\n",
       "      <td>-33.324734</td>\n",
       "      <td>-32.944614</td>\n",
       "      <td>-33.289684</td>\n",
       "      <td>-33.442364</td>\n",
       "      <td>-33.179210</td>\n",
       "      <td>-33.281532</td>\n",
       "      <td>-33.297173</td>\n",
       "      <td>-33.532497</td>\n",
       "      <td>...</td>\n",
       "      <td>-35.438839</td>\n",
       "      <td>-35.437580</td>\n",
       "      <td>-35.453159</td>\n",
       "      <td>-35.642097</td>\n",
       "      <td>-35.656502</td>\n",
       "      <td>-35.526669</td>\n",
       "      <td>-35.438580</td>\n",
       "      <td>-35.687046</td>\n",
       "      <td>-34.841484</td>\n",
       "      <td>neutral</td>\n",
       "    </tr>\n",
       "    <tr>\n",
       "      <th>2</th>\n",
       "      <td>-78.828545</td>\n",
       "      <td>-52.975357</td>\n",
       "      <td>-56.046850</td>\n",
       "      <td>-64.817566</td>\n",
       "      <td>-81.555340</td>\n",
       "      <td>-74.803000</td>\n",
       "      <td>-80.199040</td>\n",
       "      <td>-92.449190</td>\n",
       "      <td>-88.735115</td>\n",
       "      <td>-89.544530</td>\n",
       "      <td>...</td>\n",
       "      <td>-82.800209</td>\n",
       "      <td>-84.854042</td>\n",
       "      <td>-85.798721</td>\n",
       "      <td>-88.947662</td>\n",
       "      <td>-85.935448</td>\n",
       "      <td>-88.999870</td>\n",
       "      <td>-87.150734</td>\n",
       "      <td>-91.100159</td>\n",
       "      <td>-71.411674</td>\n",
       "      <td>neutral</td>\n",
       "    </tr>\n",
       "    <tr>\n",
       "      <th>3</th>\n",
       "      <td>-61.772100</td>\n",
       "      <td>-35.918915</td>\n",
       "      <td>-38.990400</td>\n",
       "      <td>-47.761116</td>\n",
       "      <td>-64.498900</td>\n",
       "      <td>-57.746560</td>\n",
       "      <td>-63.142600</td>\n",
       "      <td>-75.392746</td>\n",
       "      <td>-71.678665</td>\n",
       "      <td>-72.488090</td>\n",
       "      <td>...</td>\n",
       "      <td>-65.743759</td>\n",
       "      <td>-67.797592</td>\n",
       "      <td>-68.742279</td>\n",
       "      <td>-71.891212</td>\n",
       "      <td>-68.879005</td>\n",
       "      <td>-71.943428</td>\n",
       "      <td>-70.094284</td>\n",
       "      <td>-74.043716</td>\n",
       "      <td>-54.355225</td>\n",
       "      <td>neutral</td>\n",
       "    </tr>\n",
       "    <tr>\n",
       "      <th>4</th>\n",
       "      <td>-53.896645</td>\n",
       "      <td>-47.381104</td>\n",
       "      <td>-51.714195</td>\n",
       "      <td>-62.463554</td>\n",
       "      <td>-70.518080</td>\n",
       "      <td>-70.472460</td>\n",
       "      <td>-74.440590</td>\n",
       "      <td>-79.275140</td>\n",
       "      <td>-82.702705</td>\n",
       "      <td>-84.113970</td>\n",
       "      <td>...</td>\n",
       "      <td>-80.456322</td>\n",
       "      <td>-83.280334</td>\n",
       "      <td>-83.913460</td>\n",
       "      <td>-85.998260</td>\n",
       "      <td>-83.771835</td>\n",
       "      <td>-86.337128</td>\n",
       "      <td>-88.534767</td>\n",
       "      <td>-88.565369</td>\n",
       "      <td>-70.408485</td>\n",
       "      <td>neutral</td>\n",
       "    </tr>\n",
       "    <tr>\n",
       "      <th>...</th>\n",
       "      <td>...</td>\n",
       "      <td>...</td>\n",
       "      <td>...</td>\n",
       "      <td>...</td>\n",
       "      <td>...</td>\n",
       "      <td>...</td>\n",
       "      <td>...</td>\n",
       "      <td>...</td>\n",
       "      <td>...</td>\n",
       "      <td>...</td>\n",
       "      <td>...</td>\n",
       "      <td>...</td>\n",
       "      <td>...</td>\n",
       "      <td>...</td>\n",
       "      <td>...</td>\n",
       "      <td>...</td>\n",
       "      <td>...</td>\n",
       "      <td>...</td>\n",
       "      <td>...</td>\n",
       "      <td>...</td>\n",
       "      <td>...</td>\n",
       "    </tr>\n",
       "    <tr>\n",
       "      <th>122875</th>\n",
       "      <td>-70.312990</td>\n",
       "      <td>-75.263275</td>\n",
       "      <td>-75.263275</td>\n",
       "      <td>-75.263275</td>\n",
       "      <td>-75.263275</td>\n",
       "      <td>-75.263275</td>\n",
       "      <td>-75.263275</td>\n",
       "      <td>-75.263275</td>\n",
       "      <td>-75.263275</td>\n",
       "      <td>-75.263275</td>\n",
       "      <td>...</td>\n",
       "      <td>-75.263275</td>\n",
       "      <td>-75.263275</td>\n",
       "      <td>-75.263275</td>\n",
       "      <td>-75.263275</td>\n",
       "      <td>-75.263275</td>\n",
       "      <td>-75.263275</td>\n",
       "      <td>-75.263275</td>\n",
       "      <td>-75.263275</td>\n",
       "      <td>-55.807762</td>\n",
       "      <td>surprise</td>\n",
       "    </tr>\n",
       "    <tr>\n",
       "      <th>122876</th>\n",
       "      <td>-71.559490</td>\n",
       "      <td>-75.263275</td>\n",
       "      <td>-75.263275</td>\n",
       "      <td>-75.263275</td>\n",
       "      <td>-75.263275</td>\n",
       "      <td>-75.263275</td>\n",
       "      <td>-75.263275</td>\n",
       "      <td>-75.263275</td>\n",
       "      <td>-75.263275</td>\n",
       "      <td>-75.263275</td>\n",
       "      <td>...</td>\n",
       "      <td>-75.263275</td>\n",
       "      <td>-75.263275</td>\n",
       "      <td>-75.263275</td>\n",
       "      <td>-75.263275</td>\n",
       "      <td>-75.263275</td>\n",
       "      <td>-75.263275</td>\n",
       "      <td>-75.263275</td>\n",
       "      <td>-75.263275</td>\n",
       "      <td>-55.776478</td>\n",
       "      <td>surprise</td>\n",
       "    </tr>\n",
       "    <tr>\n",
       "      <th>122877</th>\n",
       "      <td>-74.469620</td>\n",
       "      <td>-75.263275</td>\n",
       "      <td>-75.263275</td>\n",
       "      <td>-75.263275</td>\n",
       "      <td>-75.263275</td>\n",
       "      <td>-75.263275</td>\n",
       "      <td>-75.263275</td>\n",
       "      <td>-75.263275</td>\n",
       "      <td>-75.263275</td>\n",
       "      <td>-75.263275</td>\n",
       "      <td>...</td>\n",
       "      <td>-75.263275</td>\n",
       "      <td>-75.263275</td>\n",
       "      <td>-75.263275</td>\n",
       "      <td>-75.263275</td>\n",
       "      <td>-75.263275</td>\n",
       "      <td>-75.263275</td>\n",
       "      <td>-75.263275</td>\n",
       "      <td>-75.263275</td>\n",
       "      <td>-56.408802</td>\n",
       "      <td>surprise</td>\n",
       "    </tr>\n",
       "    <tr>\n",
       "      <th>122878</th>\n",
       "      <td>-75.263275</td>\n",
       "      <td>-75.263275</td>\n",
       "      <td>-75.263275</td>\n",
       "      <td>-75.263275</td>\n",
       "      <td>-75.263275</td>\n",
       "      <td>-75.263275</td>\n",
       "      <td>-75.263275</td>\n",
       "      <td>-75.263275</td>\n",
       "      <td>-75.263275</td>\n",
       "      <td>-75.263275</td>\n",
       "      <td>...</td>\n",
       "      <td>-75.263275</td>\n",
       "      <td>-75.263275</td>\n",
       "      <td>-75.263275</td>\n",
       "      <td>-75.263275</td>\n",
       "      <td>-75.263275</td>\n",
       "      <td>-75.263275</td>\n",
       "      <td>-75.263275</td>\n",
       "      <td>-75.263275</td>\n",
       "      <td>-57.442471</td>\n",
       "      <td>surprise</td>\n",
       "    </tr>\n",
       "    <tr>\n",
       "      <th>122879</th>\n",
       "      <td>-75.263275</td>\n",
       "      <td>-75.263275</td>\n",
       "      <td>-75.263275</td>\n",
       "      <td>-75.263275</td>\n",
       "      <td>-75.263275</td>\n",
       "      <td>-75.263275</td>\n",
       "      <td>-75.263275</td>\n",
       "      <td>-75.263275</td>\n",
       "      <td>-75.263275</td>\n",
       "      <td>-75.263275</td>\n",
       "      <td>...</td>\n",
       "      <td>-75.263275</td>\n",
       "      <td>-75.263275</td>\n",
       "      <td>-75.263275</td>\n",
       "      <td>-75.263275</td>\n",
       "      <td>-75.263275</td>\n",
       "      <td>-75.263275</td>\n",
       "      <td>-75.263275</td>\n",
       "      <td>-75.263275</td>\n",
       "      <td>-58.236385</td>\n",
       "      <td>surprise</td>\n",
       "    </tr>\n",
       "  </tbody>\n",
       "</table>\n",
       "<p>122880 rows × 252 columns</p>\n",
       "</div>"
      ],
      "text/plain": [
       "                0          1          2          3          4          5  \\\n",
       "0      -61.568280 -57.959480 -56.990830 -56.610710 -56.955780 -57.108460   \n",
       "1      -37.902184 -34.293385 -33.324734 -32.944614 -33.289684 -33.442364   \n",
       "2      -78.828545 -52.975357 -56.046850 -64.817566 -81.555340 -74.803000   \n",
       "3      -61.772100 -35.918915 -38.990400 -47.761116 -64.498900 -57.746560   \n",
       "4      -53.896645 -47.381104 -51.714195 -62.463554 -70.518080 -70.472460   \n",
       "...           ...        ...        ...        ...        ...        ...   \n",
       "122875 -70.312990 -75.263275 -75.263275 -75.263275 -75.263275 -75.263275   \n",
       "122876 -71.559490 -75.263275 -75.263275 -75.263275 -75.263275 -75.263275   \n",
       "122877 -74.469620 -75.263275 -75.263275 -75.263275 -75.263275 -75.263275   \n",
       "122878 -75.263275 -75.263275 -75.263275 -75.263275 -75.263275 -75.263275   \n",
       "122879 -75.263275 -75.263275 -75.263275 -75.263275 -75.263275 -75.263275   \n",
       "\n",
       "                6          7          8          9  ...        242        243  \\\n",
       "0      -56.845306 -56.947630 -56.963272 -57.198597  ... -59.104935 -59.103680   \n",
       "1      -33.179210 -33.281532 -33.297173 -33.532497  ... -35.438839 -35.437580   \n",
       "2      -80.199040 -92.449190 -88.735115 -89.544530  ... -82.800209 -84.854042   \n",
       "3      -63.142600 -75.392746 -71.678665 -72.488090  ... -65.743759 -67.797592   \n",
       "4      -74.440590 -79.275140 -82.702705 -84.113970  ... -80.456322 -83.280334   \n",
       "...           ...        ...        ...        ...  ...        ...        ...   \n",
       "122875 -75.263275 -75.263275 -75.263275 -75.263275  ... -75.263275 -75.263275   \n",
       "122876 -75.263275 -75.263275 -75.263275 -75.263275  ... -75.263275 -75.263275   \n",
       "122877 -75.263275 -75.263275 -75.263275 -75.263275  ... -75.263275 -75.263275   \n",
       "122878 -75.263275 -75.263275 -75.263275 -75.263275  ... -75.263275 -75.263275   \n",
       "122879 -75.263275 -75.263275 -75.263275 -75.263275  ... -75.263275 -75.263275   \n",
       "\n",
       "              244        245        246        247        248        249  \\\n",
       "0      -59.119259 -59.308197 -59.322594 -59.192768 -59.104675 -59.353142   \n",
       "1      -35.453159 -35.642097 -35.656502 -35.526669 -35.438580 -35.687046   \n",
       "2      -85.798721 -88.947662 -85.935448 -88.999870 -87.150734 -91.100159   \n",
       "3      -68.742279 -71.891212 -68.879005 -71.943428 -70.094284 -74.043716   \n",
       "4      -83.913460 -85.998260 -83.771835 -86.337128 -88.534767 -88.565369   \n",
       "...           ...        ...        ...        ...        ...        ...   \n",
       "122875 -75.263275 -75.263275 -75.263275 -75.263275 -75.263275 -75.263275   \n",
       "122876 -75.263275 -75.263275 -75.263275 -75.263275 -75.263275 -75.263275   \n",
       "122877 -75.263275 -75.263275 -75.263275 -75.263275 -75.263275 -75.263275   \n",
       "122878 -75.263275 -75.263275 -75.263275 -75.263275 -75.263275 -75.263275   \n",
       "122879 -75.263275 -75.263275 -75.263275 -75.263275 -75.263275 -75.263275   \n",
       "\n",
       "              250  Emotions  \n",
       "0      -58.507580   neutral  \n",
       "1      -34.841484   neutral  \n",
       "2      -71.411674   neutral  \n",
       "3      -54.355225   neutral  \n",
       "4      -70.408485   neutral  \n",
       "...           ...       ...  \n",
       "122875 -55.807762  surprise  \n",
       "122876 -55.776478  surprise  \n",
       "122877 -56.408802  surprise  \n",
       "122878 -57.442471  surprise  \n",
       "122879 -58.236385  surprise  \n",
       "\n",
       "[122880 rows x 252 columns]"
      ]
     },
     "execution_count": 4,
     "metadata": {},
     "output_type": "execute_result"
    }
   ],
   "source": [
    "Emotions"
   ]
  },
  {
   "attachments": {},
   "cell_type": "markdown",
   "metadata": {},
   "source": [
    "# Data preparation"
   ]
  },
  {
   "cell_type": "code",
   "execution_count": 5,
   "metadata": {
    "execution": {
     "iopub.execute_input": "2024-05-14T00:53:24.093278Z",
     "iopub.status.busy": "2024-05-14T00:53:24.092959Z",
     "iopub.status.idle": "2024-05-14T00:53:24.131021Z",
     "shell.execute_reply": "2024-05-14T00:53:24.129896Z",
     "shell.execute_reply.started": "2024-05-14T00:53:24.093249Z"
    },
    "trusted": true
   },
   "outputs": [],
   "source": [
    "#taking all rows and all cols without last col for X which include features\n",
    "#taking last col for Y, which include the emotions\n",
    "\n",
    "\n",
    "X = Emotions.iloc[: ,:-1].values\n",
    "Y = Emotions['Emotions'].values"
   ]
  },
  {
   "cell_type": "code",
   "execution_count": 6,
   "metadata": {
    "execution": {
     "iopub.execute_input": "2024-05-14T00:53:24.132513Z",
     "iopub.status.busy": "2024-05-14T00:53:24.132195Z",
     "iopub.status.idle": "2024-05-14T00:53:24.144567Z",
     "shell.execute_reply": "2024-05-14T00:53:24.143604Z",
     "shell.execute_reply.started": "2024-05-14T00:53:24.132482Z"
    },
    "trusted": true
   },
   "outputs": [],
   "source": [
    "# As this is a multiclass classification problem onehotencoding our Y\n",
    "from sklearn.preprocessing import StandardScaler, OneHotEncoder\n",
    "encoder = OneHotEncoder()\n",
    "Y = encoder.fit_transform(np.array(Y).reshape(-1,1)).toarray()"
   ]
  },
  {
   "cell_type": "code",
   "execution_count": 7,
   "metadata": {
    "execution": {
     "iopub.execute_input": "2024-05-14T00:53:24.157164Z",
     "iopub.status.busy": "2024-05-14T00:53:24.156771Z",
     "iopub.status.idle": "2024-05-14T00:53:24.307466Z",
     "shell.execute_reply": "2024-05-14T00:53:24.306311Z",
     "shell.execute_reply.started": "2024-05-14T00:53:24.157135Z"
    },
    "trusted": true
   },
   "outputs": [
    {
     "data": {
      "text/plain": [
       "((98304, 251), (98304, 7), (24576, 251), (24576, 7))"
      ]
     },
     "execution_count": 7,
     "metadata": {},
     "output_type": "execute_result"
    }
   ],
   "source": [
    "from sklearn.model_selection import train_test_split\n",
    "\n",
    "x_train, x_test, y_train, y_test = train_test_split(X, Y, random_state=42,test_size=0.2, shuffle=True)\n",
    "x_train.shape, y_train.shape, x_test.shape, y_test.shape"
   ]
  },
  {
   "cell_type": "code",
   "execution_count": null,
   "metadata": {
    "execution": {
     "iopub.execute_input": "2024-05-14T00:53:24.308990Z",
     "iopub.status.busy": "2024-05-14T00:53:24.308682Z",
     "iopub.status.idle": "2024-05-14T00:53:24.314846Z",
     "shell.execute_reply": "2024-05-14T00:53:24.313768Z",
     "shell.execute_reply.started": "2024-05-14T00:53:24.308960Z"
    },
    "trusted": true
   },
   "outputs": [],
   "source": [
    "#reshape for cnn\n",
    "X_train = x_train.reshape(x_train.shape[0] , x_train.shape[1] , 1)\n",
    "X_test = x_test.reshape(x_test.shape[0] , x_test.shape[1] , 1)"
   ]
  },
  {
   "cell_type": "code",
   "execution_count": 9,
   "metadata": {
    "execution": {
     "iopub.execute_input": "2024-05-14T00:53:24.316405Z",
     "iopub.status.busy": "2024-05-14T00:53:24.316082Z",
     "iopub.status.idle": "2024-05-14T00:53:24.469910Z",
     "shell.execute_reply": "2024-05-14T00:53:24.468841Z",
     "shell.execute_reply.started": "2024-05-14T00:53:24.316374Z"
    },
    "trusted": true
   },
   "outputs": [
    {
     "data": {
      "text/plain": [
       "((98304, 251), (98304, 7), (24576, 251), (24576, 7))"
      ]
     },
     "execution_count": 9,
     "metadata": {},
     "output_type": "execute_result"
    }
   ],
   "source": [
    "# scaling our data with sklearn's Standard scaler\n",
    "scaler = StandardScaler()\n",
    "x_train = scaler.fit_transform(x_train)\n",
    "x_test = scaler.transform(x_test)\n",
    "x_train.shape, y_train.shape, x_test.shape, y_test.shape"
   ]
  },
  {
   "cell_type": "code",
   "execution_count": 10,
   "metadata": {
    "execution": {
     "iopub.execute_input": "2024-05-14T00:53:24.472074Z",
     "iopub.status.busy": "2024-05-14T00:53:24.471561Z",
     "iopub.status.idle": "2024-05-14T00:53:24.480811Z",
     "shell.execute_reply": "2024-05-14T00:53:24.479850Z",
     "shell.execute_reply.started": "2024-05-14T00:53:24.472001Z"
    },
    "trusted": true
   },
   "outputs": [],
   "source": [
    "import keras\n",
    "from keras.preprocessing import sequence\n",
    "from keras.models import Sequential\n",
    "from keras.layers import Dense, Embedding\n",
    "from keras.layers import LSTM,BatchNormalization , GRU\n",
    "from tensorflow.keras.preprocessing.text import Tokenizer\n",
    "from keras.preprocessing.sequence import pad_sequences\n",
    "from tensorflow.keras.utils import to_categorical\n",
    "from keras.layers import Input, Flatten, Dropout, Activation\n",
    "from keras.layers import Conv1D, MaxPooling1D, AveragePooling1D\n",
    "from keras.models import Model\n",
    "from keras.callbacks import ModelCheckpoint\n",
    "from tensorflow.keras.optimizers import SGD"
   ]
  },
  {
   "cell_type": "code",
   "execution_count": 11,
   "metadata": {
    "execution": {
     "iopub.execute_input": "2024-05-14T00:53:24.482634Z",
     "iopub.status.busy": "2024-05-14T00:53:24.482209Z",
     "iopub.status.idle": "2024-05-14T00:53:24.490246Z",
     "shell.execute_reply": "2024-05-14T00:53:24.489271Z",
     "shell.execute_reply.started": "2024-05-14T00:53:24.482604Z"
    },
    "trusted": true
   },
   "outputs": [],
   "source": [
    "from keras.callbacks import ModelCheckpoint, EarlyStopping,ReduceLROnPlateau\n",
    "model_checkpoint = ModelCheckpoint('0603)best_model1_weights.keras', monitor='val_accuracy', save_best_only=True)"
   ]
  },
  {
   "cell_type": "code",
   "execution_count": 12,
   "metadata": {
    "execution": {
     "iopub.execute_input": "2024-05-14T00:53:24.493624Z",
     "iopub.status.busy": "2024-05-14T00:53:24.493329Z",
     "iopub.status.idle": "2024-05-14T00:53:24.503573Z",
     "shell.execute_reply": "2024-05-14T00:53:24.502626Z",
     "shell.execute_reply.started": "2024-05-14T00:53:24.493595Z"
    },
    "trusted": true
   },
   "outputs": [],
   "source": [
    "\n",
    "early_stop=EarlyStopping(monitor='val_accuracy',mode='auto',patience=5,restore_best_weights=True)\n",
    "lr_reduction=ReduceLROnPlateau(monitor='val_accuracy',patience=3,verbose=1,factor=0.5,min_lr=0.00001)"
   ]
  },
  {
   "attachments": {},
   "cell_type": "markdown",
   "metadata": {},
   "source": [
    "# CNN model"
   ]
  },
  {
   "cell_type": "code",
   "execution_count": null,
   "metadata": {
    "execution": {
     "iopub.execute_input": "2024-05-14T00:53:24.506287Z",
     "iopub.status.busy": "2024-05-14T00:53:24.504774Z",
     "iopub.status.idle": "2024-05-14T00:53:24.515729Z",
     "shell.execute_reply": "2024-05-14T00:53:24.514762Z",
     "shell.execute_reply.started": "2024-05-14T00:53:24.506256Z"
    },
    "trusted": true
   },
   "outputs": [
    {
     "data": {
      "text/plain": [
       "((98304, 251, 1), (98304, 7), (24576, 251, 1), (24576, 7))"
      ]
     },
     "execution_count": 13,
     "metadata": {},
     "output_type": "execute_result"
    }
   ],
   "source": [
    "#Reshape for CNN MODEL\n",
    "\n",
    "x_traincnn =np.expand_dims(x_train, axis=2)\n",
    "x_testcnn= np.expand_dims(x_test, axis=2)\n",
    "x_traincnn.shape, y_train.shape, x_testcnn.shape, y_test.shape\n",
    "#x_testcnn[0]"
   ]
  },
  {
   "cell_type": "code",
   "execution_count": 14,
   "metadata": {
    "execution": {
     "iopub.execute_input": "2024-05-14T00:53:24.517474Z",
     "iopub.status.busy": "2024-05-14T00:53:24.517104Z",
     "iopub.status.idle": "2024-05-14T00:53:24.715007Z",
     "shell.execute_reply": "2024-05-14T00:53:24.714079Z",
     "shell.execute_reply.started": "2024-05-14T00:53:24.517436Z"
    },
    "trusted": true
   },
   "outputs": [
    {
     "name": "stderr",
     "output_type": "stream",
     "text": [
      "2024-08-19 15:57:02.329287: I external/local_xla/xla/stream_executor/cuda/cuda_executor.cc:998] successful NUMA node read from SysFS had negative value (-1), but there must be at least one NUMA node, so returning NUMA node zero. See more at https://github.com/torvalds/linux/blob/v6.0/Documentation/ABI/testing/sysfs-bus-pci#L344-L355\n",
      "2024-08-19 15:57:02.349311: I external/local_xla/xla/stream_executor/cuda/cuda_executor.cc:998] successful NUMA node read from SysFS had negative value (-1), but there must be at least one NUMA node, so returning NUMA node zero. See more at https://github.com/torvalds/linux/blob/v6.0/Documentation/ABI/testing/sysfs-bus-pci#L344-L355\n",
      "2024-08-19 15:57:02.378393: I external/local_xla/xla/stream_executor/cuda/cuda_executor.cc:998] successful NUMA node read from SysFS had negative value (-1), but there must be at least one NUMA node, so returning NUMA node zero. See more at https://github.com/torvalds/linux/blob/v6.0/Documentation/ABI/testing/sysfs-bus-pci#L344-L355\n",
      "2024-08-19 15:57:02.407387: I external/local_xla/xla/stream_executor/cuda/cuda_executor.cc:998] successful NUMA node read from SysFS had negative value (-1), but there must be at least one NUMA node, so returning NUMA node zero. See more at https://github.com/torvalds/linux/blob/v6.0/Documentation/ABI/testing/sysfs-bus-pci#L344-L355\n",
      "2024-08-19 15:57:02.409322: I external/local_xla/xla/stream_executor/cuda/cuda_executor.cc:998] successful NUMA node read from SysFS had negative value (-1), but there must be at least one NUMA node, so returning NUMA node zero. See more at https://github.com/torvalds/linux/blob/v6.0/Documentation/ABI/testing/sysfs-bus-pci#L344-L355\n",
      "2024-08-19 15:57:02.428390: I external/local_xla/xla/stream_executor/cuda/cuda_executor.cc:998] successful NUMA node read from SysFS had negative value (-1), but there must be at least one NUMA node, so returning NUMA node zero. See more at https://github.com/torvalds/linux/blob/v6.0/Documentation/ABI/testing/sysfs-bus-pci#L344-L355\n",
      "2024-08-19 15:57:02.773110: I external/local_xla/xla/stream_executor/cuda/cuda_executor.cc:998] successful NUMA node read from SysFS had negative value (-1), but there must be at least one NUMA node, so returning NUMA node zero. See more at https://github.com/torvalds/linux/blob/v6.0/Documentation/ABI/testing/sysfs-bus-pci#L344-L355\n",
      "2024-08-19 15:57:02.776039: I external/local_xla/xla/stream_executor/cuda/cuda_executor.cc:998] successful NUMA node read from SysFS had negative value (-1), but there must be at least one NUMA node, so returning NUMA node zero. See more at https://github.com/torvalds/linux/blob/v6.0/Documentation/ABI/testing/sysfs-bus-pci#L344-L355\n",
      "2024-08-19 15:57:02.777660: I external/local_xla/xla/stream_executor/cuda/cuda_executor.cc:998] successful NUMA node read from SysFS had negative value (-1), but there must be at least one NUMA node, so returning NUMA node zero. See more at https://github.com/torvalds/linux/blob/v6.0/Documentation/ABI/testing/sysfs-bus-pci#L344-L355\n",
      "2024-08-19 15:57:02.779351: I tensorflow/core/common_runtime/gpu/gpu_device.cc:1928] Created device /job:localhost/replica:0/task:0/device:GPU:0 with 75050 MB memory:  -> device: 0, name: NVIDIA H100 80GB HBM3, pci bus id: 0000:00:05.0, compute capability: 9.0\n"
     ]
    },
    {
     "data": {
      "text/html": [
       "<pre style=\"white-space:pre;overflow-x:auto;line-height:normal;font-family:Menlo,'DejaVu Sans Mono',consolas,'Courier New',monospace\"><span style=\"font-weight: bold\">Model: \"functional_1\"</span>\n",
       "</pre>\n"
      ],
      "text/plain": [
       "\u001b[1mModel: \"functional_1\"\u001b[0m\n"
      ]
     },
     "metadata": {},
     "output_type": "display_data"
    },
    {
     "data": {
      "text/html": [
       "<pre style=\"white-space:pre;overflow-x:auto;line-height:normal;font-family:Menlo,'DejaVu Sans Mono',consolas,'Courier New',monospace\">┏━━━━━━━━━━━━━━━━━━━━━━━━━━━━━━━━━┳━━━━━━━━━━━━━━━━━━━━━━━━┳━━━━━━━━━━━━━━━┓\n",
       "┃<span style=\"font-weight: bold\"> Layer (type)                    </span>┃<span style=\"font-weight: bold\"> Output Shape           </span>┃<span style=\"font-weight: bold\">       Param # </span>┃\n",
       "┡━━━━━━━━━━━━━━━━━━━━━━━━━━━━━━━━━╇━━━━━━━━━━━━━━━━━━━━━━━━╇━━━━━━━━━━━━━━━┩\n",
       "│ input_layer (<span style=\"color: #0087ff; text-decoration-color: #0087ff\">InputLayer</span>)        │ (<span style=\"color: #00d7ff; text-decoration-color: #00d7ff\">None</span>, <span style=\"color: #00af00; text-decoration-color: #00af00\">251</span>, <span style=\"color: #00af00; text-decoration-color: #00af00\">1</span>)         │             <span style=\"color: #00af00; text-decoration-color: #00af00\">0</span> │\n",
       "├─────────────────────────────────┼────────────────────────┼───────────────┤\n",
       "│ conv1d (<span style=\"color: #0087ff; text-decoration-color: #0087ff\">Conv1D</span>)                 │ (<span style=\"color: #00d7ff; text-decoration-color: #00d7ff\">None</span>, <span style=\"color: #00af00; text-decoration-color: #00af00\">245</span>, <span style=\"color: #00af00; text-decoration-color: #00af00\">256</span>)       │         <span style=\"color: #00af00; text-decoration-color: #00af00\">2,048</span> │\n",
       "├─────────────────────────────────┼────────────────────────┼───────────────┤\n",
       "│ batch_normalization             │ (<span style=\"color: #00d7ff; text-decoration-color: #00d7ff\">None</span>, <span style=\"color: #00af00; text-decoration-color: #00af00\">245</span>, <span style=\"color: #00af00; text-decoration-color: #00af00\">256</span>)       │         <span style=\"color: #00af00; text-decoration-color: #00af00\">1,024</span> │\n",
       "│ (<span style=\"color: #0087ff; text-decoration-color: #0087ff\">BatchNormalization</span>)            │                        │               │\n",
       "├─────────────────────────────────┼────────────────────────┼───────────────┤\n",
       "│ max_pooling1d (<span style=\"color: #0087ff; text-decoration-color: #0087ff\">MaxPooling1D</span>)    │ (<span style=\"color: #00d7ff; text-decoration-color: #00d7ff\">None</span>, <span style=\"color: #00af00; text-decoration-color: #00af00\">245</span>, <span style=\"color: #00af00; text-decoration-color: #00af00\">256</span>)       │             <span style=\"color: #00af00; text-decoration-color: #00af00\">0</span> │\n",
       "├─────────────────────────────────┼────────────────────────┼───────────────┤\n",
       "│ conv1d_1 (<span style=\"color: #0087ff; text-decoration-color: #0087ff\">Conv1D</span>)               │ (<span style=\"color: #00d7ff; text-decoration-color: #00d7ff\">None</span>, <span style=\"color: #00af00; text-decoration-color: #00af00\">239</span>, <span style=\"color: #00af00; text-decoration-color: #00af00\">256</span>)       │       <span style=\"color: #00af00; text-decoration-color: #00af00\">459,008</span> │\n",
       "├─────────────────────────────────┼────────────────────────┼───────────────┤\n",
       "│ batch_normalization_1           │ (<span style=\"color: #00d7ff; text-decoration-color: #00d7ff\">None</span>, <span style=\"color: #00af00; text-decoration-color: #00af00\">239</span>, <span style=\"color: #00af00; text-decoration-color: #00af00\">256</span>)       │         <span style=\"color: #00af00; text-decoration-color: #00af00\">1,024</span> │\n",
       "│ (<span style=\"color: #0087ff; text-decoration-color: #0087ff\">BatchNormalization</span>)            │                        │               │\n",
       "├─────────────────────────────────┼────────────────────────┼───────────────┤\n",
       "│ max_pooling1d_1 (<span style=\"color: #0087ff; text-decoration-color: #0087ff\">MaxPooling1D</span>)  │ (<span style=\"color: #00d7ff; text-decoration-color: #00d7ff\">None</span>, <span style=\"color: #00af00; text-decoration-color: #00af00\">239</span>, <span style=\"color: #00af00; text-decoration-color: #00af00\">256</span>)       │             <span style=\"color: #00af00; text-decoration-color: #00af00\">0</span> │\n",
       "├─────────────────────────────────┼────────────────────────┼───────────────┤\n",
       "│ dropout (<span style=\"color: #0087ff; text-decoration-color: #0087ff\">Dropout</span>)               │ (<span style=\"color: #00d7ff; text-decoration-color: #00d7ff\">None</span>, <span style=\"color: #00af00; text-decoration-color: #00af00\">239</span>, <span style=\"color: #00af00; text-decoration-color: #00af00\">256</span>)       │             <span style=\"color: #00af00; text-decoration-color: #00af00\">0</span> │\n",
       "├─────────────────────────────────┼────────────────────────┼───────────────┤\n",
       "│ spatial_attention               │ (<span style=\"color: #00d7ff; text-decoration-color: #00d7ff\">None</span>, <span style=\"color: #00af00; text-decoration-color: #00af00\">239</span>, <span style=\"color: #00af00; text-decoration-color: #00af00\">256</span>)       │            <span style=\"color: #00af00; text-decoration-color: #00af00\">14</span> │\n",
       "│ (<span style=\"color: #0087ff; text-decoration-color: #0087ff\">SpatialAttention</span>)              │                        │               │\n",
       "├─────────────────────────────────┼────────────────────────┼───────────────┤\n",
       "│ flatten (<span style=\"color: #0087ff; text-decoration-color: #0087ff\">Flatten</span>)               │ (<span style=\"color: #00d7ff; text-decoration-color: #00d7ff\">None</span>, <span style=\"color: #00af00; text-decoration-color: #00af00\">61184</span>)          │             <span style=\"color: #00af00; text-decoration-color: #00af00\">0</span> │\n",
       "├─────────────────────────────────┼────────────────────────┼───────────────┤\n",
       "│ dense (<span style=\"color: #0087ff; text-decoration-color: #0087ff\">Dense</span>)                   │ (<span style=\"color: #00d7ff; text-decoration-color: #00d7ff\">None</span>, <span style=\"color: #00af00; text-decoration-color: #00af00\">64</span>)             │     <span style=\"color: #00af00; text-decoration-color: #00af00\">3,915,840</span> │\n",
       "├─────────────────────────────────┼────────────────────────┼───────────────┤\n",
       "│ batch_normalization_2           │ (<span style=\"color: #00d7ff; text-decoration-color: #00d7ff\">None</span>, <span style=\"color: #00af00; text-decoration-color: #00af00\">64</span>)             │           <span style=\"color: #00af00; text-decoration-color: #00af00\">256</span> │\n",
       "│ (<span style=\"color: #0087ff; text-decoration-color: #0087ff\">BatchNormalization</span>)            │                        │               │\n",
       "├─────────────────────────────────┼────────────────────────┼───────────────┤\n",
       "│ dense_1 (<span style=\"color: #0087ff; text-decoration-color: #0087ff\">Dense</span>)                 │ (<span style=\"color: #00d7ff; text-decoration-color: #00d7ff\">None</span>, <span style=\"color: #00af00; text-decoration-color: #00af00\">7</span>)              │           <span style=\"color: #00af00; text-decoration-color: #00af00\">455</span> │\n",
       "└─────────────────────────────────┴────────────────────────┴───────────────┘\n",
       "</pre>\n"
      ],
      "text/plain": [
       "┏━━━━━━━━━━━━━━━━━━━━━━━━━━━━━━━━━┳━━━━━━━━━━━━━━━━━━━━━━━━┳━━━━━━━━━━━━━━━┓\n",
       "┃\u001b[1m \u001b[0m\u001b[1mLayer (type)                   \u001b[0m\u001b[1m \u001b[0m┃\u001b[1m \u001b[0m\u001b[1mOutput Shape          \u001b[0m\u001b[1m \u001b[0m┃\u001b[1m \u001b[0m\u001b[1m      Param #\u001b[0m\u001b[1m \u001b[0m┃\n",
       "┡━━━━━━━━━━━━━━━━━━━━━━━━━━━━━━━━━╇━━━━━━━━━━━━━━━━━━━━━━━━╇━━━━━━━━━━━━━━━┩\n",
       "│ input_layer (\u001b[38;5;33mInputLayer\u001b[0m)        │ (\u001b[38;5;45mNone\u001b[0m, \u001b[38;5;34m251\u001b[0m, \u001b[38;5;34m1\u001b[0m)         │             \u001b[38;5;34m0\u001b[0m │\n",
       "├─────────────────────────────────┼────────────────────────┼───────────────┤\n",
       "│ conv1d (\u001b[38;5;33mConv1D\u001b[0m)                 │ (\u001b[38;5;45mNone\u001b[0m, \u001b[38;5;34m245\u001b[0m, \u001b[38;5;34m256\u001b[0m)       │         \u001b[38;5;34m2,048\u001b[0m │\n",
       "├─────────────────────────────────┼────────────────────────┼───────────────┤\n",
       "│ batch_normalization             │ (\u001b[38;5;45mNone\u001b[0m, \u001b[38;5;34m245\u001b[0m, \u001b[38;5;34m256\u001b[0m)       │         \u001b[38;5;34m1,024\u001b[0m │\n",
       "│ (\u001b[38;5;33mBatchNormalization\u001b[0m)            │                        │               │\n",
       "├─────────────────────────────────┼────────────────────────┼───────────────┤\n",
       "│ max_pooling1d (\u001b[38;5;33mMaxPooling1D\u001b[0m)    │ (\u001b[38;5;45mNone\u001b[0m, \u001b[38;5;34m245\u001b[0m, \u001b[38;5;34m256\u001b[0m)       │             \u001b[38;5;34m0\u001b[0m │\n",
       "├─────────────────────────────────┼────────────────────────┼───────────────┤\n",
       "│ conv1d_1 (\u001b[38;5;33mConv1D\u001b[0m)               │ (\u001b[38;5;45mNone\u001b[0m, \u001b[38;5;34m239\u001b[0m, \u001b[38;5;34m256\u001b[0m)       │       \u001b[38;5;34m459,008\u001b[0m │\n",
       "├─────────────────────────────────┼────────────────────────┼───────────────┤\n",
       "│ batch_normalization_1           │ (\u001b[38;5;45mNone\u001b[0m, \u001b[38;5;34m239\u001b[0m, \u001b[38;5;34m256\u001b[0m)       │         \u001b[38;5;34m1,024\u001b[0m │\n",
       "│ (\u001b[38;5;33mBatchNormalization\u001b[0m)            │                        │               │\n",
       "├─────────────────────────────────┼────────────────────────┼───────────────┤\n",
       "│ max_pooling1d_1 (\u001b[38;5;33mMaxPooling1D\u001b[0m)  │ (\u001b[38;5;45mNone\u001b[0m, \u001b[38;5;34m239\u001b[0m, \u001b[38;5;34m256\u001b[0m)       │             \u001b[38;5;34m0\u001b[0m │\n",
       "├─────────────────────────────────┼────────────────────────┼───────────────┤\n",
       "│ dropout (\u001b[38;5;33mDropout\u001b[0m)               │ (\u001b[38;5;45mNone\u001b[0m, \u001b[38;5;34m239\u001b[0m, \u001b[38;5;34m256\u001b[0m)       │             \u001b[38;5;34m0\u001b[0m │\n",
       "├─────────────────────────────────┼────────────────────────┼───────────────┤\n",
       "│ spatial_attention               │ (\u001b[38;5;45mNone\u001b[0m, \u001b[38;5;34m239\u001b[0m, \u001b[38;5;34m256\u001b[0m)       │            \u001b[38;5;34m14\u001b[0m │\n",
       "│ (\u001b[38;5;33mSpatialAttention\u001b[0m)              │                        │               │\n",
       "├─────────────────────────────────┼────────────────────────┼───────────────┤\n",
       "│ flatten (\u001b[38;5;33mFlatten\u001b[0m)               │ (\u001b[38;5;45mNone\u001b[0m, \u001b[38;5;34m61184\u001b[0m)          │             \u001b[38;5;34m0\u001b[0m │\n",
       "├─────────────────────────────────┼────────────────────────┼───────────────┤\n",
       "│ dense (\u001b[38;5;33mDense\u001b[0m)                   │ (\u001b[38;5;45mNone\u001b[0m, \u001b[38;5;34m64\u001b[0m)             │     \u001b[38;5;34m3,915,840\u001b[0m │\n",
       "├─────────────────────────────────┼────────────────────────┼───────────────┤\n",
       "│ batch_normalization_2           │ (\u001b[38;5;45mNone\u001b[0m, \u001b[38;5;34m64\u001b[0m)             │           \u001b[38;5;34m256\u001b[0m │\n",
       "│ (\u001b[38;5;33mBatchNormalization\u001b[0m)            │                        │               │\n",
       "├─────────────────────────────────┼────────────────────────┼───────────────┤\n",
       "│ dense_1 (\u001b[38;5;33mDense\u001b[0m)                 │ (\u001b[38;5;45mNone\u001b[0m, \u001b[38;5;34m7\u001b[0m)              │           \u001b[38;5;34m455\u001b[0m │\n",
       "└─────────────────────────────────┴────────────────────────┴───────────────┘\n"
      ]
     },
     "metadata": {},
     "output_type": "display_data"
    },
    {
     "data": {
      "text/html": [
       "<pre style=\"white-space:pre;overflow-x:auto;line-height:normal;font-family:Menlo,'DejaVu Sans Mono',consolas,'Courier New',monospace\"><span style=\"font-weight: bold\"> Total params: </span><span style=\"color: #00af00; text-decoration-color: #00af00\">4,379,669</span> (16.71 MB)\n",
       "</pre>\n"
      ],
      "text/plain": [
       "\u001b[1m Total params: \u001b[0m\u001b[38;5;34m4,379,669\u001b[0m (16.71 MB)\n"
      ]
     },
     "metadata": {},
     "output_type": "display_data"
    },
    {
     "data": {
      "text/html": [
       "<pre style=\"white-space:pre;overflow-x:auto;line-height:normal;font-family:Menlo,'DejaVu Sans Mono',consolas,'Courier New',monospace\"><span style=\"font-weight: bold\"> Trainable params: </span><span style=\"color: #00af00; text-decoration-color: #00af00\">4,378,517</span> (16.70 MB)\n",
       "</pre>\n"
      ],
      "text/plain": [
       "\u001b[1m Trainable params: \u001b[0m\u001b[38;5;34m4,378,517\u001b[0m (16.70 MB)\n"
      ]
     },
     "metadata": {},
     "output_type": "display_data"
    },
    {
     "data": {
      "text/html": [
       "<pre style=\"white-space:pre;overflow-x:auto;line-height:normal;font-family:Menlo,'DejaVu Sans Mono',consolas,'Courier New',monospace\"><span style=\"font-weight: bold\"> Non-trainable params: </span><span style=\"color: #00af00; text-decoration-color: #00af00\">1,152</span> (4.50 KB)\n",
       "</pre>\n"
      ],
      "text/plain": [
       "\u001b[1m Non-trainable params: \u001b[0m\u001b[38;5;34m1,152\u001b[0m (4.50 KB)\n"
      ]
     },
     "metadata": {},
     "output_type": "display_data"
    }
   ],
   "source": [
    "import tensorflow as tf\n",
    "import tensorflow.keras.layers as L\n",
    "from tensorflow.keras.models import Model\n",
    "from tensorflow.keras.regularizers import l2\n",
    "\n",
    "# Channel Attention Layer for 1D\n",
    "class ChannelAttention(L.Layer):\n",
    "    def __init__(self, channels, reduction_ratio=16):\n",
    "        super(ChannelAttention, self).__init__()\n",
    "        self.channels = channels\n",
    "        self.reduction_ratio = reduction_ratio\n",
    "        self.shared_mlp = tf.keras.Sequential([\n",
    "            L.Dense(channels // reduction_ratio, activation='relu', kernel_initializer='he_normal', use_bias=True, bias_initializer='zeros'),\n",
    "            L.Dense(channels, kernel_initializer='he_normal', use_bias=True, bias_initializer='zeros')\n",
    "        ])\n",
    "\n",
    "    def call(self, inputs):\n",
    "        avg_pool = tf.reduce_mean(inputs, axis=1, keepdims=True)\n",
    "        max_pool = tf.reduce_max(inputs, axis=1, keepdims=True)\n",
    "        avg_out = self.shared_mlp(avg_pool)\n",
    "        max_out = self.shared_mlp(max_pool)\n",
    "        attention = tf.nn.sigmoid(avg_out + max_out)\n",
    "        return inputs * attention\n",
    "\n",
    "# Spatial Attention Layer for 1D\n",
    "class SpatialAttention(L.Layer):\n",
    "    def __init__(self):\n",
    "        super(SpatialAttention, self).__init__()\n",
    "        self.conv = L.Conv1D(1, kernel_size=7, padding='same', activation='sigmoid', kernel_initializer='he_normal', use_bias=False)\n",
    "\n",
    "    def call(self, inputs):\n",
    "        avg_pool = tf.reduce_mean(inputs, axis=-1, keepdims=True)\n",
    "        max_pool = tf.reduce_max(inputs, axis=-1, keepdims=True)\n",
    "        concat = tf.concat([avg_pool, max_pool], axis=-1)\n",
    "        attention = self.conv(concat)\n",
    "        return inputs * attention\n",
    "\n",
    "# Define the model\n",
    "input_shape = (X_train.shape[1], X_train.shape[2])\n",
    "inputs = tf.keras.Input(shape=input_shape)\n",
    "\n",
    "# Convolutional layers\n",
    "x = L.Conv1D(256, kernel_size=7, strides=1, activation='relu', kernel_regularizer=l2(0.001))(inputs)\n",
    "x = L.BatchNormalization()(x)\n",
    "x = L.MaxPool1D(pool_size=1, strides=1)(x)\n",
    "\n",
    "x = L.Conv1D(256, kernel_size=7, strides=1, activation='relu', kernel_regularizer=l2(0.001))(x)\n",
    "x = L.BatchNormalization()(x)\n",
    "x = L.MaxPool1D(pool_size=1, strides=1)(x)\n",
    "x = L.Dropout(0.20)(x)\n",
    "\n",
    "\n",
    "# Channel Attention\n",
    "channel_attention = ChannelAttention(channels=x.shape[-1])\n",
    "x = channel_attention(x)\n",
    "\n",
    "# Spatial Attention\n",
    "spatial_attention = SpatialAttention()\n",
    "x = spatial_attention(x)\n",
    "\n",
    "# Fully connected layers\n",
    "x = L.Flatten()(x)\n",
    "x = L.Dense(64, activation='relu', kernel_regularizer=l2(0.001))(x)\n",
    "x = L.BatchNormalization()(x)\n",
    "outputs = L.Dense(7, activation='softmax')(x)\n",
    "\n",
    "# Create model\n",
    "model = Model(inputs, outputs)\n",
    "\n",
    "# Compile model\n",
    "optimizer = tf.keras.optimizers.Adam(learning_rate=0.00001)\n",
    "model.compile(optimizer=optimizer, loss='categorical_crossentropy', metrics=['accuracy'])\n",
    "\n",
    "# Early stopping and learning rate scheduler\n",
    "early_stopping = tf.keras.callbacks.EarlyStopping(monitor='val_loss', patience=10, restore_best_weights=True)\n",
    "lr_scheduler = tf.keras.callbacks.ReduceLROnPlateau(monitor='val_loss', factor=0.1, patience=5)\n",
    "\n",
    "model.summary()"
   ]
  },
  {
   "cell_type": "code",
   "execution_count": 15,
   "metadata": {
    "execution": {
     "iopub.execute_input": "2024-05-14T00:53:24.716354Z",
     "iopub.status.busy": "2024-05-14T00:53:24.716075Z",
     "iopub.status.idle": "2024-05-14T01:11:52.418306Z",
     "shell.execute_reply": "2024-05-14T01:11:52.417351Z",
     "shell.execute_reply.started": "2024-05-14T00:53:24.716326Z"
    },
    "trusted": true
   },
   "outputs": [
    {
     "name": "stdout",
     "output_type": "stream",
     "text": [
      "Epoch 1/100\n"
     ]
    },
    {
     "name": "stderr",
     "output_type": "stream",
     "text": [
      "WARNING: All log messages before absl::InitializeLog() is called are written to STDERR\n",
      "I0000 00:00:1724050637.595925 2730621 service.cc:145] XLA service 0x7f5bb4019d50 initialized for platform CUDA (this does not guarantee that XLA will be used). Devices:\n",
      "I0000 00:00:1724050637.595988 2730621 service.cc:153]   StreamExecutor device (0): NVIDIA H100 80GB HBM3, Compute Capability 9.0\n",
      "2024-08-19 15:57:17.719979: I tensorflow/compiler/mlir/tensorflow/utils/dump_mlir_util.cc:268] disabling MLIR crash reproducer, set env var `MLIR_CRASH_REPRODUCER_DIRECTORY` to enable.\n",
      "2024-08-19 15:57:18.057861: I external/local_xla/xla/stream_executor/cuda/cuda_dnn.cc:465] Loaded cuDNN version 8907\n"
     ]
    },
    {
     "name": "stdout",
     "output_type": "stream",
     "text": [
      "\u001b[1m   7/6144\u001b[0m \u001b[37m━━━━━━━━━━━━━━━━━━━━\u001b[0m \u001b[1m1:59\u001b[0m 20ms/step - accuracy: 0.1466 - loss: 2.8691  "
     ]
    },
    {
     "name": "stderr",
     "output_type": "stream",
     "text": [
      "I0000 00:00:1724050644.688375 2730621 device_compiler.h:188] Compiled cluster using XLA!  This line is logged at most once for the lifetime of the process.\n"
     ]
    },
    {
     "name": "stdout",
     "output_type": "stream",
     "text": [
      "\u001b[1m6144/6144\u001b[0m \u001b[32m━━━━━━━━━━━━━━━━━━━━\u001b[0m\u001b[37m\u001b[0m \u001b[1m120s\u001b[0m 18ms/step - accuracy: 0.5189 - loss: 1.6992 - val_accuracy: 0.8858 - val_loss: 0.7712\n",
      "Epoch 2/100\n",
      "\u001b[1m6144/6144\u001b[0m \u001b[32m━━━━━━━━━━━━━━━━━━━━\u001b[0m\u001b[37m\u001b[0m \u001b[1m147s\u001b[0m 20ms/step - accuracy: 0.8463 - loss: 0.8812 - val_accuracy: 0.9234 - val_loss: 0.6245\n",
      "Epoch 3/100\n",
      "\u001b[1m6144/6144\u001b[0m \u001b[32m━━━━━━━━━━━━━━━━━━━━\u001b[0m\u001b[37m\u001b[0m \u001b[1m118s\u001b[0m 16ms/step - accuracy: 0.9040 - loss: 0.7092 - val_accuracy: 0.9382 - val_loss: 0.5639\n",
      "Epoch 4/100\n",
      "\u001b[1m6144/6144\u001b[0m \u001b[32m━━━━━━━━━━━━━━━━━━━━\u001b[0m\u001b[37m\u001b[0m \u001b[1m127s\u001b[0m 21ms/step - accuracy: 0.9242 - loss: 0.6297 - val_accuracy: 0.9429 - val_loss: 0.5259\n",
      "Epoch 5/100\n",
      "\u001b[1m6144/6144\u001b[0m \u001b[32m━━━━━━━━━━━━━━━━━━━━\u001b[0m\u001b[37m\u001b[0m \u001b[1m104s\u001b[0m 17ms/step - accuracy: 0.9365 - loss: 0.5741 - val_accuracy: 0.9499 - val_loss: 0.4939\n",
      "Epoch 6/100\n",
      "\u001b[1m6144/6144\u001b[0m \u001b[32m━━━━━━━━━━━━━━━━━━━━\u001b[0m\u001b[37m\u001b[0m \u001b[1m128s\u001b[0m 21ms/step - accuracy: 0.9405 - loss: 0.5422 - val_accuracy: 0.9508 - val_loss: 0.4789\n",
      "Epoch 7/100\n",
      "\u001b[1m6144/6144\u001b[0m \u001b[32m━━━━━━━━━━━━━━━━━━━━\u001b[0m\u001b[37m\u001b[0m \u001b[1m130s\u001b[0m 21ms/step - accuracy: 0.9448 - loss: 0.5139 - val_accuracy: 0.9541 - val_loss: 0.4559\n",
      "Epoch 8/100\n",
      "\u001b[1m6144/6144\u001b[0m \u001b[32m━━━━━━━━━━━━━━━━━━━━\u001b[0m\u001b[37m\u001b[0m \u001b[1m105s\u001b[0m 17ms/step - accuracy: 0.9496 - loss: 0.4845 - val_accuracy: 0.9514 - val_loss: 0.4437\n",
      "Epoch 9/100\n",
      "\u001b[1m6144/6144\u001b[0m \u001b[32m━━━━━━━━━━━━━━━━━━━━\u001b[0m\u001b[37m\u001b[0m \u001b[1m108s\u001b[0m 18ms/step - accuracy: 0.9513 - loss: 0.4667 - val_accuracy: 0.9551 - val_loss: 0.4209\n",
      "Epoch 10/100\n",
      "\u001b[1m6144/6144\u001b[0m \u001b[32m━━━━━━━━━━━━━━━━━━━━\u001b[0m\u001b[37m\u001b[0m \u001b[1m130s\u001b[0m 21ms/step - accuracy: 0.9533 - loss: 0.4435 - val_accuracy: 0.9526 - val_loss: 0.4200\n",
      "Epoch 11/100\n",
      "\u001b[1m6144/6144\u001b[0m \u001b[32m━━━━━━━━━━━━━━━━━━━━\u001b[0m\u001b[37m\u001b[0m \u001b[1m93s\u001b[0m 15ms/step - accuracy: 0.9543 - loss: 0.4283 - val_accuracy: 0.9499 - val_loss: 0.4104\n",
      "Epoch 12/100\n",
      "\u001b[1m6144/6144\u001b[0m \u001b[32m━━━━━━━━━━━━━━━━━━━━\u001b[0m\u001b[37m\u001b[0m \u001b[1m128s\u001b[0m 21ms/step - accuracy: 0.9567 - loss: 0.4095 - val_accuracy: 0.9567 - val_loss: 0.3822\n",
      "Epoch 13/100\n",
      "\u001b[1m6144/6144\u001b[0m \u001b[32m━━━━━━━━━━━━━━━━━━━━\u001b[0m\u001b[37m\u001b[0m \u001b[1m128s\u001b[0m 21ms/step - accuracy: 0.9578 - loss: 0.3967 - val_accuracy: 0.9620 - val_loss: 0.3646\n",
      "Epoch 14/100\n",
      "\u001b[1m6144/6144\u001b[0m \u001b[32m━━━━━━━━━━━━━━━━━━━━\u001b[0m\u001b[37m\u001b[0m \u001b[1m139s\u001b[0m 23ms/step - accuracy: 0.9575 - loss: 0.3840 - val_accuracy: 0.9591 - val_loss: 0.3535\n",
      "Epoch 15/100\n",
      "\u001b[1m6144/6144\u001b[0m \u001b[32m━━━━━━━━━━━━━━━━━━━━\u001b[0m\u001b[37m\u001b[0m \u001b[1m136s\u001b[0m 22ms/step - accuracy: 0.9594 - loss: 0.3689 - val_accuracy: 0.9626 - val_loss: 0.3387\n",
      "Epoch 16/100\n",
      "\u001b[1m6144/6144\u001b[0m \u001b[32m━━━━━━━━━━━━━━━━━━━━\u001b[0m\u001b[37m\u001b[0m \u001b[1m138s\u001b[0m 22ms/step - accuracy: 0.9610 - loss: 0.3547 - val_accuracy: 0.9612 - val_loss: 0.3303\n",
      "Epoch 17/100\n",
      "\u001b[1m6144/6144\u001b[0m \u001b[32m━━━━━━━━━━━━━━━━━━━━\u001b[0m\u001b[37m\u001b[0m \u001b[1m142s\u001b[0m 23ms/step - accuracy: 0.9621 - loss: 0.3441 - val_accuracy: 0.9617 - val_loss: 0.3228\n",
      "Epoch 18/100\n",
      "\u001b[1m6144/6144\u001b[0m \u001b[32m━━━━━━━━━━━━━━━━━━━━\u001b[0m\u001b[37m\u001b[0m \u001b[1m129s\u001b[0m 21ms/step - accuracy: 0.9625 - loss: 0.3345 - val_accuracy: 0.9620 - val_loss: 0.3163\n",
      "Epoch 19/100\n",
      "\u001b[1m6144/6144\u001b[0m \u001b[32m━━━━━━━━━━━━━━━━━━━━\u001b[0m\u001b[37m\u001b[0m \u001b[1m128s\u001b[0m 21ms/step - accuracy: 0.9642 - loss: 0.3212 - val_accuracy: 0.9626 - val_loss: 0.3040\n",
      "Epoch 20/100\n",
      "\u001b[1m6144/6144\u001b[0m \u001b[32m━━━━━━━━━━━━━━━━━━━━\u001b[0m\u001b[37m\u001b[0m \u001b[1m145s\u001b[0m 24ms/step - accuracy: 0.9638 - loss: 0.3142 - val_accuracy: 0.9647 - val_loss: 0.2923\n",
      "Epoch 21/100\n",
      "\u001b[1m6144/6144\u001b[0m \u001b[32m━━━━━━━━━━━━━━━━━━━━\u001b[0m\u001b[37m\u001b[0m \u001b[1m127s\u001b[0m 21ms/step - accuracy: 0.9648 - loss: 0.3045 - val_accuracy: 0.9653 - val_loss: 0.2847\n",
      "Epoch 22/100\n",
      "\u001b[1m6144/6144\u001b[0m \u001b[32m━━━━━━━━━━━━━━━━━━━━\u001b[0m\u001b[37m\u001b[0m \u001b[1m140s\u001b[0m 23ms/step - accuracy: 0.9666 - loss: 0.2938 - val_accuracy: 0.9625 - val_loss: 0.2861\n",
      "Epoch 23/100\n",
      "\u001b[1m6144/6144\u001b[0m \u001b[32m━━━━━━━━━━━━━━━━━━━━\u001b[0m\u001b[37m\u001b[0m \u001b[1m131s\u001b[0m 21ms/step - accuracy: 0.9655 - loss: 0.2885 - val_accuracy: 0.9628 - val_loss: 0.2788\n",
      "Epoch 24/100\n",
      "\u001b[1m6144/6144\u001b[0m \u001b[32m━━━━━━━━━━━━━━━━━━━━\u001b[0m\u001b[37m\u001b[0m \u001b[1m141s\u001b[0m 23ms/step - accuracy: 0.9661 - loss: 0.2815 - val_accuracy: 0.9637 - val_loss: 0.2704\n",
      "Epoch 25/100\n",
      "\u001b[1m6144/6144\u001b[0m \u001b[32m━━━━━━━━━━━━━━━━━━━━\u001b[0m\u001b[37m\u001b[0m \u001b[1m134s\u001b[0m 22ms/step - accuracy: 0.9671 - loss: 0.2713 - val_accuracy: 0.9647 - val_loss: 0.2628\n",
      "Epoch 26/100\n",
      "\u001b[1m6144/6144\u001b[0m \u001b[32m━━━━━━━━━━━━━━━━━━━━\u001b[0m\u001b[37m\u001b[0m \u001b[1m123s\u001b[0m 20ms/step - accuracy: 0.9678 - loss: 0.2650 - val_accuracy: 0.9656 - val_loss: 0.2536\n",
      "Epoch 27/100\n",
      "\u001b[1m6144/6144\u001b[0m \u001b[32m━━━━━━━━━━━━━━━━━━━━\u001b[0m\u001b[37m\u001b[0m \u001b[1m166s\u001b[0m 24ms/step - accuracy: 0.9692 - loss: 0.2575 - val_accuracy: 0.9681 - val_loss: 0.2408\n",
      "Epoch 28/100\n",
      "\u001b[1m6144/6144\u001b[0m \u001b[32m━━━━━━━━━━━━━━━━━━━━\u001b[0m\u001b[37m\u001b[0m \u001b[1m128s\u001b[0m 21ms/step - accuracy: 0.9687 - loss: 0.2520 - val_accuracy: 0.9678 - val_loss: 0.2395\n",
      "Epoch 29/100\n",
      "\u001b[1m6144/6144\u001b[0m \u001b[32m━━━━━━━━━━━━━━━━━━━━\u001b[0m\u001b[37m\u001b[0m \u001b[1m124s\u001b[0m 20ms/step - accuracy: 0.9693 - loss: 0.2444 - val_accuracy: 0.9670 - val_loss: 0.2363\n",
      "Epoch 30/100\n",
      "\u001b[1m6144/6144\u001b[0m \u001b[32m━━━━━━━━━━━━━━━━━━━━\u001b[0m\u001b[37m\u001b[0m \u001b[1m139s\u001b[0m 23ms/step - accuracy: 0.9697 - loss: 0.2385 - val_accuracy: 0.9685 - val_loss: 0.2272\n",
      "Epoch 31/100\n",
      "\u001b[1m6144/6144\u001b[0m \u001b[32m━━━━━━━━━━━━━━━━━━━━\u001b[0m\u001b[37m\u001b[0m \u001b[1m132s\u001b[0m 21ms/step - accuracy: 0.9703 - loss: 0.2333 - val_accuracy: 0.9698 - val_loss: 0.2240\n",
      "Epoch 32/100\n",
      "\u001b[1m6144/6144\u001b[0m \u001b[32m━━━━━━━━━━━━━━━━━━━━\u001b[0m\u001b[37m\u001b[0m \u001b[1m132s\u001b[0m 21ms/step - accuracy: 0.9695 - loss: 0.2316 - val_accuracy: 0.9663 - val_loss: 0.2237\n",
      "Epoch 33/100\n",
      "\u001b[1m6144/6144\u001b[0m \u001b[32m━━━━━━━━━━━━━━━━━━━━\u001b[0m\u001b[37m\u001b[0m \u001b[1m130s\u001b[0m 21ms/step - accuracy: 0.9709 - loss: 0.2220 - val_accuracy: 0.9657 - val_loss: 0.2292\n",
      "Epoch 34/100\n",
      "\u001b[1m6144/6144\u001b[0m \u001b[32m━━━━━━━━━━━━━━━━━━━━\u001b[0m\u001b[37m\u001b[0m \u001b[1m106s\u001b[0m 17ms/step - accuracy: 0.9692 - loss: 0.2246 - val_accuracy: 0.9721 - val_loss: 0.2032\n",
      "Epoch 35/100\n",
      "\u001b[1m6144/6144\u001b[0m \u001b[32m━━━━━━━━━━━━━━━━━━━━\u001b[0m\u001b[37m\u001b[0m \u001b[1m113s\u001b[0m 18ms/step - accuracy: 0.9711 - loss: 0.2152 - val_accuracy: 0.9719 - val_loss: 0.1994\n",
      "Epoch 36/100\n",
      "\u001b[1m6144/6144\u001b[0m \u001b[32m━━━━━━━━━━━━━━━━━━━━\u001b[0m\u001b[37m\u001b[0m \u001b[1m143s\u001b[0m 23ms/step - accuracy: 0.9713 - loss: 0.2125 - val_accuracy: 0.9709 - val_loss: 0.1984\n",
      "Epoch 37/100\n",
      "\u001b[1m6144/6144\u001b[0m \u001b[32m━━━━━━━━━━━━━━━━━━━━\u001b[0m\u001b[37m\u001b[0m \u001b[1m124s\u001b[0m 20ms/step - accuracy: 0.9710 - loss: 0.2063 - val_accuracy: 0.9693 - val_loss: 0.1950\n",
      "Epoch 38/100\n",
      "\u001b[1m6144/6144\u001b[0m \u001b[32m━━━━━━━━━━━━━━━━━━━━\u001b[0m\u001b[37m\u001b[0m \u001b[1m138s\u001b[0m 22ms/step - accuracy: 0.9711 - loss: 0.2049 - val_accuracy: 0.9722 - val_loss: 0.1904\n",
      "Epoch 39/100\n",
      "\u001b[1m6144/6144\u001b[0m \u001b[32m━━━━━━━━━━━━━━━━━━━━\u001b[0m\u001b[37m\u001b[0m \u001b[1m146s\u001b[0m 24ms/step - accuracy: 0.9721 - loss: 0.1999 - val_accuracy: 0.9715 - val_loss: 0.1891\n",
      "Epoch 40/100\n",
      "\u001b[1m6144/6144\u001b[0m \u001b[32m━━━━━━━━━━━━━━━━━━━━\u001b[0m\u001b[37m\u001b[0m \u001b[1m132s\u001b[0m 21ms/step - accuracy: 0.9723 - loss: 0.1957 - val_accuracy: 0.9712 - val_loss: 0.1869\n",
      "Epoch 41/100\n",
      "\u001b[1m6144/6144\u001b[0m \u001b[32m━━━━━━━━━━━━━━━━━━━━\u001b[0m\u001b[37m\u001b[0m \u001b[1m153s\u001b[0m 23ms/step - accuracy: 0.9720 - loss: 0.1934 - val_accuracy: 0.9720 - val_loss: 0.1805\n",
      "Epoch 42/100\n",
      "\u001b[1m6144/6144\u001b[0m \u001b[32m━━━━━━━━━━━━━━━━━━━━\u001b[0m\u001b[37m\u001b[0m \u001b[1m136s\u001b[0m 22ms/step - accuracy: 0.9719 - loss: 0.1906 - val_accuracy: 0.9731 - val_loss: 0.1793\n",
      "Epoch 43/100\n",
      "\u001b[1m6144/6144\u001b[0m \u001b[32m━━━━━━━━━━━━━━━━━━━━\u001b[0m\u001b[37m\u001b[0m \u001b[1m124s\u001b[0m 20ms/step - accuracy: 0.9715 - loss: 0.1900 - val_accuracy: 0.9716 - val_loss: 0.1797\n",
      "Epoch 44/100\n",
      "\u001b[1m6144/6144\u001b[0m \u001b[32m━━━━━━━━━━━━━━━━━━━━\u001b[0m\u001b[37m\u001b[0m \u001b[1m147s\u001b[0m 24ms/step - accuracy: 0.9730 - loss: 0.1830 - val_accuracy: 0.9718 - val_loss: 0.1766\n",
      "Epoch 45/100\n",
      "\u001b[1m6144/6144\u001b[0m \u001b[32m━━━━━━━━━━━━━━━━━━━━\u001b[0m\u001b[37m\u001b[0m \u001b[1m132s\u001b[0m 22ms/step - accuracy: 0.9728 - loss: 0.1812 - val_accuracy: 0.9720 - val_loss: 0.1710\n",
      "Epoch 46/100\n",
      "\u001b[1m6144/6144\u001b[0m \u001b[32m━━━━━━━━━━━━━━━━━━━━\u001b[0m\u001b[37m\u001b[0m \u001b[1m142s\u001b[0m 23ms/step - accuracy: 0.9730 - loss: 0.1772 - val_accuracy: 0.9718 - val_loss: 0.1736\n",
      "Epoch 47/100\n",
      "\u001b[1m6144/6144\u001b[0m \u001b[32m━━━━━━━━━━━━━━━━━━━━\u001b[0m\u001b[37m\u001b[0m \u001b[1m142s\u001b[0m 23ms/step - accuracy: 0.9739 - loss: 0.1749 - val_accuracy: 0.9730 - val_loss: 0.1677\n",
      "Epoch 48/100\n",
      "\u001b[1m6144/6144\u001b[0m \u001b[32m━━━━━━━━━━━━━━━━━━━━\u001b[0m\u001b[37m\u001b[0m \u001b[1m142s\u001b[0m 23ms/step - accuracy: 0.9734 - loss: 0.1732 - val_accuracy: 0.9717 - val_loss: 0.1672\n",
      "Epoch 49/100\n",
      "\u001b[1m6144/6144\u001b[0m \u001b[32m━━━━━━━━━━━━━━━━━━━━\u001b[0m\u001b[37m\u001b[0m \u001b[1m192s\u001b[0m 21ms/step - accuracy: 0.9727 - loss: 0.1720 - val_accuracy: 0.9747 - val_loss: 0.1596\n",
      "Epoch 50/100\n",
      "\u001b[1m6144/6144\u001b[0m \u001b[32m━━━━━━━━━━━━━━━━━━━━\u001b[0m\u001b[37m\u001b[0m \u001b[1m103s\u001b[0m 17ms/step - accuracy: 0.9725 - loss: 0.1705 - val_accuracy: 0.9731 - val_loss: 0.1610\n",
      "Epoch 51/100\n",
      "\u001b[1m6144/6144\u001b[0m \u001b[32m━━━━━━━━━━━━━━━━━━━━\u001b[0m\u001b[37m\u001b[0m \u001b[1m119s\u001b[0m 19ms/step - accuracy: 0.9729 - loss: 0.1684 - val_accuracy: 0.9725 - val_loss: 0.1644\n",
      "Epoch 52/100\n",
      "\u001b[1m6144/6144\u001b[0m \u001b[32m━━━━━━━━━━━━━━━━━━━━\u001b[0m\u001b[37m\u001b[0m \u001b[1m141s\u001b[0m 23ms/step - accuracy: 0.9733 - loss: 0.1659 - val_accuracy: 0.9707 - val_loss: 0.1621\n",
      "Epoch 53/100\n",
      "\u001b[1m6144/6144\u001b[0m \u001b[32m━━━━━━━━━━━━━━━━━━━━\u001b[0m\u001b[37m\u001b[0m \u001b[1m130s\u001b[0m 21ms/step - accuracy: 0.9733 - loss: 0.1629 - val_accuracy: 0.9727 - val_loss: 0.1553\n",
      "Epoch 54/100\n",
      "\u001b[1m6144/6144\u001b[0m \u001b[32m━━━━━━━━━━━━━━━━━━━━\u001b[0m\u001b[37m\u001b[0m \u001b[1m126s\u001b[0m 21ms/step - accuracy: 0.9733 - loss: 0.1609 - val_accuracy: 0.9748 - val_loss: 0.1503\n",
      "Epoch 55/100\n",
      "\u001b[1m6144/6144\u001b[0m \u001b[32m━━━━━━━━━━━━━━━━━━━━\u001b[0m\u001b[37m\u001b[0m \u001b[1m143s\u001b[0m 23ms/step - accuracy: 0.9735 - loss: 0.1595 - val_accuracy: 0.9725 - val_loss: 0.1521\n",
      "Epoch 56/100\n",
      "\u001b[1m6144/6144\u001b[0m \u001b[32m━━━━━━━━━━━━━━━━━━━━\u001b[0m\u001b[37m\u001b[0m \u001b[1m143s\u001b[0m 23ms/step - accuracy: 0.9726 - loss: 0.1610 - val_accuracy: 0.9754 - val_loss: 0.1472\n",
      "Epoch 57/100\n",
      "\u001b[1m6144/6144\u001b[0m \u001b[32m━━━━━━━━━━━━━━━━━━━━\u001b[0m\u001b[37m\u001b[0m \u001b[1m138s\u001b[0m 22ms/step - accuracy: 0.9736 - loss: 0.1587 - val_accuracy: 0.9751 - val_loss: 0.1461\n",
      "Epoch 58/100\n",
      "\u001b[1m6144/6144\u001b[0m \u001b[32m━━━━━━━━━━━━━━━━━━━━\u001b[0m\u001b[37m\u001b[0m \u001b[1m130s\u001b[0m 21ms/step - accuracy: 0.9740 - loss: 0.1550 - val_accuracy: 0.9741 - val_loss: 0.1455\n",
      "Epoch 59/100\n",
      "\u001b[1m6144/6144\u001b[0m \u001b[32m━━━━━━━━━━━━━━━━━━━━\u001b[0m\u001b[37m\u001b[0m \u001b[1m134s\u001b[0m 22ms/step - accuracy: 0.9743 - loss: 0.1524 - val_accuracy: 0.9754 - val_loss: 0.1413\n",
      "Epoch 60/100\n",
      "\u001b[1m6144/6144\u001b[0m \u001b[32m━━━━━━━━━━━━━━━━━━━━\u001b[0m\u001b[37m\u001b[0m \u001b[1m125s\u001b[0m 20ms/step - accuracy: 0.9743 - loss: 0.1513 - val_accuracy: 0.9748 - val_loss: 0.1409\n",
      "Epoch 61/100\n",
      "\u001b[1m6144/6144\u001b[0m \u001b[32m━━━━━━━━━━━━━━━━━━━━\u001b[0m\u001b[37m\u001b[0m \u001b[1m142s\u001b[0m 23ms/step - accuracy: 0.9740 - loss: 0.1520 - val_accuracy: 0.9738 - val_loss: 0.1447\n",
      "Epoch 62/100\n",
      "\u001b[1m6144/6144\u001b[0m \u001b[32m━━━━━━━━━━━━━━━━━━━━\u001b[0m\u001b[37m\u001b[0m \u001b[1m146s\u001b[0m 24ms/step - accuracy: 0.9739 - loss: 0.1500 - val_accuracy: 0.9732 - val_loss: 0.1413\n",
      "Epoch 63/100\n",
      "\u001b[1m6144/6144\u001b[0m \u001b[32m━━━━━━━━━━━━━━━━━━━━\u001b[0m\u001b[37m\u001b[0m \u001b[1m190s\u001b[0m 22ms/step - accuracy: 0.9749 - loss: 0.1465 - val_accuracy: 0.9724 - val_loss: 0.1410\n",
      "Epoch 64/100\n",
      "\u001b[1m6144/6144\u001b[0m \u001b[32m━━━━━━━━━━━━━━━━━━━━\u001b[0m\u001b[37m\u001b[0m \u001b[1m133s\u001b[0m 22ms/step - accuracy: 0.9740 - loss: 0.1477 - val_accuracy: 0.9748 - val_loss: 0.1364\n",
      "Epoch 65/100\n",
      "\u001b[1m6144/6144\u001b[0m \u001b[32m━━━━━━━━━━━━━━━━━━━━\u001b[0m\u001b[37m\u001b[0m \u001b[1m133s\u001b[0m 22ms/step - accuracy: 0.9747 - loss: 0.1440 - val_accuracy: 0.9737 - val_loss: 0.1357\n",
      "Epoch 66/100\n",
      "\u001b[1m6144/6144\u001b[0m \u001b[32m━━━━━━━━━━━━━━━━━━━━\u001b[0m\u001b[37m\u001b[0m \u001b[1m160s\u001b[0m 26ms/step - accuracy: 0.9746 - loss: 0.1431 - val_accuracy: 0.9740 - val_loss: 0.1373\n",
      "Epoch 67/100\n",
      "\u001b[1m6144/6144\u001b[0m \u001b[32m━━━━━━━━━━━━━━━━━━━━\u001b[0m\u001b[37m\u001b[0m \u001b[1m147s\u001b[0m 24ms/step - accuracy: 0.9741 - loss: 0.1430 - val_accuracy: 0.9744 - val_loss: 0.1357\n",
      "Epoch 68/100\n",
      "\u001b[1m6144/6144\u001b[0m \u001b[32m━━━━━━━━━━━━━━━━━━━━\u001b[0m\u001b[37m\u001b[0m \u001b[1m148s\u001b[0m 24ms/step - accuracy: 0.9747 - loss: 0.1412 - val_accuracy: 0.9737 - val_loss: 0.1343\n",
      "Epoch 69/100\n",
      "\u001b[1m6144/6144\u001b[0m \u001b[32m━━━━━━━━━━━━━━━━━━━━\u001b[0m\u001b[37m\u001b[0m \u001b[1m77s\u001b[0m 13ms/step - accuracy: 0.9743 - loss: 0.1400 - val_accuracy: 0.9755 - val_loss: 0.1317\n",
      "Epoch 70/100\n",
      "\u001b[1m6144/6144\u001b[0m \u001b[32m━━━━━━━━━━━━━━━━━━━━\u001b[0m\u001b[37m\u001b[0m \u001b[1m63s\u001b[0m 10ms/step - accuracy: 0.9749 - loss: 0.1389 - val_accuracy: 0.9695 - val_loss: 0.1620\n",
      "Epoch 71/100\n",
      "\u001b[1m6144/6144\u001b[0m \u001b[32m━━━━━━━━━━━━━━━━━━━━\u001b[0m\u001b[37m\u001b[0m \u001b[1m133s\u001b[0m 22ms/step - accuracy: 0.9757 - loss: 0.1374 - val_accuracy: 0.9748 - val_loss: 0.1307\n",
      "Epoch 72/100\n",
      "\u001b[1m6144/6144\u001b[0m \u001b[32m━━━━━━━━━━━━━━━━━━━━\u001b[0m\u001b[37m\u001b[0m \u001b[1m159s\u001b[0m 26ms/step - accuracy: 0.9739 - loss: 0.1391 - val_accuracy: 0.9744 - val_loss: 0.1302\n",
      "Epoch 73/100\n",
      "\u001b[1m6144/6144\u001b[0m \u001b[32m━━━━━━━━━━━━━━━━━━━━\u001b[0m\u001b[37m\u001b[0m \u001b[1m153s\u001b[0m 25ms/step - accuracy: 0.9751 - loss: 0.1375 - val_accuracy: 0.9749 - val_loss: 0.1306\n",
      "Epoch 74/100\n",
      "\u001b[1m6144/6144\u001b[0m \u001b[32m━━━━━━━━━━━━━━━━━━━━\u001b[0m\u001b[37m\u001b[0m \u001b[1m161s\u001b[0m 26ms/step - accuracy: 0.9753 - loss: 0.1372 - val_accuracy: 0.9745 - val_loss: 0.1276\n",
      "Epoch 75/100\n",
      "\u001b[1m6144/6144\u001b[0m \u001b[32m━━━━━━━━━━━━━━━━━━━━\u001b[0m\u001b[37m\u001b[0m \u001b[1m142s\u001b[0m 23ms/step - accuracy: 0.9753 - loss: 0.1338 - val_accuracy: 0.9740 - val_loss: 0.1292\n",
      "Epoch 76/100\n",
      "\u001b[1m6144/6144\u001b[0m \u001b[32m━━━━━━━━━━━━━━━━━━━━\u001b[0m\u001b[37m\u001b[0m \u001b[1m134s\u001b[0m 22ms/step - accuracy: 0.9744 - loss: 0.1360 - val_accuracy: 0.9747 - val_loss: 0.1259\n",
      "Epoch 77/100\n",
      "\u001b[1m6144/6144\u001b[0m \u001b[32m━━━━━━━━━━━━━━━━━━━━\u001b[0m\u001b[37m\u001b[0m \u001b[1m142s\u001b[0m 23ms/step - accuracy: 0.9744 - loss: 0.1350 - val_accuracy: 0.9750 - val_loss: 0.1283\n",
      "Epoch 78/100\n",
      "\u001b[1m6144/6144\u001b[0m \u001b[32m━━━━━━━━━━━━━━━━━━━━\u001b[0m\u001b[37m\u001b[0m \u001b[1m134s\u001b[0m 22ms/step - accuracy: 0.9748 - loss: 0.1335 - val_accuracy: 0.9747 - val_loss: 0.1257\n",
      "Epoch 79/100\n",
      "\u001b[1m6144/6144\u001b[0m \u001b[32m━━━━━━━━━━━━━━━━━━━━\u001b[0m\u001b[37m\u001b[0m \u001b[1m130s\u001b[0m 21ms/step - accuracy: 0.9742 - loss: 0.1352 - val_accuracy: 0.9763 - val_loss: 0.1234\n",
      "Epoch 80/100\n",
      "\u001b[1m6144/6144\u001b[0m \u001b[32m━━━━━━━━━━━━━━━━━━━━\u001b[0m\u001b[37m\u001b[0m \u001b[1m129s\u001b[0m 21ms/step - accuracy: 0.9750 - loss: 0.1321 - val_accuracy: 0.9750 - val_loss: 0.1232\n",
      "Epoch 81/100\n",
      "\u001b[1m6144/6144\u001b[0m \u001b[32m━━━━━━━━━━━━━━━━━━━━\u001b[0m\u001b[37m\u001b[0m \u001b[1m153s\u001b[0m 25ms/step - accuracy: 0.9752 - loss: 0.1307 - val_accuracy: 0.9744 - val_loss: 0.1229\n",
      "Epoch 82/100\n",
      "\u001b[1m6144/6144\u001b[0m \u001b[32m━━━━━━━━━━━━━━━━━━━━\u001b[0m\u001b[37m\u001b[0m \u001b[1m137s\u001b[0m 22ms/step - accuracy: 0.9761 - loss: 0.1283 - val_accuracy: 0.9723 - val_loss: 0.1392\n",
      "Epoch 83/100\n",
      "\u001b[1m6144/6144\u001b[0m \u001b[32m━━━━━━━━━━━━━━━━━━━━\u001b[0m\u001b[37m\u001b[0m \u001b[1m141s\u001b[0m 23ms/step - accuracy: 0.9748 - loss: 0.1297 - val_accuracy: 0.9747 - val_loss: 0.1241\n",
      "Epoch 84/100\n",
      "\u001b[1m6144/6144\u001b[0m \u001b[32m━━━━━━━━━━━━━━━━━━━━\u001b[0m\u001b[37m\u001b[0m \u001b[1m136s\u001b[0m 22ms/step - accuracy: 0.9754 - loss: 0.1298 - val_accuracy: 0.9749 - val_loss: 0.1209\n",
      "Epoch 85/100\n",
      "\u001b[1m6144/6144\u001b[0m \u001b[32m━━━━━━━━━━━━━━━━━━━━\u001b[0m\u001b[37m\u001b[0m \u001b[1m149s\u001b[0m 24ms/step - accuracy: 0.9749 - loss: 0.1288 - val_accuracy: 0.9751 - val_loss: 0.1204\n",
      "Epoch 86/100\n",
      "\u001b[1m6144/6144\u001b[0m \u001b[32m━━━━━━━━━━━━━━━━━━━━\u001b[0m\u001b[37m\u001b[0m \u001b[1m160s\u001b[0m 26ms/step - accuracy: 0.9750 - loss: 0.1282 - val_accuracy: 0.9749 - val_loss: 0.1201\n",
      "Epoch 87/100\n",
      "\u001b[1m6144/6144\u001b[0m \u001b[32m━━━━━━━━━━━━━━━━━━━━\u001b[0m\u001b[37m\u001b[0m \u001b[1m125s\u001b[0m 20ms/step - accuracy: 0.9744 - loss: 0.1297 - val_accuracy: 0.9730 - val_loss: 0.1241\n",
      "Epoch 88/100\n",
      "\u001b[1m6144/6144\u001b[0m \u001b[32m━━━━━━━━━━━━━━━━━━━━\u001b[0m\u001b[37m\u001b[0m \u001b[1m138s\u001b[0m 22ms/step - accuracy: 0.9755 - loss: 0.1253 - val_accuracy: 0.9758 - val_loss: 0.1189\n",
      "Epoch 89/100\n",
      "\u001b[1m6144/6144\u001b[0m \u001b[32m━━━━━━━━━━━━━━━━━━━━\u001b[0m\u001b[37m\u001b[0m \u001b[1m167s\u001b[0m 27ms/step - accuracy: 0.9755 - loss: 0.1260 - val_accuracy: 0.9749 - val_loss: 0.1195\n",
      "Epoch 90/100\n",
      "\u001b[1m6144/6144\u001b[0m \u001b[32m━━━━━━━━━━━━━━━━━━━━\u001b[0m\u001b[37m\u001b[0m \u001b[1m141s\u001b[0m 23ms/step - accuracy: 0.9757 - loss: 0.1246 - val_accuracy: 0.9760 - val_loss: 0.1169\n",
      "Epoch 91/100\n",
      "\u001b[1m6144/6144\u001b[0m \u001b[32m━━━━━━━━━━━━━━━━━━━━\u001b[0m\u001b[37m\u001b[0m \u001b[1m157s\u001b[0m 26ms/step - accuracy: 0.9747 - loss: 0.1267 - val_accuracy: 0.9762 - val_loss: 0.1170\n",
      "Epoch 92/100\n",
      "\u001b[1m6144/6144\u001b[0m \u001b[32m━━━━━━━━━━━━━━━━━━━━\u001b[0m\u001b[37m\u001b[0m \u001b[1m176s\u001b[0m 21ms/step - accuracy: 0.9754 - loss: 0.1252 - val_accuracy: 0.9763 - val_loss: 0.1160\n",
      "Epoch 93/100\n",
      "\u001b[1m6144/6144\u001b[0m \u001b[32m━━━━━━━━━━━━━━━━━━━━\u001b[0m\u001b[37m\u001b[0m \u001b[1m166s\u001b[0m 25ms/step - accuracy: 0.9757 - loss: 0.1230 - val_accuracy: 0.9762 - val_loss: 0.1163\n",
      "Epoch 94/100\n",
      "\u001b[1m6144/6144\u001b[0m \u001b[32m━━━━━━━━━━━━━━━━━━━━\u001b[0m\u001b[37m\u001b[0m \u001b[1m157s\u001b[0m 25ms/step - accuracy: 0.9754 - loss: 0.1237 - val_accuracy: 0.9717 - val_loss: 0.1317\n",
      "Epoch 95/100\n",
      "\u001b[1m6144/6144\u001b[0m \u001b[32m━━━━━━━━━━━━━━━━━━━━\u001b[0m\u001b[37m\u001b[0m \u001b[1m185s\u001b[0m 23ms/step - accuracy: 0.9757 - loss: 0.1229 - val_accuracy: 0.9755 - val_loss: 0.1148\n",
      "Epoch 96/100\n",
      "\u001b[1m6144/6144\u001b[0m \u001b[32m━━━━━━━━━━━━━━━━━━━━\u001b[0m\u001b[37m\u001b[0m \u001b[1m123s\u001b[0m 20ms/step - accuracy: 0.9761 - loss: 0.1229 - val_accuracy: 0.9769 - val_loss: 0.1149\n",
      "Epoch 97/100\n",
      "\u001b[1m6144/6144\u001b[0m \u001b[32m━━━━━━━━━━━━━━━━━━━━\u001b[0m\u001b[37m\u001b[0m \u001b[1m148s\u001b[0m 24ms/step - accuracy: 0.9751 - loss: 0.1241 - val_accuracy: 0.9761 - val_loss: 0.1132\n",
      "Epoch 98/100\n",
      "\u001b[1m6144/6144\u001b[0m \u001b[32m━━━━━━━━━━━━━━━━━━━━\u001b[0m\u001b[37m\u001b[0m \u001b[1m148s\u001b[0m 24ms/step - accuracy: 0.9751 - loss: 0.1237 - val_accuracy: 0.9762 - val_loss: 0.1125\n",
      "Epoch 99/100\n",
      "\u001b[1m6144/6144\u001b[0m \u001b[32m━━━━━━━━━━━━━━━━━━━━\u001b[0m\u001b[37m\u001b[0m \u001b[1m187s\u001b[0m 22ms/step - accuracy: 0.9760 - loss: 0.1206 - val_accuracy: 0.9751 - val_loss: 0.1129\n",
      "Epoch 100/100\n",
      "\u001b[1m6144/6144\u001b[0m \u001b[32m━━━━━━━━━━━━━━━━━━━━\u001b[0m\u001b[37m\u001b[0m \u001b[1m165s\u001b[0m 27ms/step - accuracy: 0.9762 - loss: 0.1214 - val_accuracy: 0.9749 - val_loss: 0.1158\n"
     ]
    }
   ],
   "source": [
    "history=model.fit(x_traincnn, y_train, validation_data=(x_testcnn, y_test), epochs=100, \n",
    "          batch_size=16)"
   ]
  },
  {
   "cell_type": "code",
   "execution_count": 16,
   "metadata": {
    "execution": {
     "iopub.execute_input": "2024-05-14T01:11:52.420189Z",
     "iopub.status.busy": "2024-05-14T01:11:52.419870Z",
     "iopub.status.idle": "2024-05-14T01:11:55.076984Z",
     "shell.execute_reply": "2024-05-14T01:11:55.076002Z",
     "shell.execute_reply.started": "2024-05-14T01:11:52.420157Z"
    },
    "trusted": true
   },
   "outputs": [
    {
     "name": "stdout",
     "output_type": "stream",
     "text": [
      "\u001b[1m768/768\u001b[0m \u001b[32m━━━━━━━━━━━━━━━━━━━━\u001b[0m\u001b[37m\u001b[0m \u001b[1m12s\u001b[0m 14ms/step - accuracy: 0.9750 - loss: 0.1163\n",
      "Accuracy of our model on test data :  97.49348759651184 %\n"
     ]
    }
   ],
   "source": [
    "print(\"Accuracy of our model on test data : \" , model.evaluate(x_testcnn,y_test)[1]*100 , \"%\")"
   ]
  },
  {
   "cell_type": "code",
   "execution_count": 17,
   "metadata": {
    "execution": {
     "iopub.execute_input": "2024-05-14T01:11:55.078368Z",
     "iopub.status.busy": "2024-05-14T01:11:55.078090Z",
     "iopub.status.idle": "2024-05-14T01:11:56.930664Z",
     "shell.execute_reply": "2024-05-14T01:11:56.929558Z",
     "shell.execute_reply.started": "2024-05-14T01:11:55.078340Z"
    },
    "trusted": true
   },
   "outputs": [
    {
     "name": "stdout",
     "output_type": "stream",
     "text": [
      "\u001b[1m768/768\u001b[0m \u001b[32m━━━━━━━━━━━━━━━━━━━━\u001b[0m\u001b[37m\u001b[0m \u001b[1m5s\u001b[0m 6ms/step\n"
     ]
    },
    {
     "data": {
      "text/html": [
       "<div>\n",
       "<style scoped>\n",
       "    .dataframe tbody tr th:only-of-type {\n",
       "        vertical-align: middle;\n",
       "    }\n",
       "\n",
       "    .dataframe tbody tr th {\n",
       "        vertical-align: top;\n",
       "    }\n",
       "\n",
       "    .dataframe thead th {\n",
       "        text-align: right;\n",
       "    }\n",
       "</style>\n",
       "<table border=\"1\" class=\"dataframe\">\n",
       "  <thead>\n",
       "    <tr style=\"text-align: right;\">\n",
       "      <th></th>\n",
       "      <th>Predicted Labels</th>\n",
       "      <th>Actual Labels</th>\n",
       "    </tr>\n",
       "  </thead>\n",
       "  <tbody>\n",
       "    <tr>\n",
       "      <th>0</th>\n",
       "      <td>angry</td>\n",
       "      <td>angry</td>\n",
       "    </tr>\n",
       "    <tr>\n",
       "      <th>1</th>\n",
       "      <td>happy</td>\n",
       "      <td>happy</td>\n",
       "    </tr>\n",
       "    <tr>\n",
       "      <th>2</th>\n",
       "      <td>disgust</td>\n",
       "      <td>disgust</td>\n",
       "    </tr>\n",
       "    <tr>\n",
       "      <th>3</th>\n",
       "      <td>surprise</td>\n",
       "      <td>surprise</td>\n",
       "    </tr>\n",
       "    <tr>\n",
       "      <th>4</th>\n",
       "      <td>neutral</td>\n",
       "      <td>neutral</td>\n",
       "    </tr>\n",
       "    <tr>\n",
       "      <th>5</th>\n",
       "      <td>happy</td>\n",
       "      <td>happy</td>\n",
       "    </tr>\n",
       "    <tr>\n",
       "      <th>6</th>\n",
       "      <td>neutral</td>\n",
       "      <td>neutral</td>\n",
       "    </tr>\n",
       "    <tr>\n",
       "      <th>7</th>\n",
       "      <td>disgust</td>\n",
       "      <td>disgust</td>\n",
       "    </tr>\n",
       "    <tr>\n",
       "      <th>8</th>\n",
       "      <td>fear</td>\n",
       "      <td>fear</td>\n",
       "    </tr>\n",
       "    <tr>\n",
       "      <th>9</th>\n",
       "      <td>fear</td>\n",
       "      <td>fear</td>\n",
       "    </tr>\n",
       "  </tbody>\n",
       "</table>\n",
       "</div>"
      ],
      "text/plain": [
       "  Predicted Labels Actual Labels\n",
       "0            angry         angry\n",
       "1            happy         happy\n",
       "2          disgust       disgust\n",
       "3         surprise      surprise\n",
       "4          neutral       neutral\n",
       "5            happy         happy\n",
       "6          neutral       neutral\n",
       "7          disgust       disgust\n",
       "8             fear          fear\n",
       "9             fear          fear"
      ]
     },
     "execution_count": 17,
     "metadata": {},
     "output_type": "execute_result"
    }
   ],
   "source": [
    "# predicting on test data.\n",
    "pred_test0 = model.predict(x_testcnn)\n",
    "y_pred0 = encoder.inverse_transform(pred_test0)\n",
    "y_test0 = encoder.inverse_transform(y_test)\n",
    "\n",
    "# Check for random predictions\n",
    "df0 = pd.DataFrame(columns=['Predicted Labels', 'Actual Labels'])\n",
    "df0['Predicted Labels'] = y_pred0.flatten()\n",
    "df0['Actual Labels'] = y_test0.flatten()\n",
    "\n",
    "df0.head(10)"
   ]
  },
  {
   "attachments": {},
   "cell_type": "markdown",
   "metadata": {},
   "source": [
    "Some plots of multi_model\n",
    "______________________________________________\n"
   ]
  },
  {
   "attachments": {},
   "cell_type": "markdown",
   "metadata": {},
   "source": [
    "# Evalutation"
   ]
  },
  {
   "attachments": {},
   "cell_type": "markdown",
   "metadata": {},
   "source": [
    "Results of best model"
   ]
  },
  {
   "cell_type": "code",
   "execution_count": 18,
   "metadata": {
    "execution": {
     "iopub.execute_input": "2024-05-14T01:11:56.946248Z",
     "iopub.status.busy": "2024-05-14T01:11:56.945655Z",
     "iopub.status.idle": "2024-05-14T01:11:57.443819Z",
     "shell.execute_reply": "2024-05-14T01:11:57.442797Z",
     "shell.execute_reply.started": "2024-05-14T01:11:56.946206Z"
    },
    "trusted": true
   },
   "outputs": [
    {
     "data": {
      "image/png": "[encoded data removed]",
      "text/plain": [
       "<Figure size 1200x1000 with 2 Axes>"
      ]
     },
     "metadata": {},
     "output_type": "display_data"
    },
    {
     "name": "stdout",
     "output_type": "stream",
     "text": [
      "              precision    recall  f1-score   support\n",
      "\n",
      "       angry       0.97      0.99      0.98      3192\n",
      "     disgust       0.95      0.97      0.96      3059\n",
      "        fear       0.99      0.96      0.98      3032\n",
      "       happy       0.99      0.97      0.98      3127\n",
      "     neutral       0.97      0.99      0.98      5951\n",
      "         sad       0.98      0.96      0.97      3178\n",
      "    surprise       0.98      0.97      0.98      3037\n",
      "\n",
      "    accuracy                           0.97     24576\n",
      "   macro avg       0.98      0.97      0.97     24576\n",
      "weighted avg       0.98      0.97      0.97     24576\n",
      "\n"
     ]
    }
   ],
   "source": [
    "from sklearn.metrics import confusion_matrix,classification_report\n",
    "cm = confusion_matrix(y_test0, y_pred0)\n",
    "plt.figure(figsize = (12, 10))\n",
    "cm = pd.DataFrame(cm , index = [i for i in encoder.categories_] , columns = [i for i in encoder.categories_])\n",
    "#cm = cm.astype('float') / cm.sum(axis=1)[:, np.newaxis]\n",
    "sns.heatmap(cm, linecolor='white', cmap='Blues', linewidth=1, annot=True, fmt='.2f')\n",
    "plt.title('Confusion Matrix', size=20)\n",
    "plt.xlabel('Predicted Labels', size=14)\n",
    "plt.ylabel('Actual Labels', size=14)\n",
    "plt.show()\n",
    "print(classification_report(y_test0, y_pred0))"
   ]
  },
  {
   "cell_type": "code",
   "execution_count": 19,
   "metadata": {},
   "outputs": [
    {
     "data": {
      "image/png": "[encoded data removed]",
      "text/plain": [
       "<Figure size 1200x400 with 2 Axes>"
      ]
     },
     "metadata": {},
     "output_type": "display_data"
    }
   ],
   "source": [
    "import matplotlib.pyplot as plt\n",
    "\n",
    "# 가정: 'history'는 model.fit()의 결과로 얻은 History 객체입니다.\n",
    "# 예: history = model.fit(x_train, y_train, epochs=10, validation_data=(x_val, y_val))\n",
    "\n",
    "def plot_history(history):\n",
    "    # 손실 그래프\n",
    "    plt.figure(figsize=(12, 4))\n",
    "\n",
    "    plt.subplot(1, 2, 1)\n",
    "    plt.plot(history.history['loss'], label='Train Loss')\n",
    "    plt.plot(history.history['val_loss'], label='Validation Loss')\n",
    "    plt.xlabel('Epochs')\n",
    "    plt.ylabel('Loss')\n",
    "    plt.title('Loss Over Epochs')\n",
    "    plt.legend()\n",
    "\n",
    "    # 정확도 그래프\n",
    "    plt.subplot(1, 2, 2)\n",
    "    plt.plot(history.history['accuracy'], label='Train Accuracy')\n",
    "    plt.plot(history.history['val_accuracy'], label='Validation Accuracy')\n",
    "    plt.xlabel('Epochs')\n",
    "    plt.ylabel('Accuracy')\n",
    "    plt.title('Accuracy Over Epochs')\n",
    "    plt.legend()\n",
    "\n",
    "    plt.show()\n",
    "\n",
    "# history 객체를 사용하여 그래프 출력\n",
    "plot_history(history)\n"
   ]
  },
  {
   "cell_type": "code",
   "execution_count": 20,
   "metadata": {},
   "outputs": [
    {
     "name": "stderr",
     "output_type": "stream",
     "text": [
      "WARNING:absl:You are saving your model as an HDF5 file via `model.save()` or `keras.saving.save_model(model)`. This file format is considered legacy. We recommend using instead the native Keras format, e.g. `model.save('my_model.keras')` or `keras.saving.save_model(model, 'my_model.keras')`. \n"
     ]
    },
    {
     "ename": "",
     "evalue": "",
     "output_type": "error",
     "traceback": [
      "\u001b[1;31mThe Kernel crashed while executing code in the current cell or a previous cell. \n",
      "\u001b[1;31mPlease review the code in the cell(s) to identify a possible cause of the failure. \n",
      "\u001b[1;31mClick <a href='https://aka.ms/vscodeJupyterKernelCrash'>here</a> for more info. \n",
      "\u001b[1;31mView Jupyter <a href='command:jupyter.viewOutput'>log</a> for further details."
     ]
    }
   ],
   "source": [
    "model.save(\"savee_preprocessed/Results/savee_mfcc_augmentation_sa.h5\")"
   ]
  },
  {
   "cell_type": "code",
   "execution_count": null,
   "metadata": {},
   "outputs": [
    {
     "name": "stderr",
     "output_type": "stream",
     "text": [
      "WARNING:absl:You are saving your model as an HDF5 file via `model.save()` or `keras.saving.save_model(model)`. This file format is considered legacy. We recommend using instead the native Keras format, e.g. `model.save('my_model.keras')` or `keras.saving.save_model(model, 'my_model.keras')`. \n"
     ]
    },
    {
     "ename": "ValueError",
     "evalue": "Unable to synchronously create dataset (name already exists)",
     "output_type": "error",
     "traceback": [
      "\u001b[0;31m---------------------------------------------------------------------------\u001b[0m\n",
      "\u001b[0;31mValueError\u001b[0m                                Traceback (most recent call last)\n",
      "Cell \u001b[0;32mIn[21], line 1\u001b[0m\n",
      "\u001b[0;32m----> 1\u001b[0m \u001b[43mmodel\u001b[49m\u001b[38;5;241;43m.\u001b[39;49m\u001b[43msave\u001b[49m\u001b[43m(\u001b[49m\u001b[38;5;124;43m\"\u001b[39;49m\u001b[38;5;124;43msavee_preprocessed/Results/savee_mfcc_noaugmentation_ca.h5\u001b[39;49m\u001b[38;5;124;43m\"\u001b[39;49m\u001b[43m)\u001b[49m\n",
      "\n",
      "File \u001b[0;32m~/miniforge3/envs/minmin/lib/python3.10/site-packages/keras/src/utils/traceback_utils.py:122\u001b[0m, in \u001b[0;36mfilter_traceback.<locals>.error_handler\u001b[0;34m(*args, **kwargs)\u001b[0m\n",
      "\u001b[1;32m    119\u001b[0m     filtered_tb \u001b[38;5;241m=\u001b[39m _process_traceback_frames(e\u001b[38;5;241m.\u001b[39m__traceback__)\n",
      "\u001b[1;32m    120\u001b[0m     \u001b[38;5;66;03m# To get the full stack trace, call:\u001b[39;00m\n",
      "\u001b[1;32m    121\u001b[0m     \u001b[38;5;66;03m# `keras.config.disable_traceback_filtering()`\u001b[39;00m\n",
      "\u001b[0;32m--> 122\u001b[0m     \u001b[38;5;28;01mraise\u001b[39;00m e\u001b[38;5;241m.\u001b[39mwith_traceback(filtered_tb) \u001b[38;5;28;01mfrom\u001b[39;00m \u001b[38;5;28;01mNone\u001b[39;00m\n",
      "\u001b[1;32m    123\u001b[0m \u001b[38;5;28;01mfinally\u001b[39;00m:\n",
      "\u001b[1;32m    124\u001b[0m     \u001b[38;5;28;01mdel\u001b[39;00m filtered_tb\n",
      "\n",
      "File \u001b[0;32m~/miniforge3/envs/minmin/lib/python3.10/site-packages/h5py/_hl/group.py:183\u001b[0m, in \u001b[0;36mGroup.create_dataset\u001b[0;34m(self, name, shape, dtype, data, **kwds)\u001b[0m\n",
      "\u001b[1;32m    180\u001b[0m         parent_path, name \u001b[38;5;241m=\u001b[39m name\u001b[38;5;241m.\u001b[39mrsplit(\u001b[38;5;124mb\u001b[39m\u001b[38;5;124m'\u001b[39m\u001b[38;5;124m/\u001b[39m\u001b[38;5;124m'\u001b[39m, \u001b[38;5;241m1\u001b[39m)\n",
      "\u001b[1;32m    181\u001b[0m         group \u001b[38;5;241m=\u001b[39m \u001b[38;5;28mself\u001b[39m\u001b[38;5;241m.\u001b[39mrequire_group(parent_path)\n",
      "\u001b[0;32m--> 183\u001b[0m dsid \u001b[38;5;241m=\u001b[39m \u001b[43mdataset\u001b[49m\u001b[38;5;241;43m.\u001b[39;49m\u001b[43mmake_new_dset\u001b[49m\u001b[43m(\u001b[49m\u001b[43mgroup\u001b[49m\u001b[43m,\u001b[49m\u001b[43m \u001b[49m\u001b[43mshape\u001b[49m\u001b[43m,\u001b[49m\u001b[43m \u001b[49m\u001b[43mdtype\u001b[49m\u001b[43m,\u001b[49m\u001b[43m \u001b[49m\u001b[43mdata\u001b[49m\u001b[43m,\u001b[49m\u001b[43m \u001b[49m\u001b[43mname\u001b[49m\u001b[43m,\u001b[49m\u001b[43m \u001b[49m\u001b[38;5;241;43m*\u001b[39;49m\u001b[38;5;241;43m*\u001b[39;49m\u001b[43mkwds\u001b[49m\u001b[43m)\u001b[49m\n",
      "\u001b[1;32m    184\u001b[0m dset \u001b[38;5;241m=\u001b[39m dataset\u001b[38;5;241m.\u001b[39mDataset(dsid)\n",
      "\u001b[1;32m    185\u001b[0m \u001b[38;5;28;01mreturn\u001b[39;00m dset\n",
      "\n",
      "File \u001b[0;32m~/miniforge3/envs/minmin/lib/python3.10/site-packages/h5py/_hl/dataset.py:163\u001b[0m, in \u001b[0;36mmake_new_dset\u001b[0;34m(parent, shape, dtype, data, name, chunks, compression, shuffle, fletcher32, maxshape, compression_opts, fillvalue, scaleoffset, track_times, external, track_order, dcpl, dapl, efile_prefix, virtual_prefix, allow_unknown_filter, rdcc_nslots, rdcc_nbytes, rdcc_w0)\u001b[0m\n",
      "\u001b[1;32m    160\u001b[0m \u001b[38;5;28;01melse\u001b[39;00m:\n",
      "\u001b[1;32m    161\u001b[0m     sid \u001b[38;5;241m=\u001b[39m h5s\u001b[38;5;241m.\u001b[39mcreate_simple(shape, maxshape)\n",
      "\u001b[0;32m--> 163\u001b[0m dset_id \u001b[38;5;241m=\u001b[39m \u001b[43mh5d\u001b[49m\u001b[38;5;241;43m.\u001b[39;49m\u001b[43mcreate\u001b[49m\u001b[43m(\u001b[49m\u001b[43mparent\u001b[49m\u001b[38;5;241;43m.\u001b[39;49m\u001b[43mid\u001b[49m\u001b[43m,\u001b[49m\u001b[43m \u001b[49m\u001b[43mname\u001b[49m\u001b[43m,\u001b[49m\u001b[43m \u001b[49m\u001b[43mtid\u001b[49m\u001b[43m,\u001b[49m\u001b[43m \u001b[49m\u001b[43msid\u001b[49m\u001b[43m,\u001b[49m\u001b[43m \u001b[49m\u001b[43mdcpl\u001b[49m\u001b[38;5;241;43m=\u001b[39;49m\u001b[43mdcpl\u001b[49m\u001b[43m,\u001b[49m\u001b[43m \u001b[49m\u001b[43mdapl\u001b[49m\u001b[38;5;241;43m=\u001b[39;49m\u001b[43mdapl\u001b[49m\u001b[43m)\u001b[49m\n",
      "\u001b[1;32m    165\u001b[0m \u001b[38;5;28;01mif\u001b[39;00m (data \u001b[38;5;129;01mis\u001b[39;00m \u001b[38;5;129;01mnot\u001b[39;00m \u001b[38;5;28;01mNone\u001b[39;00m) \u001b[38;5;129;01mand\u001b[39;00m (\u001b[38;5;129;01mnot\u001b[39;00m \u001b[38;5;28misinstance\u001b[39m(data, Empty)):\n",
      "\u001b[1;32m    166\u001b[0m     dset_id\u001b[38;5;241m.\u001b[39mwrite(h5s\u001b[38;5;241m.\u001b[39mALL, h5s\u001b[38;5;241m.\u001b[39mALL, data)\n",
      "\n",
      "File \u001b[0;32mh5py/_objects.pyx:54\u001b[0m, in \u001b[0;36mh5py._objects.with_phil.wrapper\u001b[0;34m()\u001b[0m\n",
      "\n",
      "File \u001b[0;32mh5py/_objects.pyx:55\u001b[0m, in \u001b[0;36mh5py._objects.with_phil.wrapper\u001b[0;34m()\u001b[0m\n",
      "\n",
      "File \u001b[0;32mh5py/h5d.pyx:137\u001b[0m, in \u001b[0;36mh5py.h5d.create\u001b[0;34m()\u001b[0m\n",
      "\n",
      "\u001b[0;31mValueError\u001b[0m: Unable to synchronously create dataset (name already exists)"
     ]
    }
   ],
   "source": [
    "model.save(\"savee_preprocessed/Results/savee_mfcc_noaugmentation_ca.h5\")"
   ]
  },
  {
   "cell_type": "code",
   "execution_count": null,
   "metadata": {},
   "outputs": [],
   "source": []
  },
  {
   "cell_type": "code",
   "execution_count": null,
   "metadata": {},
   "outputs": [],
   "source": []
  },
  {
   "cell_type": "code",
   "execution_count": null,
   "metadata": {},
   "outputs": [],
   "source": []
  }
 ],
 "metadata": {
  "kaggle": {
   "accelerator": "nvidiaTeslaT4",
   "dataSources": [
    {
     "datasetId": 107620,
     "sourceId": 256618,
     "sourceType": "datasetVersion"
    },
    {
     "datasetId": 316368,
     "sourceId": 639622,
     "sourceType": "datasetVersion"
    },
    {
     "datasetId": 325566,
     "sourceId": 653195,
     "sourceType": "datasetVersion"
    },
    {
     "datasetId": 338555,
     "sourceId": 671851,
     "sourceType": "datasetVersion"
    },
    {
     "datasetId": 3468263,
     "sourceId": 6060815,
     "sourceType": "datasetVersion"
    }
   ],
   "dockerImageVersionId": 30381,
   "isGpuEnabled": true,
   "isInternetEnabled": true,
   "language": "python",
   "sourceType": "notebook"
  },
  "kernelspec": {
   "display_name": "Python 3",
   "language": "python",
   "name": "python3"
  },
  "language_info": {
   "codemirror_mode": {
    "name": "ipython",
    "version": 3
   },
   "file_extension": ".py",
   "mimetype": "text/x-python",
   "name": "python",
   "nbconvert_exporter": "python",
   "pygments_lexer": "ipython3",
   "version": "3.10.14"
  }
 },
 "nbformat": 4,
 "nbformat_minor": 4
}
